{
 "cells": [
  {
   "attachments": {},
   "cell_type": "markdown",
   "metadata": {},
   "source": [
    "# cKDTree test code\n",
    "\n",
    "Test implementation of cKDTree to compute the difference between a point and its nearest neighbors."
   ]
  },
  {
   "cell_type": "code",
   "execution_count": 25,
   "metadata": {},
   "outputs": [],
   "source": [
    "from scipy.spatial import cKDTree\n",
    "import numpy as np\n",
    "import pandas as pd\n",
    "import xarray as xr\n",
    "from pathlib import Path\n",
    "import re"
   ]
  },
  {
   "cell_type": "code",
   "execution_count": 23,
   "metadata": {},
   "outputs": [],
   "source": [
    "def read_file(file_path):\n",
    "    with open(file_path, 'r') as f:\n",
    "        data = []\n",
    "        for n,line in enumerate(f,1):\n",
    "            if n==1:\n",
    "                line = line.strip()\n",
    "                line = re.findall(r'\"[^\"]*\"', line) # get ['\"var_name1\"', '\"var_name2\"', ...]\n",
    "                column_labels = [var_name.replace('\"','') for var_name in line]\n",
    "            elif n==2:\n",
    "                continue\n",
    "            else:\n",
    "                data_line = [eval(data) for data in line.split()]\n",
    "                if len(data_line)==4:\n",
    "                    break\n",
    "                data.append(data_line)\n",
    "    return pd.DataFrame(data, columns=column_labels)"
   ]
  },
  {
   "cell_type": "code",
   "execution_count": 22,
   "metadata": {},
   "outputs": [],
   "source": [
    "file = Path('/Users/jarl/2d-discharge-nn/data/avg_data/200Vpp_100Pa_node.dat')"
   ]
  },
  {
   "cell_type": "code",
   "execution_count": 29,
   "metadata": {},
   "outputs": [
    {
     "data": {
      "text/html": [
       "<div>\n",
       "<style scoped>\n",
       "    .dataframe tbody tr th:only-of-type {\n",
       "        vertical-align: middle;\n",
       "    }\n",
       "\n",
       "    .dataframe tbody tr th {\n",
       "        vertical-align: top;\n",
       "    }\n",
       "\n",
       "    .dataframe thead th {\n",
       "        text-align: right;\n",
       "    }\n",
       "</style>\n",
       "<table border=\"1\" class=\"dataframe\">\n",
       "  <thead>\n",
       "    <tr style=\"text-align: right;\">\n",
       "      <th></th>\n",
       "      <th>X</th>\n",
       "      <th>Y</th>\n",
       "      <th>potential (V)</th>\n",
       "    </tr>\n",
       "  </thead>\n",
       "  <tbody>\n",
       "    <tr>\n",
       "      <th>0</th>\n",
       "      <td>0.182960</td>\n",
       "      <td>0.259570</td>\n",
       "      <td>17.4177</td>\n",
       "    </tr>\n",
       "    <tr>\n",
       "      <th>1</th>\n",
       "      <td>0.172908</td>\n",
       "      <td>0.266347</td>\n",
       "      <td>27.8613</td>\n",
       "    </tr>\n",
       "    <tr>\n",
       "      <th>2</th>\n",
       "      <td>0.173172</td>\n",
       "      <td>0.254322</td>\n",
       "      <td>18.8931</td>\n",
       "    </tr>\n",
       "    <tr>\n",
       "      <th>3</th>\n",
       "      <td>0.176840</td>\n",
       "      <td>0.246447</td>\n",
       "      <td>11.5936</td>\n",
       "    </tr>\n",
       "    <tr>\n",
       "      <th>4</th>\n",
       "      <td>0.170305</td>\n",
       "      <td>0.246504</td>\n",
       "      <td>13.0860</td>\n",
       "    </tr>\n",
       "  </tbody>\n",
       "</table>\n",
       "</div>"
      ],
      "text/plain": [
       "          X         Y  potential (V)\n",
       "0  0.182960  0.259570        17.4177\n",
       "1  0.172908  0.266347        27.8613\n",
       "2  0.173172  0.254322        18.8931\n",
       "3  0.176840  0.246447        11.5936\n",
       "4  0.170305  0.246504        13.0860"
      ]
     },
     "execution_count": 29,
     "metadata": {},
     "output_type": "execute_result"
    }
   ],
   "source": [
    "df = read_file(file)[['X', 'Y', 'potential (V)']]\n",
    "df.head()"
   ]
  },
  {
   "cell_type": "code",
   "execution_count": 31,
   "metadata": {},
   "outputs": [],
   "source": [
    "X = df.X.to_numpy()  # units: m\n",
    "Y = df.Y.to_numpy()"
   ]
  },
  {
   "cell_type": "code",
   "execution_count": null,
   "metadata": {},
   "outputs": [],
   "source": []
  }
 ],
 "metadata": {
  "kernelspec": {
   "display_name": "base",
   "language": "python",
   "name": "python3"
  },
  "language_info": {
   "codemirror_mode": {
    "name": "ipython",
    "version": 3
   },
   "file_extension": ".py",
   "mimetype": "text/x-python",
   "name": "python",
   "nbconvert_exporter": "python",
   "pygments_lexer": "ipython3",
   "version": "3.9.15"
  },
  "orig_nbformat": 4,
  "vscode": {
   "interpreter": {
    "hash": "c3d6562d5f8e2b3bba3f386c856a69418c7e965006f02cb59ad010a17d031ed3"
   }
  }
 },
 "nbformat": 4,
 "nbformat_minor": 2
}
