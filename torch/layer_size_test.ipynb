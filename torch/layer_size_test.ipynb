{
 "cells": [
  {
   "cell_type": "code",
   "execution_count": 3,
   "metadata": {},
   "outputs": [],
   "source": [
    "# layer size test\n",
    "\n",
    "import torch\n",
    "from torchinfo import summary\n",
    "import torch.nn as nn\n",
    "import torchvision"
   ]
  },
  {
   "cell_type": "code",
   "execution_count": 26,
   "metadata": {},
   "outputs": [],
   "source": [
    "class A64_8(nn.Module):\n",
    "    \"\"\"A64_6 with larger input kernels\n",
    "    \n",
    "    Input sizes are (5, 64, 64).\n",
    "    \"\"\"\n",
    "    def __init__(self) -> None:\n",
    "        super(A64_8, self).__init__()\n",
    "        self.encoder = nn.Sequential(\n",
    "            nn.Conv2d(5, 10, kernel_size=9, stride=2, padding=4),\n",
    "            nn.ReLU(),\n",
    "\n",
    "            nn.Conv2d(10, 20, kernel_size=5, stride=2, padding=2),\n",
    "            nn.ReLU(),\n",
    "\n",
    "            nn.Conv2d(20, 40, kernel_size=3, stride=2, padding=1),\n",
    "            nn.ReLU(),\n",
    "        )\n",
    "\n",
    "        self.decoder = nn.Sequential(\n",
    "            nn.UpsamplingBilinear2d(scale_factor=2),\n",
    "            nn.Conv2d(40, 40, kernel_size=3, padding=1, stride=1),\n",
    "            nn.ReLU(),\n",
    "\n",
    "            nn.UpsamplingBilinear2d(scale_factor=2),\n",
    "            nn.Conv2d(40, 20, kernel_size=5, padding=2, stride=1),\n",
    "            nn.ReLU(),\n",
    "\n",
    "            nn.UpsamplingBilinear2d(scale_factor=2),\n",
    "            nn.Conv2d(20, 10, kernel_size=(3, 3), padding=1, stride=1),\n",
    "            nn.ReLU(),\n",
    "\n",
    "            nn.Conv2d(10, 5, kernel_size=1, stride=1),\n",
    "            nn.ReLU()\n",
    "\n",
    "            # checkerboard patterns: https://distill.pub/2016/deconv-checkerboard/\n",
    "            # 1. subpixel convolution: use a kernel size that is divisible by the stride to avoid \n",
    "            #       the overlap issue\n",
    "            # 2. separate out the upsampling from the convolution to compute features\n",
    "            #       for example, you might resize the image (using nearest neighbor ! or bilinear interpolation)\n",
    "            #       and then do a convolutional layer (resize-convolution is implicityly weight-tying in \n",
    "            #       a way that discourages high frequency artifacts)\n",
    "            #       TRY: torch.nn.Upsample('https://pytorch.org/docs/stable/generated/torch.nn.Upsample.html)\n",
    "        )\n",
    "\n",
    "    def forward(self, x):\n",
    "        encoded = self.encoder(x)\n",
    "        decoded = self.decoder(encoded)\n",
    "        decoded = torchvision.transforms.functional.crop(\n",
    "            decoded, 0, 0, 64, 64)\n",
    "        return decoded"
   ]
  },
  {
   "cell_type": "code",
   "execution_count": 27,
   "metadata": {},
   "outputs": [
    {
     "data": {
      "text/plain": [
       "==========================================================================================\n",
       "Layer (type:depth-idx)                   Output Shape              Param #\n",
       "==========================================================================================\n",
       "Sequential                               [1, 5, 64, 64]            --\n",
       "├─UpsamplingBilinear2d: 1-1              [1, 40, 16, 16]           --\n",
       "├─Conv2d: 1-2                            [1, 40, 16, 16]           14,440\n",
       "├─ReLU: 1-3                              [1, 40, 16, 16]           --\n",
       "├─UpsamplingBilinear2d: 1-4              [1, 40, 32, 32]           --\n",
       "├─Conv2d: 1-5                            [1, 20, 32, 32]           20,020\n",
       "├─ReLU: 1-6                              [1, 20, 32, 32]           --\n",
       "├─UpsamplingBilinear2d: 1-7              [1, 20, 64, 64]           --\n",
       "├─Conv2d: 1-8                            [1, 10, 64, 64]           1,810\n",
       "├─ReLU: 1-9                              [1, 10, 64, 64]           --\n",
       "├─Conv2d: 1-10                           [1, 5, 64, 64]            55\n",
       "├─ReLU: 1-11                             [1, 5, 64, 64]            --\n",
       "==========================================================================================\n",
       "Total params: 36,325\n",
       "Trainable params: 36,325\n",
       "Non-trainable params: 0\n",
       "Total mult-adds (M): 31.84\n",
       "==========================================================================================\n",
       "Input size (MB): 0.01\n",
       "Forward/backward pass size (MB): 0.74\n",
       "Params size (MB): 0.15\n",
       "Estimated Total Size (MB): 0.89\n",
       "=========================================================================================="
      ]
     },
     "execution_count": 27,
     "metadata": {},
     "output_type": "execute_result"
    }
   ],
   "source": [
    "model = A64_8()\n",
    "summary(model.decoder, input_size=(1, 40, 8, 8))"
   ]
  },
  {
   "cell_type": "code",
   "execution_count": 24,
   "metadata": {},
   "outputs": [
    {
     "data": {
      "text/plain": [
       "==========================================================================================\n",
       "Layer (type:depth-idx)                   Output Shape              Param #\n",
       "==========================================================================================\n",
       "Sequential                               [1, 40, 8, 8]             --\n",
       "├─Conv2d: 1-1                            [1, 10, 32, 32]           4,060\n",
       "├─ReLU: 1-2                              [1, 10, 32, 32]           --\n",
       "├─Conv2d: 1-3                            [1, 20, 16, 16]           5,020\n",
       "├─ReLU: 1-4                              [1, 20, 16, 16]           --\n",
       "├─Conv2d: 1-5                            [1, 40, 8, 8]             7,240\n",
       "├─ReLU: 1-6                              [1, 40, 8, 8]             --\n",
       "==========================================================================================\n",
       "Total params: 16,320\n",
       "Trainable params: 16,320\n",
       "Non-trainable params: 0\n",
       "Total mult-adds (M): 5.91\n",
       "==========================================================================================\n",
       "Input size (MB): 0.08\n",
       "Forward/backward pass size (MB): 0.14\n",
       "Params size (MB): 0.07\n",
       "Estimated Total Size (MB): 0.29\n",
       "=========================================================================================="
      ]
     },
     "execution_count": 24,
     "metadata": {},
     "output_type": "execute_result"
    }
   ],
   "source": [
    "model = A64_8()\n",
    "summary(model.encoder, input_size=(1, 5, 64, 64))"
   ]
  },
  {
   "cell_type": "code",
   "execution_count": null,
   "metadata": {},
   "outputs": [],
   "source": []
  }
 ],
 "metadata": {
  "kernelspec": {
   "display_name": "torch",
   "language": "python",
   "name": "python3"
  },
  "language_info": {
   "codemirror_mode": {
    "name": "ipython",
    "version": 3
   },
   "file_extension": ".py",
   "mimetype": "text/x-python",
   "name": "python",
   "nbconvert_exporter": "python",
   "pygments_lexer": "ipython3",
   "version": "3.10.9"
  }
 },
 "nbformat": 4,
 "nbformat_minor": 2
}
