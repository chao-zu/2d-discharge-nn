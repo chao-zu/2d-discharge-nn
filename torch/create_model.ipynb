{
 "cells": [
  {
   "cell_type": "code",
   "execution_count": 7,
   "metadata": {},
   "outputs": [],
   "source": [
    "import torch\n",
    "import torch.nn as nn\n",
    "import torch.nn.functional as F\n",
    "import torch.optim as optim\n",
    "from torch.utils.data import TensorDataset, DataLoader\n",
    "\n",
    "import numpy as np\n",
    "import pandas as pd\n",
    "from sklearn.model_selection import train_test_split\n",
    "from tqdm import tqdm"
   ]
  },
  {
   "attachments": {},
   "cell_type": "markdown",
   "metadata": {},
   "source": [
    "## Create the model\n",
    "\n",
    "Notebook to test stuff in PyTorch. "
   ]
  },
  {
   "cell_type": "code",
   "execution_count": 2,
   "metadata": {},
   "outputs": [],
   "source": [
    "class MLP(nn.Module):\n",
    "    def __init__(self, name, input_size, output_size) -> None:\n",
    "        super(MLP, self).__init__()\n",
    "        self.name = name\n",
    "        self.input_size = input_size\n",
    "        self.output_size = output_size\n",
    "        self.fc1 = nn.Linear(input_size, 115)  # linear: y = Ax + b\n",
    "        self.fc2 = nn.Linear(115, 78)\n",
    "        self.fc3 = nn.Linear(78, 26)\n",
    "        self.fc4 = nn.Linear(26, 46)\n",
    "        self.fc5 = nn.Linear(46, 82)\n",
    "        self.fc6 = nn.Linear(82, 106)\n",
    "        self.fc7 = nn.Linear(106, output_size)\n",
    "        \n",
    "    def forward(self, x):\n",
    "        x = self.fc1(x)\n",
    "        x = F.relu(x)\n",
    "        x = self.fc2(x)\n",
    "        x = F.relu(x)\n",
    "        x = self.fc3(x)\n",
    "        x = F.relu(x)\n",
    "        x = self.fc4(x)\n",
    "        x = F.relu(x)\n",
    "        x = self.fc5(x)\n",
    "        x = F.relu(x)\n",
    "        x = self.fc6(x)\n",
    "        x = F.relu(x)\n",
    "        x = self.fc7(x)\n",
    "        \n",
    "        output = x = F.relu(x)\n",
    "        return output\n"
   ]
  },
  {
   "attachments": {},
   "cell_type": "markdown",
   "metadata": {},
   "source": [
    "Generate fake data (to be replaced with the actual get data functions)"
   ]
  },
  {
   "cell_type": "code",
   "execution_count": 3,
   "metadata": {},
   "outputs": [],
   "source": [
    "features = np.random.rand(128, 4)  # 4 dimensional features\n",
    "labels = np.random.rand(128, 5)  # 5 dimensional labels"
   ]
  },
  {
   "cell_type": "code",
   "execution_count": 4,
   "metadata": {},
   "outputs": [],
   "source": [
    "features = torch.FloatTensor(features)\n",
    "labels = torch.FloatTensor(labels)"
   ]
  },
  {
   "cell_type": "code",
   "execution_count": 5,
   "metadata": {},
   "outputs": [],
   "source": [
    "model = MLP('M502', 4, 5)\n",
    "criterion = nn.MSELoss()\n",
    "optimizer = optim.Adam(model.parameters(), lr=0.001)"
   ]
  },
  {
   "attachments": {},
   "cell_type": "markdown",
   "metadata": {},
   "source": [
    "## Preparing your data for training with DataLoaders\n",
    "\n",
    "The `Dataset` retrieves our dataset’s features and labels one sample at a time. While training a model, we typically want to pass samples in “minibatches”, reshuffle the data at every epoch to reduce model overfitting, and use Python’s `multiprocessing` to speed up data retrieval.\n",
    "\n",
    "`DataLoader` is an iterable that abstracts this complexity for us in an easy API.\n",
    "\n",
    "```\n",
    "from torch.utils.data import DataLoader\n",
    "\n",
    "train_dataloader = DataLoader(training_data, batch_size=64, shuffle=True)\n",
    "test_dataloader = DataLoader(test_data, batch_size=64, shuffle=True)\n",
    "```"
   ]
  },
  {
   "cell_type": "code",
   "execution_count": 10,
   "metadata": {},
   "outputs": [],
   "source": [
    "dataset = TensorDataset(features, labels)\n",
    "trainloader = DataLoader(dataset, batch_size=32, shuffle=True)"
   ]
  },
  {
   "cell_type": "code",
   "execution_count": 17,
   "metadata": {},
   "outputs": [
    {
     "name": "stderr",
     "output_type": "stream",
     "text": [
      "Epoch 0/20: 100%|██████████| 4/4 [00:00<00:00, 32.43it/s, loss=0.145]\n",
      "Epoch 1/20: 100%|██████████| 4/4 [00:00<00:00, 93.71it/s, loss=0.132]\n",
      "Epoch 2/20: 100%|██████████| 4/4 [00:00<00:00, 42.62it/s, loss=0.106]\n",
      "Epoch 3/20: 100%|██████████| 4/4 [00:00<00:00, 92.57it/s, loss=0.144]\n",
      "Epoch 4/20: 100%|██████████| 4/4 [00:00<00:00, 98.40it/s, loss=0.145]\n",
      "Epoch 5/20: 100%|██████████| 4/4 [00:00<00:00, 35.21it/s, loss=0.128]\n",
      "Epoch 6/20: 100%|██████████| 4/4 [00:00<00:00, 84.97it/s, loss=0.14]\n",
      "Epoch 7/20: 100%|██████████| 4/4 [00:00<00:00, 125.57it/s, loss=0.146]\n",
      "Epoch 8/20: 100%|██████████| 4/4 [00:00<00:00, 135.07it/s, loss=0.119]\n",
      "Epoch 9/20: 100%|██████████| 4/4 [00:00<00:00, 40.81it/s, loss=0.136]\n",
      "Epoch 10/20: 100%|██████████| 4/4 [00:00<00:00, 95.28it/s, loss=0.139]\n",
      "Epoch 11/20: 100%|██████████| 4/4 [00:00<00:00, 133.99it/s, loss=0.143]\n",
      "Epoch 12/20: 100%|██████████| 4/4 [00:00<00:00, 106.68it/s, loss=0.121]\n",
      "Epoch 13/20: 100%|██████████| 4/4 [00:00<00:00, 115.95it/s, loss=0.127]\n",
      "Epoch 14/20: 100%|██████████| 4/4 [00:00<00:00, 41.99it/s, loss=0.117]\n",
      "Epoch 15/20: 100%|██████████| 4/4 [00:00<00:00, 110.58it/s, loss=0.124]\n",
      "Epoch 16/20: 100%|██████████| 4/4 [00:00<00:00, 123.29it/s, loss=0.128]\n",
      "Epoch 17/20: 100%|██████████| 4/4 [00:00<00:00, 115.24it/s, loss=0.136]\n",
      "Epoch 18/20: 100%|██████████| 4/4 [00:00<00:00, 143.27it/s, loss=0.143]\n",
      "Epoch 19/20: 100%|██████████| 4/4 [00:00<00:00, 106.53it/s, loss=0.138]\n",
      "100%|██████████| 20/20 [00:01<00:00, 17.57it/s]\n"
     ]
    },
    {
     "name": "stdout",
     "output_type": "stream",
     "text": [
      "Finished training\n",
      "[0.14540860056877136, 0.1318661868572235, 0.1057579517364502, 0.14405135810375214, 0.14463591575622559, 0.1278773993253708, 0.13984230160713196, 0.14570480585098267, 0.11914557218551636, 0.13593044877052307, 0.139154314994812, 0.14343319833278656, 0.12108955532312393, 0.12703101336956024, 0.11688075214624405, 0.1244545578956604, 0.12813842296600342, 0.1361343115568161, 0.14333157241344452, 0.13820573687553406]\n"
     ]
    }
   ],
   "source": [
    "from tqdm import trange\n",
    "model.train()\n",
    "epochs = 20\n",
    "batch_size = 32\n",
    "\n",
    "epoch_loss = []\n",
    "\n",
    "for epoch in trange(epochs):\n",
    "\n",
    "    loop = tqdm(trainloader)\n",
    "    running_loss = 0.0\n",
    "\n",
    "    for i, batch_data in enumerate(loop):\n",
    "        # get the inputs; data is a list of [inputs, labels]\n",
    "        inputs, labels = batch_data\n",
    "\n",
    "        # zero the parameter gradients\n",
    "        optimizer.zero_grad()\n",
    "\n",
    "        # forward + backward + optimize\n",
    "        outputs = model(inputs)\n",
    "        loss = criterion(outputs, labels)\n",
    "        loss.backward()\n",
    "        optimizer.step()\n",
    "\n",
    "        # print statistics\n",
    "        running_loss += loss.item()\n",
    "        loop.set_postfix(loss=running_loss, epoch_loss=loss.item())\n",
    "        loop.set_description(f'Epoch {epoch}/{epochs}')\n",
    "        loop.set_postfix(loss=running_loss)\n",
    "                \n",
    "        running_loss = 0.0\n",
    "    epoch_loss.append(loss.item())\n",
    "\n",
    "\n",
    "print('Finished training')\n",
    "print(epoch_loss)"
   ]
  },
  {
   "cell_type": "code",
   "execution_count": 19,
   "metadata": {},
   "outputs": [
    {
     "data": {
      "image/png": "[encoded data removed]",
      "text/plain": [
       "<Figure size 640x480 with 1 Axes>"
      ]
     },
     "metadata": {},
     "output_type": "display_data"
    }
   ],
   "source": [
    "import matplotlib.pyplot as plt\n",
    "\n",
    "fig, ax = plt.subplots()\n",
    "ax.plot(epoch_loss, c='r')\n",
    "ax.grid()"
   ]
  },
  {
   "cell_type": "markdown",
   "metadata": {},
   "source": []
  }
 ],
 "metadata": {
  "kernelspec": {
   "display_name": "torch",
   "language": "python",
   "name": "python3"
  },
  "language_info": {
   "codemirror_mode": {
    "name": "ipython",
    "version": 3
   },
   "file_extension": ".py",
   "mimetype": "text/x-python",
   "name": "python",
   "nbconvert_exporter": "python",
   "pygments_lexer": "ipython3",
   "version": "3.10.9"
  },
  "orig_nbformat": 4,
  "vscode": {
   "interpreter": {
    "hash": "991052e413bb80d7e532c4cba803088624a0d12cdcb58fca553b76858b408112"
   }
  }
 },
 "nbformat": 4,
 "nbformat_minor": 2
}
