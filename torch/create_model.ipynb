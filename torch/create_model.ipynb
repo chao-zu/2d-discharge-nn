{
 "cells": [
  {
   "cell_type": "code",
   "execution_count": 29,
   "metadata": {},
   "outputs": [],
   "source": [
    "import torch\n",
    "import torch.nn.functional as F\n",
    "import numpy as np\n",
    "import pandas as pd\n",
    "from sklearn.model_selection import train_test_split\n",
    "from tqdm import tqdm"
   ]
  },
  {
   "attachments": {},
   "cell_type": "markdown",
   "metadata": {},
   "source": [
    "## Create the model"
   ]
  },
  {
   "cell_type": "code",
   "execution_count": 33,
   "metadata": {},
   "outputs": [],
   "source": [
    "class MLP(torch.nn.Module):\n",
    "    def __init__(self, name, input_size, output_size) -> None:\n",
    "        super(MLP, self).__init__()\n",
    "        self.name = name\n",
    "        self.input_size = input_size\n",
    "        self.output_size = output_size\n",
    "        self.fc1 = torch.nn.Linear(input_size, 115)  # linear: y = Ax + b\n",
    "        self.fc2 = torch.nn.Linear(115, 78)\n",
    "        self.fc3 = torch.nn.Linear(78, 26)\n",
    "        self.fc4 = torch.nn.Linear(26, 46)\n",
    "        self.fc5 = torch.nn.Linear(46, 82)\n",
    "        self.fc6 = torch.nn.Linear(82, 106)\n",
    "        self.fc7 = torch.nn.Linear(106, output_size)\n",
    "           \n",
    "    def forward(self, x):\n",
    "        x = self.fc1(x)\n",
    "        x = F.relu(x)\n",
    "        x = self.fc2(x)\n",
    "        x = F.relu(x)\n",
    "        x = self.fc3(x)\n",
    "        x = F.relu(x)\n",
    "        x = self.fc4(x)\n",
    "        x = F.relu(x)\n",
    "        x = self.fc5(x)\n",
    "        x = F.relu(x)\n",
    "        x = self.fc6(x)\n",
    "        x = F.relu(x)\n",
    "        x = self.fc7(x)\n",
    "        \n",
    "        output = x = F.relu(x)\n",
    "        return output\n"
   ]
  },
  {
   "attachments": {},
   "cell_type": "markdown",
   "metadata": {},
   "source": [
    "Generate fake data (to be replaced with the actual get data functions)"
   ]
  },
  {
   "cell_type": "code",
   "execution_count": 15,
   "metadata": {},
   "outputs": [],
   "source": [
    "features = np.random.rand(128, 4)  # 4 dimensional features\n",
    "labels = np.random.rand(128, 5)  # 5 dimensional labels"
   ]
  },
  {
   "cell_type": "code",
   "execution_count": 16,
   "metadata": {},
   "outputs": [],
   "source": [
    "features = torch.FloatTensor(features)\n",
    "labels = torch.FloatTensor(labels)"
   ]
  },
  {
   "cell_type": "code",
   "execution_count": 34,
   "metadata": {},
   "outputs": [],
   "source": [
    "model = MLP('M502', 4, 5)\n",
    "criterion = torch.nn.MSELoss()\n",
    "optimizer = torch.optim.Adam(model.parameters(), lr=0.001)"
   ]
  },
  {
   "cell_type": "code",
   "execution_count": 37,
   "metadata": {},
   "outputs": [
    {
     "name": "stderr",
     "output_type": "stream",
     "text": [
      "100%|██████████| 20/20 [00:00<00:00, 1015.79it/s]"
     ]
    },
    {
     "name": "stdout",
     "output_type": "stream",
     "text": [
      "Epoch 0: train loss: 0.3027854561805725\n",
      "Epoch 1: train loss: 0.2993829846382141\n",
      "Epoch 2: train loss: 0.2959561049938202\n",
      "Epoch 3: train loss: 0.2925851345062256\n",
      "Epoch 4: train loss: 0.28922849893569946\n",
      "Epoch 5: train loss: 0.2858837842941284\n",
      "Epoch 6: train loss: 0.2826099693775177\n",
      "Epoch 7: train loss: 0.2795444130897522\n",
      "Epoch 8: train loss: 0.276917040348053\n",
      "Epoch 9: train loss: 0.2750348448753357\n",
      "Epoch 10: train loss: 0.27419230341911316\n",
      "Epoch 11: train loss: 0.27469995617866516\n",
      "Epoch 12: train loss: 0.2762308716773987\n",
      "Epoch 13: train loss: 0.27751797437667847\n",
      "Epoch 14: train loss: 0.2778310477733612\n",
      "Epoch 15: train loss: 0.27729105949401855\n",
      "Epoch 16: train loss: 0.2763505280017853\n",
      "Epoch 17: train loss: 0.27540189027786255\n",
      "Epoch 18: train loss: 0.2746846377849579\n",
      "Epoch 19: train loss: 0.2742779552936554\n"
     ]
    },
    {
     "name": "stderr",
     "output_type": "stream",
     "text": [
      "\n"
     ]
    }
   ],
   "source": [
    "model.train()\n",
    "epoch = 20\n",
    "\n",
    "for epoch in tqdm(range(epoch)):\n",
    "    optimizer.zero_grad()\n",
    "\n",
    "    # forward pass\n",
    "    y_pred = model(features)\n",
    "\n",
    "    # compute loss\n",
    "    loss = criterion(y_pred, labels)\n",
    "\n",
    "    print(f'Epoch {epoch}: train loss: {loss.item()}')\n",
    "\n",
    "    # backward pass\n",
    "    loss.backward()\n",
    "    optimizer.step() # updated = old - learning_rate * gradient\n"
   ]
  }
 ],
 "metadata": {
  "kernelspec": {
   "display_name": "torch",
   "language": "python",
   "name": "python3"
  },
  "language_info": {
   "codemirror_mode": {
    "name": "ipython",
    "version": 3
   },
   "file_extension": ".py",
   "mimetype": "text/x-python",
   "name": "python",
   "nbconvert_exporter": "python",
   "pygments_lexer": "ipython3",
   "version": "3.10.9"
  },
  "orig_nbformat": 4,
  "vscode": {
   "interpreter": {
    "hash": "991052e413bb80d7e532c4cba803088624a0d12cdcb58fca553b76858b408112"
   }
  }
 },
 "nbformat": 4,
 "nbformat_minor": 2
}
