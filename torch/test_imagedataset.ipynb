{
 "cells": [
  {
   "cell_type": "code",
   "execution_count": 2,
   "metadata": {},
   "outputs": [],
   "source": [
    "import matplotlib.pyplot as plt\n",
    "import matplotlib.ticker as ticker\n",
    "from mpl_toolkits.axes_grid1 import ImageGrid\n",
    "from data_helpers import ImageDataset\n",
    "import numpy as np\n",
    "from pathlib import Path\n",
    "import cv2\n",
    "from plot import ae_correlation\n",
    "%matplotlib inline\n",
    "import torch"
   ]
  },
  {
   "cell_type": "code",
   "execution_count": 3,
   "metadata": {},
   "outputs": [
    {
     "data": {
      "text/plain": [
       "PosixPath('/Users/jarl/2d-discharge-nn')"
      ]
     },
     "execution_count": 3,
     "metadata": {},
     "output_type": "execute_result"
    }
   ],
   "source": [
    "root = Path.cwd().parents[0]\n",
    "root"
   ]
  },
  {
   "cell_type": "code",
   "execution_count": 4,
   "metadata": {},
   "outputs": [],
   "source": [
    "data_dir = root/'data'/'interpolation_datasets'"
   ]
  },
  {
   "cell_type": "code",
   "execution_count": 5,
   "metadata": {},
   "outputs": [],
   "source": [
    "test_features = data_dir/'backup'/'test_features.pt'\n",
    "features = torch.load(test_features)"
   ]
  },
  {
   "cell_type": "code",
   "execution_count": 6,
   "metadata": {},
   "outputs": [
    {
     "data": {
      "text/plain": [
       "(1, 5, 707, 200)"
      ]
     },
     "execution_count": 6,
     "metadata": {},
     "output_type": "execute_result"
    }
   ],
   "source": [
    "features.shape"
   ]
  },
  {
   "cell_type": "code",
   "execution_count": 7,
   "metadata": {},
   "outputs": [
    {
     "name": "stdout",
     "output_type": "stream",
     "text": [
      "-2.4075828e-17\n",
      "1.1491922\n",
      "\n",
      "\n",
      "-5.216035e-10\n",
      "6.600818\n",
      "\n",
      "\n",
      "0.0\n",
      "6.591332\n",
      "\n",
      "\n",
      "0.0\n",
      "16.372883\n",
      "\n",
      "\n",
      "0.0\n",
      "0.96838945\n",
      "\n",
      "\n"
     ]
    }
   ],
   "source": [
    "for i in range(5):\n",
    "    print(features[0, i, :, :].min())\n",
    "    print(features[0, i, :, :].max())\n",
    "    print('\\n')"
   ]
  },
  {
   "cell_type": "code",
   "execution_count": 8,
   "metadata": {},
   "outputs": [],
   "source": [
    "image_ds = ImageDataset(root/'data'/'interpolation_datasets', True)\n",
    "test_features, _ = image_ds.test"
   ]
  },
  {
   "cell_type": "code",
   "execution_count": 9,
   "metadata": {},
   "outputs": [
    {
     "name": "stdout",
     "output_type": "stream",
     "text": [
      "0.0\n",
      "1.1491922\n",
      "\n",
      "\n",
      "-3.158008e-10\n",
      "6.600818\n",
      "\n",
      "\n",
      "0.0\n",
      "6.591332\n",
      "\n",
      "\n",
      "0.0\n",
      "16.372883\n",
      "\n",
      "\n",
      "0.0\n",
      "0.96838945\n",
      "\n",
      "\n"
     ]
    }
   ],
   "source": [
    "for i in range(5):\n",
    "    print(test_features[0, i, :, :].min())\n",
    "    print(test_features[0, i, :, :].max())\n",
    "    print('\\n')"
   ]
  },
  {
   "cell_type": "code",
   "execution_count": null,
   "metadata": {},
   "outputs": [],
   "source": []
  }
 ],
 "metadata": {
  "kernelspec": {
   "display_name": "torch",
   "language": "python",
   "name": "python3"
  },
  "language_info": {
   "codemirror_mode": {
    "name": "ipython",
    "version": 3
   },
   "file_extension": ".py",
   "mimetype": "text/x-python",
   "name": "python",
   "nbconvert_exporter": "python",
   "pygments_lexer": "ipython3",
   "version": "3.10.9"
  },
  "orig_nbformat": 4
 },
 "nbformat": 4,
 "nbformat_minor": 2
}
