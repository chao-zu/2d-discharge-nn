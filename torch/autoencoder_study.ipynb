{
 "cells": [
  {
   "cell_type": "code",
   "execution_count": 1,
   "metadata": {},
   "outputs": [],
   "source": [
    "from pathlib import Path\n",
    "\n",
    "import matplotlib.pyplot as plt\n",
    "import numpy as np\n",
    "import pandas as pd\n",
    "import xarray as xr\n",
    "from tqdm.notebook import tqdm\n",
    "\n",
    "import torch\n",
    "import torch.nn as nn\n",
    "import torch.nn.functional as F\n",
    "import torch.optim as optim\n",
    "import torchvision\n",
    "from torch.utils.data import TensorDataset, DataLoader\n",
    "\n",
    "# from sklearn.metrics import accuracy_score, precision_score, recall_score\n",
    "from sklearn.model_selection import train_test_split\n",
    "from sklearn.preprocessing import MinMaxScaler"
   ]
  },
  {
   "cell_type": "code",
   "execution_count": 110,
   "metadata": {},
   "outputs": [
    {
     "data": {
      "text/plain": [
       "device(type='mps')"
      ]
     },
     "execution_count": 110,
     "metadata": {},
     "output_type": "execute_result"
    }
   ],
   "source": [
    "# set metal backend (apple socs)\n",
    "device = torch.device('mps' if torch.backends.mps.is_available() else 'cpu')\n",
    "device"
   ]
  },
  {
   "attachments": {},
   "cell_type": "markdown",
   "metadata": {},
   "source": [
    "## Using grid-interpolated dataset:\n",
    "\n",
    "Autoencoders use image data, so we need to use image datasets."
   ]
  },
  {
   "cell_type": "code",
   "execution_count": 2,
   "metadata": {},
   "outputs": [
    {
     "data": {
      "text/html": [
       "<div><svg style=\"position: absolute; width: 0; height: 0; overflow: hidden\">\n",
       "<defs>\n",
       "<symbol id=\"icon-database\" viewBox=\"0 0 32 32\">\n",
       "<path d=\"M16 0c-8.837 0-16 2.239-16 5v4c0 2.761 7.163 5 16 5s16-2.239 16-5v-4c0-2.761-7.163-5-16-5z\"></path>\n",
       "<path d=\"M16 17c-8.837 0-16-2.239-16-5v6c0 2.761 7.163 5 16 5s16-2.239 16-5v-6c0 2.761-7.163 5-16 5z\"></path>\n",
       "<path d=\"M16 26c-8.837 0-16-2.239-16-5v6c0 2.761 7.163 5 16 5s16-2.239 16-5v-6c0 2.761-7.163 5-16 5z\"></path>\n",
       "</symbol>\n",
       "<symbol id=\"icon-file-text2\" viewBox=\"0 0 32 32\">\n",
       "<path d=\"M28.681 7.159c-0.694-0.947-1.662-2.053-2.724-3.116s-2.169-2.030-3.116-2.724c-1.612-1.182-2.393-1.319-2.841-1.319h-15.5c-1.378 0-2.5 1.121-2.5 2.5v27c0 1.378 1.122 2.5 2.5 2.5h23c1.378 0 2.5-1.122 2.5-2.5v-19.5c0-0.448-0.137-1.23-1.319-2.841zM24.543 5.457c0.959 0.959 1.712 1.825 2.268 2.543h-4.811v-4.811c0.718 0.556 1.584 1.309 2.543 2.268zM28 29.5c0 0.271-0.229 0.5-0.5 0.5h-23c-0.271 0-0.5-0.229-0.5-0.5v-27c0-0.271 0.229-0.5 0.5-0.5 0 0 15.499-0 15.5 0v7c0 0.552 0.448 1 1 1h7v19.5z\"></path>\n",
       "<path d=\"M23 26h-14c-0.552 0-1-0.448-1-1s0.448-1 1-1h14c0.552 0 1 0.448 1 1s-0.448 1-1 1z\"></path>\n",
       "<path d=\"M23 22h-14c-0.552 0-1-0.448-1-1s0.448-1 1-1h14c0.552 0 1 0.448 1 1s-0.448 1-1 1z\"></path>\n",
       "<path d=\"M23 18h-14c-0.552 0-1-0.448-1-1s0.448-1 1-1h14c0.552 0 1 0.448 1 1s-0.448 1-1 1z\"></path>\n",
       "</symbol>\n",
       "</defs>\n",
       "</svg>\n",
       "<style>/* CSS stylesheet for displaying xarray objects in jupyterlab.\n",
       " *\n",
       " */\n",
       "\n",
       ":root {\n",
       "  --xr-font-color0: var(--jp-content-font-color0, rgba(0, 0, 0, 1));\n",
       "  --xr-font-color2: var(--jp-content-font-color2, rgba(0, 0, 0, 0.54));\n",
       "  --xr-font-color3: var(--jp-content-font-color3, rgba(0, 0, 0, 0.38));\n",
       "  --xr-border-color: var(--jp-border-color2, #e0e0e0);\n",
       "  --xr-disabled-color: var(--jp-layout-color3, #bdbdbd);\n",
       "  --xr-background-color: var(--jp-layout-color0, white);\n",
       "  --xr-background-color-row-even: var(--jp-layout-color1, white);\n",
       "  --xr-background-color-row-odd: var(--jp-layout-color2, #eeeeee);\n",
       "}\n",
       "\n",
       "html[theme=dark],\n",
       "body[data-theme=dark],\n",
       "body.vscode-dark {\n",
       "  --xr-font-color0: rgba(255, 255, 255, 1);\n",
       "  --xr-font-color2: rgba(255, 255, 255, 0.54);\n",
       "  --xr-font-color3: rgba(255, 255, 255, 0.38);\n",
       "  --xr-border-color: #1F1F1F;\n",
       "  --xr-disabled-color: #515151;\n",
       "  --xr-background-color: #111111;\n",
       "  --xr-background-color-row-even: #111111;\n",
       "  --xr-background-color-row-odd: #313131;\n",
       "}\n",
       "\n",
       ".xr-wrap {\n",
       "  display: block !important;\n",
       "  min-width: 300px;\n",
       "  max-width: 700px;\n",
       "}\n",
       "\n",
       ".xr-text-repr-fallback {\n",
       "  /* fallback to plain text repr when CSS is not injected (untrusted notebook) */\n",
       "  display: none;\n",
       "}\n",
       "\n",
       ".xr-header {\n",
       "  padding-top: 6px;\n",
       "  padding-bottom: 6px;\n",
       "  margin-bottom: 4px;\n",
       "  border-bottom: solid 1px var(--xr-border-color);\n",
       "}\n",
       "\n",
       ".xr-header > div,\n",
       ".xr-header > ul {\n",
       "  display: inline;\n",
       "  margin-top: 0;\n",
       "  margin-bottom: 0;\n",
       "}\n",
       "\n",
       ".xr-obj-type,\n",
       ".xr-array-name {\n",
       "  margin-left: 2px;\n",
       "  margin-right: 10px;\n",
       "}\n",
       "\n",
       ".xr-obj-type {\n",
       "  color: var(--xr-font-color2);\n",
       "}\n",
       "\n",
       ".xr-sections {\n",
       "  padding-left: 0 !important;\n",
       "  display: grid;\n",
       "  grid-template-columns: 150px auto auto 1fr 20px 20px;\n",
       "}\n",
       "\n",
       ".xr-section-item {\n",
       "  display: contents;\n",
       "}\n",
       "\n",
       ".xr-section-item input {\n",
       "  display: none;\n",
       "}\n",
       "\n",
       ".xr-section-item input + label {\n",
       "  color: var(--xr-disabled-color);\n",
       "}\n",
       "\n",
       ".xr-section-item input:enabled + label {\n",
       "  cursor: pointer;\n",
       "  color: var(--xr-font-color2);\n",
       "}\n",
       "\n",
       ".xr-section-item input:enabled + label:hover {\n",
       "  color: var(--xr-font-color0);\n",
       "}\n",
       "\n",
       ".xr-section-summary {\n",
       "  grid-column: 1;\n",
       "  color: var(--xr-font-color2);\n",
       "  font-weight: 500;\n",
       "}\n",
       "\n",
       ".xr-section-summary > span {\n",
       "  display: inline-block;\n",
       "  padding-left: 0.5em;\n",
       "}\n",
       "\n",
       ".xr-section-summary-in:disabled + label {\n",
       "  color: var(--xr-font-color2);\n",
       "}\n",
       "\n",
       ".xr-section-summary-in + label:before {\n",
       "  display: inline-block;\n",
       "  content: '►';\n",
       "  font-size: 11px;\n",
       "  width: 15px;\n",
       "  text-align: center;\n",
       "}\n",
       "\n",
       ".xr-section-summary-in:disabled + label:before {\n",
       "  color: var(--xr-disabled-color);\n",
       "}\n",
       "\n",
       ".xr-section-summary-in:checked + label:before {\n",
       "  content: '▼';\n",
       "}\n",
       "\n",
       ".xr-section-summary-in:checked + label > span {\n",
       "  display: none;\n",
       "}\n",
       "\n",
       ".xr-section-summary,\n",
       ".xr-section-inline-details {\n",
       "  padding-top: 4px;\n",
       "  padding-bottom: 4px;\n",
       "}\n",
       "\n",
       ".xr-section-inline-details {\n",
       "  grid-column: 2 / -1;\n",
       "}\n",
       "\n",
       ".xr-section-details {\n",
       "  display: none;\n",
       "  grid-column: 1 / -1;\n",
       "  margin-bottom: 5px;\n",
       "}\n",
       "\n",
       ".xr-section-summary-in:checked ~ .xr-section-details {\n",
       "  display: contents;\n",
       "}\n",
       "\n",
       ".xr-array-wrap {\n",
       "  grid-column: 1 / -1;\n",
       "  display: grid;\n",
       "  grid-template-columns: 20px auto;\n",
       "}\n",
       "\n",
       ".xr-array-wrap > label {\n",
       "  grid-column: 1;\n",
       "  vertical-align: top;\n",
       "}\n",
       "\n",
       ".xr-preview {\n",
       "  color: var(--xr-font-color3);\n",
       "}\n",
       "\n",
       ".xr-array-preview,\n",
       ".xr-array-data {\n",
       "  padding: 0 5px !important;\n",
       "  grid-column: 2;\n",
       "}\n",
       "\n",
       ".xr-array-data,\n",
       ".xr-array-in:checked ~ .xr-array-preview {\n",
       "  display: none;\n",
       "}\n",
       "\n",
       ".xr-array-in:checked ~ .xr-array-data,\n",
       ".xr-array-preview {\n",
       "  display: inline-block;\n",
       "}\n",
       "\n",
       ".xr-dim-list {\n",
       "  display: inline-block !important;\n",
       "  list-style: none;\n",
       "  padding: 0 !important;\n",
       "  margin: 0;\n",
       "}\n",
       "\n",
       ".xr-dim-list li {\n",
       "  display: inline-block;\n",
       "  padding: 0;\n",
       "  margin: 0;\n",
       "}\n",
       "\n",
       ".xr-dim-list:before {\n",
       "  content: '(';\n",
       "}\n",
       "\n",
       ".xr-dim-list:after {\n",
       "  content: ')';\n",
       "}\n",
       "\n",
       ".xr-dim-list li:not(:last-child):after {\n",
       "  content: ',';\n",
       "  padding-right: 5px;\n",
       "}\n",
       "\n",
       ".xr-has-index {\n",
       "  font-weight: bold;\n",
       "}\n",
       "\n",
       ".xr-var-list,\n",
       ".xr-var-item {\n",
       "  display: contents;\n",
       "}\n",
       "\n",
       ".xr-var-item > div,\n",
       ".xr-var-item label,\n",
       ".xr-var-item > .xr-var-name span {\n",
       "  background-color: var(--xr-background-color-row-even);\n",
       "  margin-bottom: 0;\n",
       "}\n",
       "\n",
       ".xr-var-item > .xr-var-name:hover span {\n",
       "  padding-right: 5px;\n",
       "}\n",
       "\n",
       ".xr-var-list > li:nth-child(odd) > div,\n",
       ".xr-var-list > li:nth-child(odd) > label,\n",
       ".xr-var-list > li:nth-child(odd) > .xr-var-name span {\n",
       "  background-color: var(--xr-background-color-row-odd);\n",
       "}\n",
       "\n",
       ".xr-var-name {\n",
       "  grid-column: 1;\n",
       "}\n",
       "\n",
       ".xr-var-dims {\n",
       "  grid-column: 2;\n",
       "}\n",
       "\n",
       ".xr-var-dtype {\n",
       "  grid-column: 3;\n",
       "  text-align: right;\n",
       "  color: var(--xr-font-color2);\n",
       "}\n",
       "\n",
       ".xr-var-preview {\n",
       "  grid-column: 4;\n",
       "}\n",
       "\n",
       ".xr-index-preview {\n",
       "  grid-column: 2 / 5;\n",
       "  color: var(--xr-font-color2);\n",
       "}\n",
       "\n",
       ".xr-var-name,\n",
       ".xr-var-dims,\n",
       ".xr-var-dtype,\n",
       ".xr-preview,\n",
       ".xr-attrs dt {\n",
       "  white-space: nowrap;\n",
       "  overflow: hidden;\n",
       "  text-overflow: ellipsis;\n",
       "  padding-right: 10px;\n",
       "}\n",
       "\n",
       ".xr-var-name:hover,\n",
       ".xr-var-dims:hover,\n",
       ".xr-var-dtype:hover,\n",
       ".xr-attrs dt:hover {\n",
       "  overflow: visible;\n",
       "  width: auto;\n",
       "  z-index: 1;\n",
       "}\n",
       "\n",
       ".xr-var-attrs,\n",
       ".xr-var-data,\n",
       ".xr-index-data {\n",
       "  display: none;\n",
       "  background-color: var(--xr-background-color) !important;\n",
       "  padding-bottom: 5px !important;\n",
       "}\n",
       "\n",
       ".xr-var-attrs-in:checked ~ .xr-var-attrs,\n",
       ".xr-var-data-in:checked ~ .xr-var-data,\n",
       ".xr-index-data-in:checked ~ .xr-index-data {\n",
       "  display: block;\n",
       "}\n",
       "\n",
       ".xr-var-data > table {\n",
       "  float: right;\n",
       "}\n",
       "\n",
       ".xr-var-name span,\n",
       ".xr-var-data,\n",
       ".xr-index-name div,\n",
       ".xr-index-data,\n",
       ".xr-attrs {\n",
       "  padding-left: 25px !important;\n",
       "}\n",
       "\n",
       ".xr-attrs,\n",
       ".xr-var-attrs,\n",
       ".xr-var-data,\n",
       ".xr-index-data {\n",
       "  grid-column: 1 / -1;\n",
       "}\n",
       "\n",
       "dl.xr-attrs {\n",
       "  padding: 0;\n",
       "  margin: 0;\n",
       "  display: grid;\n",
       "  grid-template-columns: 125px auto;\n",
       "}\n",
       "\n",
       ".xr-attrs dt,\n",
       ".xr-attrs dd {\n",
       "  padding: 0;\n",
       "  margin: 0;\n",
       "  float: left;\n",
       "  padding-right: 10px;\n",
       "  width: auto;\n",
       "}\n",
       "\n",
       ".xr-attrs dt {\n",
       "  font-weight: normal;\n",
       "  grid-column: 1;\n",
       "}\n",
       "\n",
       ".xr-attrs dt:hover span {\n",
       "  display: inline-block;\n",
       "  background: var(--xr-background-color);\n",
       "  padding-right: 10px;\n",
       "}\n",
       "\n",
       ".xr-attrs dd {\n",
       "  grid-column: 2;\n",
       "  white-space: pre-wrap;\n",
       "  word-break: break-all;\n",
       "}\n",
       "\n",
       ".xr-icon-database,\n",
       ".xr-icon-file-text2,\n",
       ".xr-no-icon {\n",
       "  display: inline-block;\n",
       "  vertical-align: middle;\n",
       "  width: 1em;\n",
       "  height: 1.5em !important;\n",
       "  stroke-width: 0;\n",
       "  stroke: currentColor;\n",
       "  fill: currentColor;\n",
       "}\n",
       "</style><pre class='xr-text-repr-fallback'>&lt;xarray.Dataset&gt;\n",
       "Dimensions:        (y: 707, x: 200, P: 8, V: 4)\n",
       "Coordinates:\n",
       "  * y              (y) float64 0.0 0.001 0.002 0.003 ... 0.703 0.704 0.705 0.706\n",
       "  * x              (x) float64 0.0 0.001 0.002 0.003 ... 0.196 0.197 0.198 0.199\n",
       "  * P              (P) float64 5.0 10.0 30.0 45.0 60.0 80.0 100.0 120.0\n",
       "  * V              (V) float64 200.0 300.0 400.0 500.0\n",
       "Data variables:\n",
       "    potential (V)  (V, P, y, x) float64 ...\n",
       "    Ne (#/m^-3)    (V, P, y, x) float64 ...\n",
       "    Ar+ (#/m^-3)   (V, P, y, x) float64 ...\n",
       "    Nm (#/m^-3)    (V, P, y, x) float64 ...\n",
       "    Te (eV)        (V, P, y, x) float64 ...</pre><div class='xr-wrap' style='display:none'><div class='xr-header'><div class='xr-obj-type'>xarray.Dataset</div></div><ul class='xr-sections'><li class='xr-section-item'><input id='section-97222c8d-efb8-436b-9d90-3eb48b589fef' class='xr-section-summary-in' type='checkbox' disabled ><label for='section-97222c8d-efb8-436b-9d90-3eb48b589fef' class='xr-section-summary'  title='Expand/collapse section'>Dimensions:</label><div class='xr-section-inline-details'><ul class='xr-dim-list'><li><span class='xr-has-index'>y</span>: 707</li><li><span class='xr-has-index'>x</span>: 200</li><li><span class='xr-has-index'>P</span>: 8</li><li><span class='xr-has-index'>V</span>: 4</li></ul></div><div class='xr-section-details'></div></li><li class='xr-section-item'><input id='section-f882cd0e-6758-4f0b-a3ff-2cf614231c20' class='xr-section-summary-in' type='checkbox'  checked><label for='section-f882cd0e-6758-4f0b-a3ff-2cf614231c20' class='xr-section-summary' >Coordinates: <span>(4)</span></label><div class='xr-section-inline-details'></div><div class='xr-section-details'><ul class='xr-var-list'><li class='xr-var-item'><div class='xr-var-name'><span class='xr-has-index'>y</span></div><div class='xr-var-dims'>(y)</div><div class='xr-var-dtype'>float64</div><div class='xr-var-preview xr-preview'>0.0 0.001 0.002 ... 0.705 0.706</div><input id='attrs-34074350-7464-4b87-a5e2-18851dd7e856' class='xr-var-attrs-in' type='checkbox' disabled><label for='attrs-34074350-7464-4b87-a5e2-18851dd7e856' title='Show/Hide attributes'><svg class='icon xr-icon-file-text2'><use xlink:href='#icon-file-text2'></use></svg></label><input id='data-0c0ce122-4c77-472a-81a9-b29fd0fd737c' class='xr-var-data-in' type='checkbox'><label for='data-0c0ce122-4c77-472a-81a9-b29fd0fd737c' title='Show/Hide data repr'><svg class='icon xr-icon-database'><use xlink:href='#icon-database'></use></svg></label><div class='xr-var-attrs'><dl class='xr-attrs'></dl></div><div class='xr-var-data'><pre>array([0.   , 0.001, 0.002, ..., 0.704, 0.705, 0.706])</pre></div></li><li class='xr-var-item'><div class='xr-var-name'><span class='xr-has-index'>x</span></div><div class='xr-var-dims'>(x)</div><div class='xr-var-dtype'>float64</div><div class='xr-var-preview xr-preview'>0.0 0.001 0.002 ... 0.198 0.199</div><input id='attrs-67869b2d-7593-4f43-8a62-9b8f34fe4e6c' class='xr-var-attrs-in' type='checkbox' disabled><label for='attrs-67869b2d-7593-4f43-8a62-9b8f34fe4e6c' title='Show/Hide attributes'><svg class='icon xr-icon-file-text2'><use xlink:href='#icon-file-text2'></use></svg></label><input id='data-cce29c01-380f-4a88-bfbf-417821d2dd04' class='xr-var-data-in' type='checkbox'><label for='data-cce29c01-380f-4a88-bfbf-417821d2dd04' title='Show/Hide data repr'><svg class='icon xr-icon-database'><use xlink:href='#icon-database'></use></svg></label><div class='xr-var-attrs'><dl class='xr-attrs'></dl></div><div class='xr-var-data'><pre>array([0.   , 0.001, 0.002, 0.003, 0.004, 0.005, 0.006, 0.007, 0.008, 0.009,\n",
       "       0.01 , 0.011, 0.012, 0.013, 0.014, 0.015, 0.016, 0.017, 0.018, 0.019,\n",
       "       0.02 , 0.021, 0.022, 0.023, 0.024, 0.025, 0.026, 0.027, 0.028, 0.029,\n",
       "       0.03 , 0.031, 0.032, 0.033, 0.034, 0.035, 0.036, 0.037, 0.038, 0.039,\n",
       "       0.04 , 0.041, 0.042, 0.043, 0.044, 0.045, 0.046, 0.047, 0.048, 0.049,\n",
       "       0.05 , 0.051, 0.052, 0.053, 0.054, 0.055, 0.056, 0.057, 0.058, 0.059,\n",
       "       0.06 , 0.061, 0.062, 0.063, 0.064, 0.065, 0.066, 0.067, 0.068, 0.069,\n",
       "       0.07 , 0.071, 0.072, 0.073, 0.074, 0.075, 0.076, 0.077, 0.078, 0.079,\n",
       "       0.08 , 0.081, 0.082, 0.083, 0.084, 0.085, 0.086, 0.087, 0.088, 0.089,\n",
       "       0.09 , 0.091, 0.092, 0.093, 0.094, 0.095, 0.096, 0.097, 0.098, 0.099,\n",
       "       0.1  , 0.101, 0.102, 0.103, 0.104, 0.105, 0.106, 0.107, 0.108, 0.109,\n",
       "       0.11 , 0.111, 0.112, 0.113, 0.114, 0.115, 0.116, 0.117, 0.118, 0.119,\n",
       "       0.12 , 0.121, 0.122, 0.123, 0.124, 0.125, 0.126, 0.127, 0.128, 0.129,\n",
       "       0.13 , 0.131, 0.132, 0.133, 0.134, 0.135, 0.136, 0.137, 0.138, 0.139,\n",
       "       0.14 , 0.141, 0.142, 0.143, 0.144, 0.145, 0.146, 0.147, 0.148, 0.149,\n",
       "       0.15 , 0.151, 0.152, 0.153, 0.154, 0.155, 0.156, 0.157, 0.158, 0.159,\n",
       "       0.16 , 0.161, 0.162, 0.163, 0.164, 0.165, 0.166, 0.167, 0.168, 0.169,\n",
       "       0.17 , 0.171, 0.172, 0.173, 0.174, 0.175, 0.176, 0.177, 0.178, 0.179,\n",
       "       0.18 , 0.181, 0.182, 0.183, 0.184, 0.185, 0.186, 0.187, 0.188, 0.189,\n",
       "       0.19 , 0.191, 0.192, 0.193, 0.194, 0.195, 0.196, 0.197, 0.198, 0.199])</pre></div></li><li class='xr-var-item'><div class='xr-var-name'><span class='xr-has-index'>P</span></div><div class='xr-var-dims'>(P)</div><div class='xr-var-dtype'>float64</div><div class='xr-var-preview xr-preview'>5.0 10.0 30.0 ... 80.0 100.0 120.0</div><input id='attrs-91311523-9db9-4940-8d94-ffdc20fe4c19' class='xr-var-attrs-in' type='checkbox' disabled><label for='attrs-91311523-9db9-4940-8d94-ffdc20fe4c19' title='Show/Hide attributes'><svg class='icon xr-icon-file-text2'><use xlink:href='#icon-file-text2'></use></svg></label><input id='data-1076892c-bc1a-4d5c-b231-f20a5186ce29' class='xr-var-data-in' type='checkbox'><label for='data-1076892c-bc1a-4d5c-b231-f20a5186ce29' title='Show/Hide data repr'><svg class='icon xr-icon-database'><use xlink:href='#icon-database'></use></svg></label><div class='xr-var-attrs'><dl class='xr-attrs'></dl></div><div class='xr-var-data'><pre>array([  5.,  10.,  30.,  45.,  60.,  80., 100., 120.])</pre></div></li><li class='xr-var-item'><div class='xr-var-name'><span class='xr-has-index'>V</span></div><div class='xr-var-dims'>(V)</div><div class='xr-var-dtype'>float64</div><div class='xr-var-preview xr-preview'>200.0 300.0 400.0 500.0</div><input id='attrs-680d14fb-5c27-4753-8b7e-341ba1f7738f' class='xr-var-attrs-in' type='checkbox' disabled><label for='attrs-680d14fb-5c27-4753-8b7e-341ba1f7738f' title='Show/Hide attributes'><svg class='icon xr-icon-file-text2'><use xlink:href='#icon-file-text2'></use></svg></label><input id='data-7edd0f4c-6626-48bc-b27c-80003da2a6aa' class='xr-var-data-in' type='checkbox'><label for='data-7edd0f4c-6626-48bc-b27c-80003da2a6aa' title='Show/Hide data repr'><svg class='icon xr-icon-database'><use xlink:href='#icon-database'></use></svg></label><div class='xr-var-attrs'><dl class='xr-attrs'></dl></div><div class='xr-var-data'><pre>array([200., 300., 400., 500.])</pre></div></li></ul></div></li><li class='xr-section-item'><input id='section-ca881670-45d2-4465-b2ea-104f0f02876e' class='xr-section-summary-in' type='checkbox'  checked><label for='section-ca881670-45d2-4465-b2ea-104f0f02876e' class='xr-section-summary' >Data variables: <span>(5)</span></label><div class='xr-section-inline-details'></div><div class='xr-section-details'><ul class='xr-var-list'><li class='xr-var-item'><div class='xr-var-name'><span>potential (V)</span></div><div class='xr-var-dims'>(V, P, y, x)</div><div class='xr-var-dtype'>float64</div><div class='xr-var-preview xr-preview'>...</div><input id='attrs-b0326fea-f8ac-4f0d-903a-470453d86f21' class='xr-var-attrs-in' type='checkbox' disabled><label for='attrs-b0326fea-f8ac-4f0d-903a-470453d86f21' title='Show/Hide attributes'><svg class='icon xr-icon-file-text2'><use xlink:href='#icon-file-text2'></use></svg></label><input id='data-b14be2b0-f9e2-4a3b-b6ad-a71854fc1e4b' class='xr-var-data-in' type='checkbox'><label for='data-b14be2b0-f9e2-4a3b-b6ad-a71854fc1e4b' title='Show/Hide data repr'><svg class='icon xr-icon-database'><use xlink:href='#icon-database'></use></svg></label><div class='xr-var-attrs'><dl class='xr-attrs'></dl></div><div class='xr-var-data'><pre>[4524800 values with dtype=float64]</pre></div></li><li class='xr-var-item'><div class='xr-var-name'><span>Ne (#/m^-3)</span></div><div class='xr-var-dims'>(V, P, y, x)</div><div class='xr-var-dtype'>float64</div><div class='xr-var-preview xr-preview'>...</div><input id='attrs-5db3904d-a968-4e7e-8125-28bf6b9da567' class='xr-var-attrs-in' type='checkbox' disabled><label for='attrs-5db3904d-a968-4e7e-8125-28bf6b9da567' title='Show/Hide attributes'><svg class='icon xr-icon-file-text2'><use xlink:href='#icon-file-text2'></use></svg></label><input id='data-b1c8e702-585e-4a8f-8548-e5107c2e6aa2' class='xr-var-data-in' type='checkbox'><label for='data-b1c8e702-585e-4a8f-8548-e5107c2e6aa2' title='Show/Hide data repr'><svg class='icon xr-icon-database'><use xlink:href='#icon-database'></use></svg></label><div class='xr-var-attrs'><dl class='xr-attrs'></dl></div><div class='xr-var-data'><pre>[4524800 values with dtype=float64]</pre></div></li><li class='xr-var-item'><div class='xr-var-name'><span>Ar+ (#/m^-3)</span></div><div class='xr-var-dims'>(V, P, y, x)</div><div class='xr-var-dtype'>float64</div><div class='xr-var-preview xr-preview'>...</div><input id='attrs-db3868f5-5e3f-4377-abde-e088e5d44a99' class='xr-var-attrs-in' type='checkbox' disabled><label for='attrs-db3868f5-5e3f-4377-abde-e088e5d44a99' title='Show/Hide attributes'><svg class='icon xr-icon-file-text2'><use xlink:href='#icon-file-text2'></use></svg></label><input id='data-4e36bce8-07c4-41f6-a9cd-0f5c20e1090a' class='xr-var-data-in' type='checkbox'><label for='data-4e36bce8-07c4-41f6-a9cd-0f5c20e1090a' title='Show/Hide data repr'><svg class='icon xr-icon-database'><use xlink:href='#icon-database'></use></svg></label><div class='xr-var-attrs'><dl class='xr-attrs'></dl></div><div class='xr-var-data'><pre>[4524800 values with dtype=float64]</pre></div></li><li class='xr-var-item'><div class='xr-var-name'><span>Nm (#/m^-3)</span></div><div class='xr-var-dims'>(V, P, y, x)</div><div class='xr-var-dtype'>float64</div><div class='xr-var-preview xr-preview'>...</div><input id='attrs-38bc2ee3-463d-4cdb-89ec-30b0681d34b8' class='xr-var-attrs-in' type='checkbox' disabled><label for='attrs-38bc2ee3-463d-4cdb-89ec-30b0681d34b8' title='Show/Hide attributes'><svg class='icon xr-icon-file-text2'><use xlink:href='#icon-file-text2'></use></svg></label><input id='data-77b98ff1-89ee-4eac-8c5a-ab12ca399a16' class='xr-var-data-in' type='checkbox'><label for='data-77b98ff1-89ee-4eac-8c5a-ab12ca399a16' title='Show/Hide data repr'><svg class='icon xr-icon-database'><use xlink:href='#icon-database'></use></svg></label><div class='xr-var-attrs'><dl class='xr-attrs'></dl></div><div class='xr-var-data'><pre>[4524800 values with dtype=float64]</pre></div></li><li class='xr-var-item'><div class='xr-var-name'><span>Te (eV)</span></div><div class='xr-var-dims'>(V, P, y, x)</div><div class='xr-var-dtype'>float64</div><div class='xr-var-preview xr-preview'>...</div><input id='attrs-ef7cbdcb-e8a6-42f0-ad05-0ccde51d865c' class='xr-var-attrs-in' type='checkbox' disabled><label for='attrs-ef7cbdcb-e8a6-42f0-ad05-0ccde51d865c' title='Show/Hide attributes'><svg class='icon xr-icon-file-text2'><use xlink:href='#icon-file-text2'></use></svg></label><input id='data-c0b52542-15b8-4393-9d30-d56cd31fb2a4' class='xr-var-data-in' type='checkbox'><label for='data-c0b52542-15b8-4393-9d30-d56cd31fb2a4' title='Show/Hide data repr'><svg class='icon xr-icon-database'><use xlink:href='#icon-database'></use></svg></label><div class='xr-var-attrs'><dl class='xr-attrs'></dl></div><div class='xr-var-data'><pre>[4524800 values with dtype=float64]</pre></div></li></ul></div></li><li class='xr-section-item'><input id='section-6b033039-3501-420e-a2f4-0f442647e721' class='xr-section-summary-in' type='checkbox'  ><label for='section-6b033039-3501-420e-a2f4-0f442647e721' class='xr-section-summary' >Indexes: <span>(4)</span></label><div class='xr-section-inline-details'></div><div class='xr-section-details'><ul class='xr-var-list'><li class='xr-var-item'><div class='xr-index-name'><div>y</div></div><div class='xr-index-preview'>PandasIndex</div><div></div><input id='index-3c12cd00-caa1-41f0-b3a5-3b054eb39df8' class='xr-index-data-in' type='checkbox'/><label for='index-3c12cd00-caa1-41f0-b3a5-3b054eb39df8' title='Show/Hide index repr'><svg class='icon xr-icon-database'><use xlink:href='#icon-database'></use></svg></label><div class='xr-index-data'><pre>PandasIndex(Float64Index([                 0.0,                0.001,                0.002,\n",
       "                             0.003,                0.004,                0.005,\n",
       "                             0.006,                0.007,                0.008,\n",
       "              0.009000000000000001,\n",
       "              ...\n",
       "                0.6970000000000001,   0.6980000000000001,   0.6990000000000001,\n",
       "                0.7000000000000001,   0.7010000000000001,   0.7020000000000001,\n",
       "                0.7030000000000001,                0.704,                0.705,\n",
       "                             0.706],\n",
       "             dtype=&#x27;float64&#x27;, name=&#x27;y&#x27;, length=707))</pre></div></li><li class='xr-var-item'><div class='xr-index-name'><div>x</div></div><div class='xr-index-preview'>PandasIndex</div><div></div><input id='index-01a7fdc1-71f5-49f7-87f9-81ec45a641a9' class='xr-index-data-in' type='checkbox'/><label for='index-01a7fdc1-71f5-49f7-87f9-81ec45a641a9' title='Show/Hide index repr'><svg class='icon xr-icon-database'><use xlink:href='#icon-database'></use></svg></label><div class='xr-index-data'><pre>PandasIndex(Float64Index([                 0.0,                0.001,                0.002,\n",
       "                             0.003,                0.004,                0.005,\n",
       "                             0.006,                0.007,                0.008,\n",
       "              0.009000000000000001,\n",
       "              ...\n",
       "                              0.19,                0.191,                0.192,\n",
       "                             0.193,                0.194,                0.195,\n",
       "                             0.196,                0.197,                0.198,\n",
       "                             0.199],\n",
       "             dtype=&#x27;float64&#x27;, name=&#x27;x&#x27;, length=200))</pre></div></li><li class='xr-var-item'><div class='xr-index-name'><div>P</div></div><div class='xr-index-preview'>PandasIndex</div><div></div><input id='index-744b6b9b-7ffa-4807-a0b8-e0a5f3b285ec' class='xr-index-data-in' type='checkbox'/><label for='index-744b6b9b-7ffa-4807-a0b8-e0a5f3b285ec' title='Show/Hide index repr'><svg class='icon xr-icon-database'><use xlink:href='#icon-database'></use></svg></label><div class='xr-index-data'><pre>PandasIndex(Float64Index([5.0, 10.0, 30.0, 45.0, 60.0, 80.0, 100.0, 120.0], dtype=&#x27;float64&#x27;, name=&#x27;P&#x27;))</pre></div></li><li class='xr-var-item'><div class='xr-index-name'><div>V</div></div><div class='xr-index-preview'>PandasIndex</div><div></div><input id='index-a1035c39-88b2-4e6c-92eb-0bd7b5cda65e' class='xr-index-data-in' type='checkbox'/><label for='index-a1035c39-88b2-4e6c-92eb-0bd7b5cda65e' title='Show/Hide index repr'><svg class='icon xr-icon-database'><use xlink:href='#icon-database'></use></svg></label><div class='xr-index-data'><pre>PandasIndex(Float64Index([200.0, 300.0, 400.0, 500.0], dtype=&#x27;float64&#x27;, name=&#x27;V&#x27;))</pre></div></li></ul></div></li><li class='xr-section-item'><input id='section-32caad6b-6ca5-4dab-8cda-631d6843744b' class='xr-section-summary-in' type='checkbox' disabled ><label for='section-32caad6b-6ca5-4dab-8cda-631d6843744b' class='xr-section-summary'  title='Expand/collapse section'>Attributes: <span>(0)</span></label><div class='xr-section-inline-details'></div><div class='xr-section-details'><dl class='xr-attrs'></dl></div></li></ul></div></div>"
      ],
      "text/plain": [
       "<xarray.Dataset>\n",
       "Dimensions:        (y: 707, x: 200, P: 8, V: 4)\n",
       "Coordinates:\n",
       "  * y              (y) float64 0.0 0.001 0.002 0.003 ... 0.703 0.704 0.705 0.706\n",
       "  * x              (x) float64 0.0 0.001 0.002 0.003 ... 0.196 0.197 0.198 0.199\n",
       "  * P              (P) float64 5.0 10.0 30.0 45.0 60.0 80.0 100.0 120.0\n",
       "  * V              (V) float64 200.0 300.0 400.0 500.0\n",
       "Data variables:\n",
       "    potential (V)  (V, P, y, x) float64 ...\n",
       "    Ne (#/m^-3)    (V, P, y, x) float64 ...\n",
       "    Ar+ (#/m^-3)   (V, P, y, x) float64 ...\n",
       "    Nm (#/m^-3)    (V, P, y, x) float64 ...\n",
       "    Te (eV)        (V, P, y, x) float64 ..."
      ]
     },
     "execution_count": 2,
     "metadata": {},
     "output_type": "execute_result"
    }
   ],
   "source": [
    "root = Path.cwd().parents[0]\n",
    "data = root/'data'/'interpolation_datasets'/'rec-interpolation2.nc'\n",
    "ds = xr.open_dataset(data)\n",
    "ds"
   ]
  },
  {
   "cell_type": "code",
   "execution_count": 3,
   "metadata": {},
   "outputs": [
    {
     "data": {
      "text/plain": [
       "['potential (V)', 'Ne (#/m^-3)', 'Ar+ (#/m^-3)', 'Nm (#/m^-3)', 'Te (eV)']"
      ]
     },
     "execution_count": 3,
     "metadata": {},
     "output_type": "execute_result"
    }
   ],
   "source": [
    "vars = list(ds.data_vars)\n",
    "vars"
   ]
  },
  {
   "cell_type": "code",
   "execution_count": 4,
   "metadata": {},
   "outputs": [],
   "source": [
    "scaler_dict = {}"
   ]
  },
  {
   "cell_type": "code",
   "execution_count": 5,
   "metadata": {},
   "outputs": [],
   "source": [
    "def scale_np(array, var):\n",
    "    global scaler_dict\n",
    "    \n",
    "    max = np.nanmax(array)\n",
    "    min = np.nanmin(array) \n",
    "\n",
    "    scaler_dict[var] = (min, max)\n",
    "\n",
    "    return (array - min) / (max - min)"
   ]
  },
  {
   "cell_type": "code",
   "execution_count": 114,
   "metadata": {},
   "outputs": [
    {
     "name": "stdout",
     "output_type": "stream",
     "text": [
      "(5, 4, 8, 707, 200)\n",
      "{'potential (V)': (-7.395783985231219e-16, 205.71708513606058), 'Ne (#/m^-3)': (3.071652512709689e-11, 1.6756994097021318e+16), 'Ar+ (#/m^-3)': (77385728216.21078, 1.675769409702132e+16), 'Nm (#/m^-3)': (10794684467551.668, 8.549053831954201e+18), 'Te (eV)': (0.049999999999999545, 11.672450000000012)}\n"
     ]
    }
   ],
   "source": [
    "data = np.float32(np.nan_to_num(np.stack([scale_np(ds[var].values, var) for var in vars])))\n",
    "print(data.shape)\n",
    "print(scaler_dict)"
   ]
  },
  {
   "attachments": {},
   "cell_type": "markdown",
   "metadata": {},
   "source": [
    "Shuffle dimensions and combine V, P. \n",
    "\n",
    "Output shape should follow `(batch, height, width, channels)`"
   ]
  },
  {
   "cell_type": "code",
   "execution_count": 115,
   "metadata": {},
   "outputs": [
    {
     "data": {
      "text/plain": [
       "(32, 5, 707, 200)"
      ]
     },
     "execution_count": 115,
     "metadata": {},
     "output_type": "execute_result"
    }
   ],
   "source": [
    "data = np.moveaxis(data, 0, 4)\n",
    "data = data.reshape(32,707,200,5)\n",
    "data = np.moveaxis(data, 3, 1)\n",
    "data.shape"
   ]
  },
  {
   "attachments": {},
   "cell_type": "markdown",
   "metadata": {},
   "source": [
    "Train test split"
   ]
  },
  {
   "cell_type": "code",
   "execution_count": 116,
   "metadata": {},
   "outputs": [
    {
     "name": "stdout",
     "output_type": "stream",
     "text": [
      "train shape: (31, 5, 707, 200)\n",
      "test shape: (1, 5, 707, 200)\n"
     ]
    }
   ],
   "source": [
    "train, test = train_test_split(data, test_size = 1/32, shuffle=True)\n",
    "print(f'train shape: {train.shape}')\n",
    "print(f'test shape: {test.shape}')"
   ]
  },
  {
   "cell_type": "code",
   "execution_count": 118,
   "metadata": {},
   "outputs": [],
   "source": [
    "dataset = TensorDataset(torch.tensor(train, device=device))\n",
    "trainloader = DataLoader(dataset, batch_size=1, shuffle=True)"
   ]
  },
  {
   "attachments": {},
   "cell_type": "markdown",
   "metadata": {},
   "source": [
    "Visualize one set of inputs"
   ]
  },
  {
   "cell_type": "code",
   "execution_count": 14,
   "metadata": {},
   "outputs": [],
   "source": [
    "import matplotlib.patches as pat\n",
    "import matplotlib.pyplot as plt\n",
    "def draw_apparatus(ax):\n",
    "    def edge_unit_conv(edges):\n",
    "        u = 1e-1 # unit conv. mm -> cm\n",
    "        return [(xy[0]*u,xy[1]*u) for xy in edges]\n",
    "    \n",
    "    pt_colors = {'fc':'white', 'ec':'black'}\n",
    "    \n",
    "    edges = [(0,453), (0,489), (95,489), (95,487), (40,487), (40,453)]\n",
    "    patch_top = pat.Polygon(xy=edge_unit_conv(edges), fc=pt_colors['fc'], ec=pt_colors['ec'])\n",
    "    ax.add_patch(patch_top)\n",
    "    \n",
    "    edges = [(0,0), (0,415), (95,415), (95,395), (90,395), (90,310), (120,310), (120,277), (90,277), (90,0)]\n",
    "    patch_bottom = pat.Polygon(xy=edge_unit_conv(edges), fc=pt_colors['fc'], ec=pt_colors['ec'])\n",
    "    ax.add_patch(patch_bottom)\n",
    "    \n",
    "    edges = [(122,224), (122,234), (185,234), (185,224)]\n",
    "    patch_float = pat.Polygon(xy=edge_unit_conv(edges), fc=pt_colors['fc'], ec=pt_colors['ec'])\n",
    "    ax.add_patch(patch_float)"
   ]
  },
  {
   "cell_type": "code",
   "execution_count": 119,
   "metadata": {},
   "outputs": [
    {
     "data": {
      "image/png": "[encoded data removed]",
      "text/plain": [
       "<Figure size 640x480 with 5 Axes>"
      ]
     },
     "metadata": {},
     "output_type": "display_data"
    }
   ],
   "source": [
    "fig, axs = plt.subplots(nrows=1, ncols=5)\n",
    "for i, ax in enumerate(axs):\n",
    "    ax.imshow(test[0,i,:,:], origin='lower')"
   ]
  },
  {
   "attachments": {},
   "cell_type": "markdown",
   "metadata": {},
   "source": [
    "## Define a model"
   ]
  },
  {
   "cell_type": "code",
   "execution_count": 121,
   "metadata": {},
   "outputs": [],
   "source": [
    "class Autoencoder(nn.Module):\n",
    "  def __init__(self):\n",
    "    super(Autoencoder, self).__init__()\n",
    "    self.encoder = nn.Sequential(\n",
    "      nn.Conv2d(5, 16, kernel_size=3, stride=2, padding=1),\n",
    "      nn.ReLU(),\n",
    "      nn.Conv2d(16, 8, kernel_size=3, stride=2, padding=1),\n",
    "      nn.ReLU()\n",
    "    )\n",
    "\n",
    "    self.decoder = nn.Sequential(\n",
    "      nn.ConvTranspose2d(8, 16, 3, 2),\n",
    "      nn.ConvTranspose2d(16, 8, 3, 2),\n",
    "      nn.Conv2d(8, 5, 3, padding=1)\n",
    "    )\n",
    "    \n",
    "\n",
    "  def forward(self, x):\n",
    "    encoded = self.encoder(x)\n",
    "    decoded = self.decoder(encoded)\n",
    "    decoded = torchvision.transforms.functional.crop(decoded, 0, 0, 707, 200) \n",
    "    return decoded"
   ]
  },
  {
   "cell_type": "code",
   "execution_count": 123,
   "metadata": {},
   "outputs": [],
   "source": [
    "model = Autoencoder()\n",
    "model.to(device)  # move model to gpu\n",
    "criterion = nn.MSELoss()\n",
    "optimizer = optim.Adam(model.parameters())"
   ]
  },
  {
   "cell_type": "code",
   "execution_count": 93,
   "metadata": {},
   "outputs": [
    {
     "name": "stdout",
     "output_type": "stream",
     "text": [
      "Autoencoder(\n",
      "  (encoder): Sequential(\n",
      "    (0): Conv2d(5, 16, kernel_size=(3, 3), stride=(2, 2), padding=(1, 1))\n",
      "    (1): ReLU()\n",
      "    (2): Conv2d(16, 8, kernel_size=(3, 3), stride=(2, 2), padding=(1, 1))\n",
      "    (3): ReLU()\n",
      "  )\n",
      "  (decoder): Sequential(\n",
      "    (0): ConvTranspose2d(8, 16, kernel_size=(3, 3), stride=(2, 2))\n",
      "    (1): ConvTranspose2d(16, 8, kernel_size=(3, 3), stride=(2, 2))\n",
      "    (2): Conv2d(8, 5, kernel_size=(3, 3), stride=(1, 1), padding=(1, 1))\n",
      "  )\n",
      ")\n"
     ]
    }
   ],
   "source": [
    "print(model)"
   ]
  },
  {
   "attachments": {},
   "cell_type": "markdown",
   "metadata": {},
   "source": [
    "Weights for each variable is introduced. `expand_dims` is used to add singleton dimensions to match the output tensor's dimensions."
   ]
  },
  {
   "cell_type": "code",
   "execution_count": 162,
   "metadata": {},
   "outputs": [],
   "source": [
    "epochs = 200\n",
    "weights_np = np.expand_dims(np.array([1.0, 1.5, 1.5, 1.5, 1.0], dtype=np.float32), axis=(0, 2, 3))\n",
    "weights = torch.tensor(weights_np, device=device)"
   ]
  },
  {
   "cell_type": "code",
   "execution_count": 163,
   "metadata": {},
   "outputs": [
    {
     "data": {
      "text/plain": [
       "torch.Size([1, 5, 1, 1])"
      ]
     },
     "execution_count": 163,
     "metadata": {},
     "output_type": "execute_result"
    }
   ],
   "source": [
    "weights.size()"
   ]
  },
  {
   "cell_type": "code",
   "execution_count": 167,
   "metadata": {},
   "outputs": [
    {
     "data": {
      "application/vnd.jupyter.widget-view+json": {
       "model_id": "bb471bddf2d64887b1c32ae543a5c077",
       "version_major": 2,
       "version_minor": 0
      },
      "text/plain": [
       "  0%|          | 0/200 [00:00<?, ?it/s]"
      ]
     },
     "metadata": {},
     "output_type": "display_data"
    }
   ],
   "source": [
    "epoch_loss = []\n",
    "for epoch in tqdm(range(epochs)):\n",
    "    # loop = tqdm(trainloader)\n",
    "\n",
    "    for i, batch_data in enumerate(trainloader):\n",
    "        # get inputs\n",
    "        inputs = batch_data[0]\n",
    "        optimizer.zero_grad()\n",
    "\n",
    "        # record loss\n",
    "        running_loss = 0.0\n",
    "\n",
    "        outputs = model(inputs)\n",
    "        loss = criterion(outputs, inputs * weights)\n",
    "        loss.backward()\n",
    "        optimizer.step()\n",
    "\n",
    "        running_loss += loss.item()\n",
    "        # loop.set_description(f\"Epoch {epoch+1}/{epochs}\")\n",
    "        \n",
    "    epoch_loss.append(running_loss)\n",
    "    \n"
   ]
  },
  {
   "cell_type": "code",
   "execution_count": null,
   "metadata": {},
   "outputs": [],
   "source": [
    "plt.plot(epoch_loss)"
   ]
  },
  {
   "cell_type": "code",
   "execution_count": 148,
   "metadata": {},
   "outputs": [
    {
     "data": {
      "text/plain": [
       "torch.Size([1, 5, 707, 200])"
      ]
     },
     "execution_count": 148,
     "metadata": {},
     "output_type": "execute_result"
    }
   ],
   "source": [
    "outputs.size()"
   ]
  },
  {
   "cell_type": "code",
   "execution_count": 132,
   "metadata": {},
   "outputs": [],
   "source": [
    "test_tensor = torch.tensor(test, device=device)"
   ]
  },
  {
   "cell_type": "code",
   "execution_count": 168,
   "metadata": {},
   "outputs": [],
   "source": [
    "with torch.no_grad():\n",
    "    encoded = model.encoder(test_tensor)\n",
    "    decoded = model.decoder(encoded).cpu().numpy()"
   ]
  },
  {
   "cell_type": "code",
   "execution_count": 134,
   "metadata": {},
   "outputs": [
    {
     "data": {
      "text/plain": [
       "(1, 5, 711, 203)"
      ]
     },
     "execution_count": 134,
     "metadata": {},
     "output_type": "execute_result"
    }
   ],
   "source": [
    "decoded.shape"
   ]
  },
  {
   "cell_type": "code",
   "execution_count": 175,
   "metadata": {},
   "outputs": [
    {
     "data": {
      "image/png": "[encoded data removed]",
      "text/plain": [
       "<Figure size 600x1200 with 5 Axes>"
      ]
     },
     "metadata": {},
     "output_type": "display_data"
    }
   ],
   "source": [
    "fig, axs = plt.subplots(nrows=1, ncols=5, figsize=(6, 12))\n",
    "plt.subplots_adjust(wspace=0.5)\n",
    "for i, ax in enumerate(axs):\n",
    "    ax.imshow(decoded[0,i,:,:], origin='lower', cmap='Greys_r', extent=[0, 20, 0, 70.7])"
   ]
  },
  {
   "cell_type": "code",
   "execution_count": null,
   "metadata": {},
   "outputs": [],
   "source": []
  }
 ],
 "metadata": {
  "kernelspec": {
   "display_name": "torch",
   "language": "python",
   "name": "python3"
  },
  "language_info": {
   "codemirror_mode": {
    "name": "ipython",
    "version": 3
   },
   "file_extension": ".py",
   "mimetype": "text/x-python",
   "name": "python",
   "nbconvert_exporter": "python",
   "pygments_lexer": "ipython3",
   "version": "3.10.9"
  },
  "orig_nbformat": 4
 },
 "nbformat": 4,
 "nbformat_minor": 2
}
