{
 "cells": [
  {
   "cell_type": "markdown",
   "metadata": {},
   "source": [
    "# Visualizing images with V and P\n",
    "\n",
    "To view how the network makes its predictions, we need to see how predictions are made along both V and P"
   ]
  },
  {
   "cell_type": "code",
   "execution_count": 2,
   "metadata": {},
   "outputs": [],
   "source": [
    "import torch\n",
    "import matplotlib.pyplot as plt\n",
    "from pathlib import Path\n",
    "import xarray as xr\n",
    "from plot import plot_imageset\n",
    "\n",
    "from time import perf_counter_ns\n",
    "\n",
    "from image_data_helpers import minmax_label\n",
    "\n",
    "mlp_path = Path('/Users/jarl/2d-discharge-nn/created_models/conditional_autoencoder/64x64/A64j/A64j')\n",
    "ae_path = Path('/Users/jarl/2d-discharge-nn/created_models/autoencoder/64x64/A64-8/A64-8')"
   ]
  },
  {
   "cell_type": "code",
   "execution_count": 3,
   "metadata": {},
   "outputs": [
    {
     "data": {
      "text/plain": [
       "A64_8(\n",
       "  (encoder): Sequential(\n",
       "    (0): Conv2d(5, 10, kernel_size=(9, 9), stride=(2, 2), padding=(4, 4))\n",
       "    (1): ReLU()\n",
       "    (2): Conv2d(10, 20, kernel_size=(5, 5), stride=(2, 2), padding=(2, 2))\n",
       "    (3): ReLU()\n",
       "    (4): Conv2d(20, 40, kernel_size=(3, 3), stride=(2, 2), padding=(1, 1))\n",
       "    (5): ReLU()\n",
       "  )\n",
       "  (decoder): Sequential(\n",
       "    (0): UpsamplingBilinear2d(scale_factor=2.0, mode=bilinear)\n",
       "    (1): Conv2d(40, 40, kernel_size=(3, 3), stride=(1, 1), padding=(1, 1))\n",
       "    (2): ReLU()\n",
       "    (3): UpsamplingBilinear2d(scale_factor=2.0, mode=bilinear)\n",
       "    (4): Conv2d(40, 20, kernel_size=(5, 5), stride=(1, 1), padding=(2, 2))\n",
       "    (5): ReLU()\n",
       "    (6): UpsamplingBilinear2d(scale_factor=2.0, mode=bilinear)\n",
       "    (7): Conv2d(20, 10, kernel_size=(3, 3), stride=(1, 1), padding=(1, 1))\n",
       "    (8): ReLU()\n",
       "    (9): Conv2d(10, 5, kernel_size=(1, 1), stride=(1, 1))\n",
       "    (10): ReLU()\n",
       "  )\n",
       ")"
      ]
     },
     "execution_count": 3,
     "metadata": {},
     "output_type": "execute_result"
    }
   ],
   "source": [
    "# import models\n",
    "from autoencoder_classes import A64_8\n",
    "from mlp_classes import MLP4\n",
    "\n",
    "encodedx = 40\n",
    "encodedy = encodedz = 8\n",
    "encoding_size = encodedx*encodedy*encodedz\n",
    "\n",
    "device = torch.device('mps')\n",
    "\n",
    "imageMLP = MLP4(2, encoding_size, dropout_prob=0.5).to(device)\n",
    "imageAE  = A64_8().to(device)\n",
    "\n",
    "imageMLP.load_state_dict(torch.load(mlp_path))\n",
    "imageAE.load_state_dict(torch.load(ae_path))\n",
    "\n",
    "imageMLP.eval()\n",
    "imageAE.eval()"
   ]
  },
  {
   "cell_type": "code",
   "execution_count": 4,
   "metadata": {},
   "outputs": [],
   "source": [
    "def get_prediction(v:float, p:float, variable='all'):\n",
    "    # scale v, p\n",
    "    label = torch.tensor(minmax_label(v, p), device=device, dtype=torch.float32)\n",
    "\n",
    "    with torch.no_grad():\n",
    "        fake_encoding = imageMLP(label,)  # mps does not support float64\n",
    "        fake_encoding = fake_encoding.reshape(1, encodedx, encodedy, encodedz)\n",
    "        decoded = imageAE.decoder(fake_encoding).cpu().numpy()[:, :, :64, :64]  # [batch, channel, height, width]\n",
    "\n",
    "    if variable != 'all':\n",
    "        return decoded[:, variable]\n",
    "\n",
    "    return decoded"
   ]
  },
  {
   "cell_type": "code",
   "execution_count": 5,
   "metadata": {},
   "outputs": [
    {
     "name": "stdout",
     "output_type": "stream",
     "text": [
      "prediction made in 966.831458 ms\n"
     ]
    }
   ],
   "source": [
    "start = perf_counter_ns()\n",
    "test = get_prediction(300.0, 60.0)\n",
    "end = perf_counter_ns()\n",
    "\n",
    "print(f'prediction made in {(end-start) * 1e-6} ms')"
   ]
  },
  {
   "cell_type": "code",
   "execution_count": 6,
   "metadata": {},
   "outputs": [
    {
     "data": {
      "text/plain": [
       "<Figure size 2100x600 with 10 Axes>"
      ]
     },
     "execution_count": 6,
     "metadata": {},
     "output_type": "execute_result"
    }
   ],
   "source": [
    "plot_imageset(test, 300, 60)"
   ]
  },
  {
   "cell_type": "code",
   "execution_count": 7,
   "metadata": {},
   "outputs": [],
   "source": [
    "predictions = [get_prediction(v, p) for v in range(200, 400, 50) for p in range(20, 60, 5)]"
   ]
  },
  {
   "cell_type": "code",
   "execution_count": 8,
   "metadata": {},
   "outputs": [],
   "source": [
    "import numpy as np\n",
    "along_v = [get_prediction(v, 60) for v in range(200, 550, 50)]\n",
    "vtest = np.concatenate(along_v, axis=0)"
   ]
  },
  {
   "cell_type": "code",
   "execution_count": 9,
   "metadata": {},
   "outputs": [
    {
     "name": "stdout",
     "output_type": "stream",
     "text": [
      "(1, 5, 64, 64)\n",
      "(7, 5, 64, 64)\n"
     ]
    }
   ],
   "source": [
    "print(along_v[0].shape)\n",
    "print(vtest.shape)"
   ]
  },
  {
   "cell_type": "code",
   "execution_count": 10,
   "metadata": {},
   "outputs": [],
   "source": [
    "import matplotlib.ticker as ticker\n",
    "from mpl_toolkits.axes_grid1 import ImageGrid\n",
    "from plot import draw_apparatus\n",
    "\n",
    "def plot_along(images, value_range:range, cmap='viridis', out_dir=None, vp='V'):\n",
    "    \"\"\"\n",
    "    Plot a set of images for each plasma parameter.\n",
    "\n",
    "    Based on sep_test_comparison code.\n",
    "    \"\"\"\n",
    "    # if is_square:\n",
    "    extent = [0, 20, 35, 55]\n",
    "    columns_math = ['$\\phi$', '$n_e$', '$n_i$', '$n_m$', '$T_e$']\n",
    "\n",
    "    fig = plt.figure(figsize=(7,4), dpi=300, layout='constrained')\n",
    "\n",
    "    # create imagegrid for the original images (trugrid) and predicted ones (prdgrid)\n",
    "    grid = ImageGrid(fig, 111, nrows_ncols=(5, images.shape[0]), direction='column', axes_pad=0.0, \n",
    "                     label_mode=\"L\", share_all=True, cbar_location=\"right\", cbar_mode=\"single\", \n",
    "                     cbar_size=\"5%\", cbar_pad='5%')\n",
    "    \n",
    "    # cbar_ranges = [(0, images[0, i].max()) for i in range(5)]  # shape: (5, 2)\n",
    "    p90 = np.percentile(images, 95)\n",
    "    cbar_ranges = [(0, images[:, i].max()) for i in range(5)]  # shape: (5, 2)\n",
    "    v_list = list(value_range)\n",
    "\n",
    "    idx = -1\n",
    "    for j, ax in enumerate(grid):\n",
    "        i = j % 5\n",
    "        if i == 0:\n",
    "            idx += 1\n",
    "\n",
    "        org = ax.imshow(images[idx, i, :, :], origin='lower', extent=extent, aspect='equal',\n",
    "                        vmin=0, vmax=cbar_ranges[i][1], cmap=cmap)\n",
    "        draw_apparatus(ax)\n",
    "        ax.set_ylabel(columns_math[i], fontsize=8, rotation=90)\n",
    "        ax.set_xlabel(f'{v_list[idx]} {vp}', fontsize=8)\n",
    "        cb = grid.cbar_axes[i].colorbar(org)\n",
    "        cb.ax.tick_params(labelsize=6)\n",
    "\n",
    "        ax.tick_params(axis='both', which='both', left=False, bottom=False, labelbottom=False,\n",
    "        labelleft=False)\n",
    "\n",
    "    return fig"
   ]
  },
  {
   "cell_type": "code",
   "execution_count": 11,
   "metadata": {
    "scrolled": true
   },
   "outputs": [
    {
     "data": {
      "text/plain": [
       "<Figure size 2100x1200 with 70 Axes>"
      ]
     },
     "execution_count": 11,
     "metadata": {},
     "output_type": "execute_result"
    }
   ],
   "source": [
    "plot_along(vtest, range(200, 550, 50))"
   ]
  },
  {
   "cell_type": "code",
   "execution_count": 12,
   "metadata": {},
   "outputs": [
    {
     "data": {
      "text/plain": [
       "(6, 5, 64, 64)"
      ]
     },
     "execution_count": 12,
     "metadata": {},
     "output_type": "execute_result"
    }
   ],
   "source": [
    "along_p = [get_prediction(300, p) for p in range(10, 70, 10)]\n",
    "ptest = np.concatenate(along_p, axis=0)\n",
    "ptest.shape"
   ]
  },
  {
   "cell_type": "code",
   "execution_count": 13,
   "metadata": {
    "scrolled": true
   },
   "outputs": [
    {
     "data": {
      "text/plain": [
       "<Figure size 2100x1200 with 60 Axes>"
      ]
     },
     "execution_count": 13,
     "metadata": {},
     "output_type": "execute_result"
    }
   ],
   "source": [
    "plot_along(ptest, range(10, 70, 10), vp='Pa')"
   ]
  },
  {
   "cell_type": "code",
   "execution_count": 14,
   "metadata": {
    "tags": [
     "i dont think i need this anymore"
    ]
   },
   "outputs": [],
   "source": [
    "import matplotlib.ticker as ticker\n",
    "from mpl_toolkits.axes_grid1 import ImageGrid\n",
    "from plot import draw_apparatus\n",
    "\n",
    "def plot_alongv2(images, value_range:range, cmap='viridis', out_dir=None, unit='V'):\n",
    "    \"\"\"\n",
    "    Plot a set of images for each plasma parameter.\n",
    "\n",
    "    Based on sep_test_comparison code.\n",
    "    \"\"\"\n",
    "    # if is_square:\n",
    "    extent = [0, 20, 35, 55]\n",
    "    columns_math = ['$\\phi$', '$n_e$', '$n_i$', '$n_m$', '$T_e$']\n",
    "\n",
    "    fig = plt.figure(figsize=(7,4), dpi=300, layout='constrained')\n",
    "\n",
    "    # create imagegrid for the original images (trugrid) and predicted ones (prdgrid)\n",
    "    phi_grid = ImageGrid(fig, 511, nrows_ncols=(1, images.shape[0]), axes_pad=0.0, \n",
    "                     label_mode=\"L\", share_all=True, cbar_location=\"right\", cbar_mode=\"single\", \n",
    "                     cbar_size=\"5%\", cbar_pad='5%')\n",
    "    \n",
    "    ne_grid = ImageGrid(fig, 512, nrows_ncols=(1, images.shape[0]), axes_pad=0.0, \n",
    "                     label_mode=\"L\", share_all=True, cbar_location=\"right\", cbar_mode=\"single\", \n",
    "                     cbar_size=\"5%\", cbar_pad='5%')\n",
    "    \n",
    "    ni_grid = ImageGrid(fig, 513, nrows_ncols=(1, images.shape[0]), axes_pad=0.0, \n",
    "                     label_mode=\"L\", share_all=True, cbar_location=\"right\", cbar_mode=\"single\", \n",
    "                     cbar_size=\"5%\", cbar_pad='5%')\n",
    "    \n",
    "    nm_grid = ImageGrid(fig, 514, nrows_ncols=(1, images.shape[0]), axes_pad=0.0, \n",
    "                     label_mode=\"L\", share_all=True, cbar_location=\"right\", cbar_mode=\"single\", \n",
    "                     cbar_size=\"5%\", cbar_pad='5%')\n",
    "    \n",
    "    te_grid = ImageGrid(fig, 515, nrows_ncols=(1, images.shape[0]), axes_pad=0.0, \n",
    "                     label_mode=\"L\", share_all=True, cbar_location=\"right\", cbar_mode=\"single\", \n",
    "                     cbar_size=\"7%\", cbar_pad='8%')\n",
    "    \n",
    "    grids = [phi_grid, ne_grid, ni_grid, nm_grid, te_grid]\n",
    "    \n",
    "    # cbar_ranges = [(0, images[0, i].max()) for i in range(5)]  # shape: (5, 2)\n",
    "    cbar_ranges = [(0, images[:, i].max()) for i in range(5)]  # shape: (5, 2)\n",
    "    v_list = list(value_range)\n",
    "\n",
    "    for i, grid in enumerate(grids):  # there are 5 grids, one for each param\n",
    "        for j, ax in enumerate(grid):  # each param has n axes (images)\n",
    "            im = ax.imshow(images[j, i, :, :], origin='lower', extent=extent, aspect='equal',\n",
    "                            vmin=0, vmax=cbar_ranges[i][1], cmap=cmap)\n",
    "            \n",
    "            draw_apparatus(ax)\n",
    "\n",
    "            ax.set_ylabel(columns_math[i], fontsize=8, rotation=90)\n",
    "\n",
    "            if i == 4:  # label only the bottom\n",
    "                ax.set_xlabel(f'{v_list[j]} {unit}', fontsize=8)\n",
    "\n",
    "            cb = grid.cbar_axes[j].colorbar(im)\n",
    "            cb.ax.tick_params(labelsize=6)\n",
    "            ax.tick_params(axis='both', which='both', left=False, bottom=False, labelbottom=False,\n",
    "                           \n",
    "            labelleft=False)\n",
    "\n",
    "    return fig"
   ]
  },
  {
   "cell_type": "code",
   "execution_count": 15,
   "metadata": {},
   "outputs": [
    {
     "data": {
      "text/plain": [
       "(9, 5, 64, 64)"
      ]
     },
     "execution_count": 15,
     "metadata": {},
     "output_type": "execute_result"
    }
   ],
   "source": [
    "p_range = range(40, 85, 5)\n",
    "along_p = [get_prediction(300, p) for p in p_range]\n",
    "ptest = np.concatenate(along_p, axis=0)\n",
    "ptest.shape"
   ]
  },
  {
   "cell_type": "code",
   "execution_count": 16,
   "metadata": {},
   "outputs": [
    {
     "data": {
      "text/plain": [
       "<Figure size 2100x1200 with 90 Axes>"
      ]
     },
     "execution_count": 16,
     "metadata": {},
     "output_type": "execute_result"
    }
   ],
   "source": [
    "plot_alongv2(ptest, p_range, unit='Pa')"
   ]
  },
  {
   "cell_type": "code",
   "execution_count": 17,
   "metadata": {},
   "outputs": [
    {
     "data": {
      "text/plain": [
       "(8, 5, 64, 64)"
      ]
     },
     "execution_count": 17,
     "metadata": {},
     "output_type": "execute_result"
    }
   ],
   "source": [
    "v_range = range(200, 600, 50)\n",
    "along_v = [get_prediction(v, 60) for v in v_range]\n",
    "vtest = np.concatenate(along_v, axis=0)\n",
    "vtest.shape"
   ]
  },
  {
   "cell_type": "code",
   "execution_count": 18,
   "metadata": {
    "scrolled": true
   },
   "outputs": [
    {
     "data": {
      "text/plain": [
       "<Figure size 2100x1200 with 80 Axes>"
      ]
     },
     "execution_count": 18,
     "metadata": {},
     "output_type": "execute_result"
    }
   ],
   "source": [
    "plot_alongv2(vtest, v_range)"
   ]
  },
  {
   "cell_type": "markdown",
   "metadata": {},
   "source": [
    "We need to get data along both V and P. By getting predictions along V first, we get a tensor with shape `[v, p, channels, height, width]`"
   ]
  },
  {
   "cell_type": "code",
   "execution_count": 19,
   "metadata": {},
   "outputs": [
    {
     "data": {
      "text/plain": [
       "(8, 9, 5, 64, 64)"
      ]
     },
     "execution_count": 19,
     "metadata": {},
     "output_type": "execute_result"
    }
   ],
   "source": [
    "graph_data = np.stack([np.concatenate([get_prediction(v, p) for p in p_range]) for v in v_range])\n",
    "graph_data.shape"
   ]
  },
  {
   "cell_type": "markdown",
   "metadata": {},
   "source": [
    "For a single variable, we need an `ImageGrid` that shows the variation of a single parameter across both V and P"
   ]
  },
  {
   "cell_type": "code",
   "execution_count": 20,
   "metadata": {},
   "outputs": [],
   "source": [
    "def plot_variable(images, column:int, v_range:range, p_range:range, cmap='viridis', out_dir=None):\n",
    "    \"\"\"\n",
    "    Plot a set of images for each plasma parameter.\n",
    "\n",
    "    Based on sep_test_comparison code.\n",
    "    \"\"\"\n",
    "    # if is_square:\n",
    "    extent = [0, 20, 35, 55]\n",
    "    columns = ['phi', 'ne', 'ni', 'nm', 'te']\n",
    "\n",
    "    fig = plt.figure(figsize=(7,7), dpi=300, layout='constrained')\n",
    "\n",
    "    # grid goes along p horizontally and v vertically\n",
    "    grid = ImageGrid(fig, 111, nrows_ncols=(images.shape[0], images.shape[1]), axes_pad=0.0, \n",
    "                     label_mode=\"L\", share_all=True, cbar_location=\"right\", cbar_mode=\"single\", \n",
    "                     cbar_size=\"3%\", cbar_pad='3%')\n",
    "    \n",
    "    # cbar_ranges = [(0, images[0, i].max()) for i in range(5)]  # shape: (5, 2)\n",
    "    cbar_ranges = [(0, images.max()) for i in range(5)]  # shape: (5, 2)\n",
    "    v_list = list(v_range)\n",
    "    p_list = list(p_range)\n",
    "    j = -1\n",
    "\n",
    "    ijgrid = np.reshape(grid, (images.shape[0], images.shape[1]))  # grid is a flat array of Axes that we reshape to easily use i, j\n",
    "    \n",
    "    for i in range(images.shape[0]):  # for voltage in voltages\n",
    "        for j in range(images.shape[1]):  # for pressure in pressures\n",
    "            k = images.shape[0]-i-1     # reverse the indexing of i such that the images are generated starting from the lower left\n",
    "                                        # this makes it such that the (0, 0)th image corresponds to the highest voltage and the lowest pressure\n",
    "            ax = ijgrid[i, j]  # axes where image is plotted is on the (i, j)th point of the grid\n",
    "            \n",
    "            # plot the ith voltage and the jth pressure\n",
    "            im = ax.imshow(images[k, j, column], origin='lower', extent=extent, aspect='equal',\n",
    "                        vmin=0, vmax=images[:,:,column].max(), cmap=cmap)\n",
    "            \n",
    "            draw_apparatus(ax)\n",
    "            ax.set_xlabel(f'{p_list[j]} Pa', fontsize=8)  # jth pressure\n",
    "            ax.set_ylabel(f'{v_list[k]} V' , fontsize=8, rotation=90)  # ith voltage\n",
    "\n",
    "            cb = grid.cbar_axes[j].colorbar(im)\n",
    "            cb.ax.tick_params(labelsize=8)\n",
    "            ax.tick_params(axis='both', which='both', left=False, bottom=False, labelbottom=False,\n",
    "            labelleft=False)\n",
    "        \n",
    "    if out_dir is not None:\n",
    "        fig.savefig(out_dir/f'{columns[column]}.png', bbox_inches='tight')\n"
   ]
  },
  {
   "cell_type": "code",
   "execution_count": 21,
   "metadata": {},
   "outputs": [],
   "source": [
    "plot_variable(graph_data, 0, v_range, p_range)"
   ]
  },
  {
   "cell_type": "markdown",
   "metadata": {},
   "source": [
    "Here we make this plot for all variables (columns) and saving them to a specified file."
   ]
  },
  {
   "cell_type": "code",
   "execution_count": 22,
   "metadata": {},
   "outputs": [],
   "source": [
    "# out_dir = Path('/Users/jarl/2d-discharge-nn/pca')\n",
    "# for column in range(0,5):\n",
    "#     plot_variable(graph_data, column, v_range, p_range, out_dir=out_dir)"
   ]
  },
  {
   "cell_type": "markdown",
   "metadata": {},
   "source": [
    "To do:\n",
    "1. check the scales of the data across the entire dataset range"
   ]
  },
  {
   "cell_type": "markdown",
   "metadata": {},
   "source": [
    "To make things simpler, it might be better to combine everything into one class."
   ]
  },
  {
   "cell_type": "code",
   "execution_count": 23,
   "metadata": {},
   "outputs": [],
   "source": [
    "class ImagePrediction:\n",
    "    def __init__(self, v_range, p_range):\n",
    "        self.v_range = v_range\n",
    "        self.p_range = p_range\n",
    "        self.columns =  ['phi', 'ne', 'ni', 'nm', 'te']\n",
    "        self.columns_full =  ['Electric potential', 'Electron density', 'Ion density', \n",
    "                'Metastable density', 'Electron temperature']\n",
    "        self.units = ['V', 'cm-3', 'cm-3', 'cm-3', 'eV']\n",
    "        self.ds = self.dataset_init()\n",
    "\n",
    "    \n",
    "    def _create_da(self, index:int, v_range:range=range(200, 550, 50), p_range:range=range(5, 125, 10)):\n",
    "        \n",
    "        x_range = np.linspace(0, 200, 64)\n",
    "        y_range = np.linspace(350, 500, 64)\n",
    "\n",
    "        da = xr.DataArray([np.concatenate([get_prediction(v, p, index) for p in p_range]) for v in v_range],\n",
    "                        dims=[\"V\", \"P\", \"x\", \"y\"],\n",
    "                        coords=dict(V=v_range, P=p_range, x=x_range, y=y_range),\n",
    "                        attrs=dict(description=self.columns_full[index], units=self.units[index]),\n",
    "                        name=self.columns[index]\n",
    "        )\n",
    "\n",
    "        return da\n",
    "\n",
    "\n",
    "    def dataset_init(self):\n",
    "        ds = xr.merge([self._create_da(i, self.v_range, self.p_range) for i in range(5)], combine_attrs=\"drop\")\n",
    "    \n",
    "        return ds.assign_attrs(dict(description='Plasma image predictions by ImageMLP version A64j'))\n",
    "    \n",
    "    \n",
    "    def plot_variable(self, variable, cmap='viridis', out_dir=None):\n",
    "        \"\"\"\n",
    "        Plot a set of images for a specific plasma parameter.\n",
    "\n",
    "        This plot shows how the images change across both V and P. Based on sep_test_comparison code.\n",
    "        \"\"\"\n",
    "\n",
    "        ds = self.ds\n",
    "        # if is_square:\n",
    "        extent = [0, 20, 35, 55]\n",
    "        columns = ['phi', 'ne', 'ni', 'nm', 'te']\n",
    "        num_V = len(ds.V)\n",
    "        num_P = len(ds.P)\n",
    "\n",
    "        fig = plt.figure(figsize=(7,7), dpi=300, layout='constrained')\n",
    "\n",
    "        # grid goes along p horizontally and v vertically\n",
    "        grid = ImageGrid(fig, 111, nrows_ncols=(num_V, num_P), axes_pad=0.0, \n",
    "                        label_mode=\"L\", share_all=True, cbar_location=\"right\", cbar_mode=\"single\", \n",
    "                        cbar_size=\"3%\", cbar_pad='3%')\n",
    "        \n",
    "        # cbar_ranges = [(0, images[0, i].max()) for i in range(5)]  # shape: (5, 2)\n",
    "        v_list = list(ds.V.values)\n",
    "        p_list = list(ds.P.values)\n",
    "        j = -1\n",
    "\n",
    "        ijgrid = np.reshape(grid, (num_V, num_P))  # grid is a flat array of Axes that we reshape to easily use i, j\n",
    "        \n",
    "        for i, voltage in enumerate(reversed(v_list)):  # for voltage in voltages (reversed)\n",
    "            for j, pressure in enumerate(p_list):  # for pressure in pressures\n",
    "                ax = ijgrid[i, j]  # axes where image is plotted is on the (i, j)th point of the grid\n",
    "                \n",
    "                # plot the ith voltage and the jth pressure\n",
    "                im = ax.imshow(ds[variable].sel(V=voltage, P=pressure), origin='lower', extent=extent, aspect='equal',\n",
    "                            vmin=0, vmax=ds[variable].max(), cmap=cmap)\n",
    "                \n",
    "                draw_apparatus(ax)\n",
    "                ax.set_xlabel(f'{pressure} Pa', fontsize=8)  # jth pressure\n",
    "                ax.set_ylabel(f'{voltage} V' , fontsize=8, rotation=90)  # ith voltage\n",
    "\n",
    "                cb = grid.cbar_axes[j].colorbar(im)\n",
    "                cb.ax.tick_params(labelsize=8)\n",
    "                ax.tick_params(axis='both', which='both', left=False, bottom=False, labelbottom=False,\n",
    "                labelleft=False)\n",
    "\n",
    "        if out_dir is not None:\n",
    "            fig.savefig(out_dir/f'{variable}.png', bbox_inches='tight')\n",
    "\n",
    "        return fig\n",
    "    "
   ]
  },
  {
   "cell_type": "code",
   "execution_count": 24,
   "metadata": {},
   "outputs": [
    {
     "data": {
      "text/html": [
       "<div><svg style=\"position: absolute; width: 0; height: 0; overflow: hidden\">\n",
       "<defs>\n",
       "<symbol id=\"icon-database\" viewBox=\"0 0 32 32\">\n",
       "<path d=\"M16 0c-8.837 0-16 2.239-16 5v4c0 2.761 7.163 5 16 5s16-2.239 16-5v-4c0-2.761-7.163-5-16-5z\"></path>\n",
       "<path d=\"M16 17c-8.837 0-16-2.239-16-5v6c0 2.761 7.163 5 16 5s16-2.239 16-5v-6c0 2.761-7.163 5-16 5z\"></path>\n",
       "<path d=\"M16 26c-8.837 0-16-2.239-16-5v6c0 2.761 7.163 5 16 5s16-2.239 16-5v-6c0 2.761-7.163 5-16 5z\"></path>\n",
       "</symbol>\n",
       "<symbol id=\"icon-file-text2\" viewBox=\"0 0 32 32\">\n",
       "<path d=\"M28.681 7.159c-0.694-0.947-1.662-2.053-2.724-3.116s-2.169-2.030-3.116-2.724c-1.612-1.182-2.393-1.319-2.841-1.319h-15.5c-1.378 0-2.5 1.121-2.5 2.5v27c0 1.378 1.122 2.5 2.5 2.5h23c1.378 0 2.5-1.122 2.5-2.5v-19.5c0-0.448-0.137-1.23-1.319-2.841zM24.543 5.457c0.959 0.959 1.712 1.825 2.268 2.543h-4.811v-4.811c0.718 0.556 1.584 1.309 2.543 2.268zM28 29.5c0 0.271-0.229 0.5-0.5 0.5h-23c-0.271 0-0.5-0.229-0.5-0.5v-27c0-0.271 0.229-0.5 0.5-0.5 0 0 15.499-0 15.5 0v7c0 0.552 0.448 1 1 1h7v19.5z\"></path>\n",
       "<path d=\"M23 26h-14c-0.552 0-1-0.448-1-1s0.448-1 1-1h14c0.552 0 1 0.448 1 1s-0.448 1-1 1z\"></path>\n",
       "<path d=\"M23 22h-14c-0.552 0-1-0.448-1-1s0.448-1 1-1h14c0.552 0 1 0.448 1 1s-0.448 1-1 1z\"></path>\n",
       "<path d=\"M23 18h-14c-0.552 0-1-0.448-1-1s0.448-1 1-1h14c0.552 0 1 0.448 1 1s-0.448 1-1 1z\"></path>\n",
       "</symbol>\n",
       "</defs>\n",
       "</svg>\n",
       "<style>/* CSS stylesheet for displaying xarray objects in jupyterlab.\n",
       " *\n",
       " */\n",
       "\n",
       ":root {\n",
       "  --xr-font-color0: var(--jp-content-font-color0, rgba(0, 0, 0, 1));\n",
       "  --xr-font-color2: var(--jp-content-font-color2, rgba(0, 0, 0, 0.54));\n",
       "  --xr-font-color3: var(--jp-content-font-color3, rgba(0, 0, 0, 0.38));\n",
       "  --xr-border-color: var(--jp-border-color2, #e0e0e0);\n",
       "  --xr-disabled-color: var(--jp-layout-color3, #bdbdbd);\n",
       "  --xr-background-color: var(--jp-layout-color0, white);\n",
       "  --xr-background-color-row-even: var(--jp-layout-color1, white);\n",
       "  --xr-background-color-row-odd: var(--jp-layout-color2, #eeeeee);\n",
       "}\n",
       "\n",
       "html[theme=dark],\n",
       "body[data-theme=dark],\n",
       "body.vscode-dark {\n",
       "  --xr-font-color0: rgba(255, 255, 255, 1);\n",
       "  --xr-font-color2: rgba(255, 255, 255, 0.54);\n",
       "  --xr-font-color3: rgba(255, 255, 255, 0.38);\n",
       "  --xr-border-color: #1F1F1F;\n",
       "  --xr-disabled-color: #515151;\n",
       "  --xr-background-color: #111111;\n",
       "  --xr-background-color-row-even: #111111;\n",
       "  --xr-background-color-row-odd: #313131;\n",
       "}\n",
       "\n",
       ".xr-wrap {\n",
       "  display: block !important;\n",
       "  min-width: 300px;\n",
       "  max-width: 700px;\n",
       "}\n",
       "\n",
       ".xr-text-repr-fallback {\n",
       "  /* fallback to plain text repr when CSS is not injected (untrusted notebook) */\n",
       "  display: none;\n",
       "}\n",
       "\n",
       ".xr-header {\n",
       "  padding-top: 6px;\n",
       "  padding-bottom: 6px;\n",
       "  margin-bottom: 4px;\n",
       "  border-bottom: solid 1px var(--xr-border-color);\n",
       "}\n",
       "\n",
       ".xr-header > div,\n",
       ".xr-header > ul {\n",
       "  display: inline;\n",
       "  margin-top: 0;\n",
       "  margin-bottom: 0;\n",
       "}\n",
       "\n",
       ".xr-obj-type,\n",
       ".xr-array-name {\n",
       "  margin-left: 2px;\n",
       "  margin-right: 10px;\n",
       "}\n",
       "\n",
       ".xr-obj-type {\n",
       "  color: var(--xr-font-color2);\n",
       "}\n",
       "\n",
       ".xr-sections {\n",
       "  padding-left: 0 !important;\n",
       "  display: grid;\n",
       "  grid-template-columns: 150px auto auto 1fr 20px 20px;\n",
       "}\n",
       "\n",
       ".xr-section-item {\n",
       "  display: contents;\n",
       "}\n",
       "\n",
       ".xr-section-item input {\n",
       "  display: none;\n",
       "}\n",
       "\n",
       ".xr-section-item input + label {\n",
       "  color: var(--xr-disabled-color);\n",
       "}\n",
       "\n",
       ".xr-section-item input:enabled + label {\n",
       "  cursor: pointer;\n",
       "  color: var(--xr-font-color2);\n",
       "}\n",
       "\n",
       ".xr-section-item input:enabled + label:hover {\n",
       "  color: var(--xr-font-color0);\n",
       "}\n",
       "\n",
       ".xr-section-summary {\n",
       "  grid-column: 1;\n",
       "  color: var(--xr-font-color2);\n",
       "  font-weight: 500;\n",
       "}\n",
       "\n",
       ".xr-section-summary > span {\n",
       "  display: inline-block;\n",
       "  padding-left: 0.5em;\n",
       "}\n",
       "\n",
       ".xr-section-summary-in:disabled + label {\n",
       "  color: var(--xr-font-color2);\n",
       "}\n",
       "\n",
       ".xr-section-summary-in + label:before {\n",
       "  display: inline-block;\n",
       "  content: '►';\n",
       "  font-size: 11px;\n",
       "  width: 15px;\n",
       "  text-align: center;\n",
       "}\n",
       "\n",
       ".xr-section-summary-in:disabled + label:before {\n",
       "  color: var(--xr-disabled-color);\n",
       "}\n",
       "\n",
       ".xr-section-summary-in:checked + label:before {\n",
       "  content: '▼';\n",
       "}\n",
       "\n",
       ".xr-section-summary-in:checked + label > span {\n",
       "  display: none;\n",
       "}\n",
       "\n",
       ".xr-section-summary,\n",
       ".xr-section-inline-details {\n",
       "  padding-top: 4px;\n",
       "  padding-bottom: 4px;\n",
       "}\n",
       "\n",
       ".xr-section-inline-details {\n",
       "  grid-column: 2 / -1;\n",
       "}\n",
       "\n",
       ".xr-section-details {\n",
       "  display: none;\n",
       "  grid-column: 1 / -1;\n",
       "  margin-bottom: 5px;\n",
       "}\n",
       "\n",
       ".xr-section-summary-in:checked ~ .xr-section-details {\n",
       "  display: contents;\n",
       "}\n",
       "\n",
       ".xr-array-wrap {\n",
       "  grid-column: 1 / -1;\n",
       "  display: grid;\n",
       "  grid-template-columns: 20px auto;\n",
       "}\n",
       "\n",
       ".xr-array-wrap > label {\n",
       "  grid-column: 1;\n",
       "  vertical-align: top;\n",
       "}\n",
       "\n",
       ".xr-preview {\n",
       "  color: var(--xr-font-color3);\n",
       "}\n",
       "\n",
       ".xr-array-preview,\n",
       ".xr-array-data {\n",
       "  padding: 0 5px !important;\n",
       "  grid-column: 2;\n",
       "}\n",
       "\n",
       ".xr-array-data,\n",
       ".xr-array-in:checked ~ .xr-array-preview {\n",
       "  display: none;\n",
       "}\n",
       "\n",
       ".xr-array-in:checked ~ .xr-array-data,\n",
       ".xr-array-preview {\n",
       "  display: inline-block;\n",
       "}\n",
       "\n",
       ".xr-dim-list {\n",
       "  display: inline-block !important;\n",
       "  list-style: none;\n",
       "  padding: 0 !important;\n",
       "  margin: 0;\n",
       "}\n",
       "\n",
       ".xr-dim-list li {\n",
       "  display: inline-block;\n",
       "  padding: 0;\n",
       "  margin: 0;\n",
       "}\n",
       "\n",
       ".xr-dim-list:before {\n",
       "  content: '(';\n",
       "}\n",
       "\n",
       ".xr-dim-list:after {\n",
       "  content: ')';\n",
       "}\n",
       "\n",
       ".xr-dim-list li:not(:last-child):after {\n",
       "  content: ',';\n",
       "  padding-right: 5px;\n",
       "}\n",
       "\n",
       ".xr-has-index {\n",
       "  font-weight: bold;\n",
       "}\n",
       "\n",
       ".xr-var-list,\n",
       ".xr-var-item {\n",
       "  display: contents;\n",
       "}\n",
       "\n",
       ".xr-var-item > div,\n",
       ".xr-var-item label,\n",
       ".xr-var-item > .xr-var-name span {\n",
       "  background-color: var(--xr-background-color-row-even);\n",
       "  margin-bottom: 0;\n",
       "}\n",
       "\n",
       ".xr-var-item > .xr-var-name:hover span {\n",
       "  padding-right: 5px;\n",
       "}\n",
       "\n",
       ".xr-var-list > li:nth-child(odd) > div,\n",
       ".xr-var-list > li:nth-child(odd) > label,\n",
       ".xr-var-list > li:nth-child(odd) > .xr-var-name span {\n",
       "  background-color: var(--xr-background-color-row-odd);\n",
       "}\n",
       "\n",
       ".xr-var-name {\n",
       "  grid-column: 1;\n",
       "}\n",
       "\n",
       ".xr-var-dims {\n",
       "  grid-column: 2;\n",
       "}\n",
       "\n",
       ".xr-var-dtype {\n",
       "  grid-column: 3;\n",
       "  text-align: right;\n",
       "  color: var(--xr-font-color2);\n",
       "}\n",
       "\n",
       ".xr-var-preview {\n",
       "  grid-column: 4;\n",
       "}\n",
       "\n",
       ".xr-index-preview {\n",
       "  grid-column: 2 / 5;\n",
       "  color: var(--xr-font-color2);\n",
       "}\n",
       "\n",
       ".xr-var-name,\n",
       ".xr-var-dims,\n",
       ".xr-var-dtype,\n",
       ".xr-preview,\n",
       ".xr-attrs dt {\n",
       "  white-space: nowrap;\n",
       "  overflow: hidden;\n",
       "  text-overflow: ellipsis;\n",
       "  padding-right: 10px;\n",
       "}\n",
       "\n",
       ".xr-var-name:hover,\n",
       ".xr-var-dims:hover,\n",
       ".xr-var-dtype:hover,\n",
       ".xr-attrs dt:hover {\n",
       "  overflow: visible;\n",
       "  width: auto;\n",
       "  z-index: 1;\n",
       "}\n",
       "\n",
       ".xr-var-attrs,\n",
       ".xr-var-data,\n",
       ".xr-index-data {\n",
       "  display: none;\n",
       "  background-color: var(--xr-background-color) !important;\n",
       "  padding-bottom: 5px !important;\n",
       "}\n",
       "\n",
       ".xr-var-attrs-in:checked ~ .xr-var-attrs,\n",
       ".xr-var-data-in:checked ~ .xr-var-data,\n",
       ".xr-index-data-in:checked ~ .xr-index-data {\n",
       "  display: block;\n",
       "}\n",
       "\n",
       ".xr-var-data > table {\n",
       "  float: right;\n",
       "}\n",
       "\n",
       ".xr-var-name span,\n",
       ".xr-var-data,\n",
       ".xr-index-name div,\n",
       ".xr-index-data,\n",
       ".xr-attrs {\n",
       "  padding-left: 25px !important;\n",
       "}\n",
       "\n",
       ".xr-attrs,\n",
       ".xr-var-attrs,\n",
       ".xr-var-data,\n",
       ".xr-index-data {\n",
       "  grid-column: 1 / -1;\n",
       "}\n",
       "\n",
       "dl.xr-attrs {\n",
       "  padding: 0;\n",
       "  margin: 0;\n",
       "  display: grid;\n",
       "  grid-template-columns: 125px auto;\n",
       "}\n",
       "\n",
       ".xr-attrs dt,\n",
       ".xr-attrs dd {\n",
       "  padding: 0;\n",
       "  margin: 0;\n",
       "  float: left;\n",
       "  padding-right: 10px;\n",
       "  width: auto;\n",
       "}\n",
       "\n",
       ".xr-attrs dt {\n",
       "  font-weight: normal;\n",
       "  grid-column: 1;\n",
       "}\n",
       "\n",
       ".xr-attrs dt:hover span {\n",
       "  display: inline-block;\n",
       "  background: var(--xr-background-color);\n",
       "  padding-right: 10px;\n",
       "}\n",
       "\n",
       ".xr-attrs dd {\n",
       "  grid-column: 2;\n",
       "  white-space: pre-wrap;\n",
       "  word-break: break-all;\n",
       "}\n",
       "\n",
       ".xr-icon-database,\n",
       ".xr-icon-file-text2,\n",
       ".xr-no-icon {\n",
       "  display: inline-block;\n",
       "  vertical-align: middle;\n",
       "  width: 1em;\n",
       "  height: 1.5em !important;\n",
       "  stroke-width: 0;\n",
       "  stroke: currentColor;\n",
       "  fill: currentColor;\n",
       "}\n",
       "</style><pre class='xr-text-repr-fallback'>&lt;xarray.Dataset&gt;\n",
       "Dimensions:  (V: 7, P: 12, x: 64, y: 64)\n",
       "Coordinates:\n",
       "  * V        (V) int64 200 250 300 350 400 450 500\n",
       "  * P        (P) int64 5 15 25 35 45 55 65 75 85 95 105 115\n",
       "  * x        (x) float64 0.0 3.175 6.349 9.524 12.7 ... 190.5 193.7 196.8 200.0\n",
       "  * y        (y) float64 350.0 352.4 354.8 357.1 ... 492.9 495.2 497.6 500.0\n",
       "Data variables:\n",
       "    phi      (V, P, x, y) float32 0.0 0.0 0.0 0.0 ... 0.6661 0.6107 0.515 0.1713\n",
       "    ne       (V, P, x, y) float32 0.0 0.0 0.0 0.0 ... 0.01713 0.008433 0.0 0.0\n",
       "    ni       (V, P, x, y) float32 0.0 0.0 0.0 0.0 ... 0.01228 0.001723 0.01858\n",
       "    nm       (V, P, x, y) float32 0.0 0.0 0.0 0.0 0.0 ... 0.0 0.0 0.0 0.0 0.0\n",
       "    te       (V, P, x, y) float32 0.0 0.0 0.0 0.0 ... 0.2825 0.25 0.2064 0.114\n",
       "Attributes:\n",
       "    description:  Plasma image predictions by ImageMLP version A64j</pre><div class='xr-wrap' style='display:none'><div class='xr-header'><div class='xr-obj-type'>xarray.Dataset</div></div><ul class='xr-sections'><li class='xr-section-item'><input id='section-bf3325e2-8e2f-46c5-b221-63d9545d7a87' class='xr-section-summary-in' type='checkbox' disabled ><label for='section-bf3325e2-8e2f-46c5-b221-63d9545d7a87' class='xr-section-summary'  title='Expand/collapse section'>Dimensions:</label><div class='xr-section-inline-details'><ul class='xr-dim-list'><li><span class='xr-has-index'>V</span>: 7</li><li><span class='xr-has-index'>P</span>: 12</li><li><span class='xr-has-index'>x</span>: 64</li><li><span class='xr-has-index'>y</span>: 64</li></ul></div><div class='xr-section-details'></div></li><li class='xr-section-item'><input id='section-a423ad23-234c-4d28-a76c-36ac6f7fafca' class='xr-section-summary-in' type='checkbox'  checked><label for='section-a423ad23-234c-4d28-a76c-36ac6f7fafca' class='xr-section-summary' >Coordinates: <span>(4)</span></label><div class='xr-section-inline-details'></div><div class='xr-section-details'><ul class='xr-var-list'><li class='xr-var-item'><div class='xr-var-name'><span class='xr-has-index'>V</span></div><div class='xr-var-dims'>(V)</div><div class='xr-var-dtype'>int64</div><div class='xr-var-preview xr-preview'>200 250 300 350 400 450 500</div><input id='attrs-aa5a3fb4-dc8c-4903-8d9a-a71e10f5eaf8' class='xr-var-attrs-in' type='checkbox' disabled><label for='attrs-aa5a3fb4-dc8c-4903-8d9a-a71e10f5eaf8' title='Show/Hide attributes'><svg class='icon xr-icon-file-text2'><use xlink:href='#icon-file-text2'></use></svg></label><input id='data-18307b6f-dd42-47eb-867d-9bc80a502f8b' class='xr-var-data-in' type='checkbox'><label for='data-18307b6f-dd42-47eb-867d-9bc80a502f8b' title='Show/Hide data repr'><svg class='icon xr-icon-database'><use xlink:href='#icon-database'></use></svg></label><div class='xr-var-attrs'><dl class='xr-attrs'></dl></div><div class='xr-var-data'><pre>array([200, 250, 300, 350, 400, 450, 500])</pre></div></li><li class='xr-var-item'><div class='xr-var-name'><span class='xr-has-index'>P</span></div><div class='xr-var-dims'>(P)</div><div class='xr-var-dtype'>int64</div><div class='xr-var-preview xr-preview'>5 15 25 35 45 ... 75 85 95 105 115</div><input id='attrs-d8102848-3bc3-4b8e-b816-bf715b7ba857' class='xr-var-attrs-in' type='checkbox' disabled><label for='attrs-d8102848-3bc3-4b8e-b816-bf715b7ba857' title='Show/Hide attributes'><svg class='icon xr-icon-file-text2'><use xlink:href='#icon-file-text2'></use></svg></label><input id='data-f621e9a7-7831-4b7c-b4a7-226323be6d78' class='xr-var-data-in' type='checkbox'><label for='data-f621e9a7-7831-4b7c-b4a7-226323be6d78' title='Show/Hide data repr'><svg class='icon xr-icon-database'><use xlink:href='#icon-database'></use></svg></label><div class='xr-var-attrs'><dl class='xr-attrs'></dl></div><div class='xr-var-data'><pre>array([  5,  15,  25,  35,  45,  55,  65,  75,  85,  95, 105, 115])</pre></div></li><li class='xr-var-item'><div class='xr-var-name'><span class='xr-has-index'>x</span></div><div class='xr-var-dims'>(x)</div><div class='xr-var-dtype'>float64</div><div class='xr-var-preview xr-preview'>0.0 3.175 6.349 ... 196.8 200.0</div><input id='attrs-b99bebd5-049c-4a06-ab03-f6be03364e46' class='xr-var-attrs-in' type='checkbox' disabled><label for='attrs-b99bebd5-049c-4a06-ab03-f6be03364e46' title='Show/Hide attributes'><svg class='icon xr-icon-file-text2'><use xlink:href='#icon-file-text2'></use></svg></label><input id='data-eabff1ac-6c48-4deb-9c4d-52e4a8a8034e' class='xr-var-data-in' type='checkbox'><label for='data-eabff1ac-6c48-4deb-9c4d-52e4a8a8034e' title='Show/Hide data repr'><svg class='icon xr-icon-database'><use xlink:href='#icon-database'></use></svg></label><div class='xr-var-attrs'><dl class='xr-attrs'></dl></div><div class='xr-var-data'><pre>array([  0.      ,   3.174603,   6.349206,   9.52381 ,  12.698413,  15.873016,\n",
       "        19.047619,  22.222222,  25.396825,  28.571429,  31.746032,  34.920635,\n",
       "        38.095238,  41.269841,  44.444444,  47.619048,  50.793651,  53.968254,\n",
       "        57.142857,  60.31746 ,  63.492063,  66.666667,  69.84127 ,  73.015873,\n",
       "        76.190476,  79.365079,  82.539683,  85.714286,  88.888889,  92.063492,\n",
       "        95.238095,  98.412698, 101.587302, 104.761905, 107.936508, 111.111111,\n",
       "       114.285714, 117.460317, 120.634921, 123.809524, 126.984127, 130.15873 ,\n",
       "       133.333333, 136.507937, 139.68254 , 142.857143, 146.031746, 149.206349,\n",
       "       152.380952, 155.555556, 158.730159, 161.904762, 165.079365, 168.253968,\n",
       "       171.428571, 174.603175, 177.777778, 180.952381, 184.126984, 187.301587,\n",
       "       190.47619 , 193.650794, 196.825397, 200.      ])</pre></div></li><li class='xr-var-item'><div class='xr-var-name'><span class='xr-has-index'>y</span></div><div class='xr-var-dims'>(y)</div><div class='xr-var-dtype'>float64</div><div class='xr-var-preview xr-preview'>350.0 352.4 354.8 ... 497.6 500.0</div><input id='attrs-58b3ae05-b8e2-4cd4-9fb7-a5a222175610' class='xr-var-attrs-in' type='checkbox' disabled><label for='attrs-58b3ae05-b8e2-4cd4-9fb7-a5a222175610' title='Show/Hide attributes'><svg class='icon xr-icon-file-text2'><use xlink:href='#icon-file-text2'></use></svg></label><input id='data-f50da264-7577-45c8-bf16-bbf66744c57c' class='xr-var-data-in' type='checkbox'><label for='data-f50da264-7577-45c8-bf16-bbf66744c57c' title='Show/Hide data repr'><svg class='icon xr-icon-database'><use xlink:href='#icon-database'></use></svg></label><div class='xr-var-attrs'><dl class='xr-attrs'></dl></div><div class='xr-var-data'><pre>array([350.      , 352.380952, 354.761905, 357.142857, 359.52381 , 361.904762,\n",
       "       364.285714, 366.666667, 369.047619, 371.428571, 373.809524, 376.190476,\n",
       "       378.571429, 380.952381, 383.333333, 385.714286, 388.095238, 390.47619 ,\n",
       "       392.857143, 395.238095, 397.619048, 400.      , 402.380952, 404.761905,\n",
       "       407.142857, 409.52381 , 411.904762, 414.285714, 416.666667, 419.047619,\n",
       "       421.428571, 423.809524, 426.190476, 428.571429, 430.952381, 433.333333,\n",
       "       435.714286, 438.095238, 440.47619 , 442.857143, 445.238095, 447.619048,\n",
       "       450.      , 452.380952, 454.761905, 457.142857, 459.52381 , 461.904762,\n",
       "       464.285714, 466.666667, 469.047619, 471.428571, 473.809524, 476.190476,\n",
       "       478.571429, 480.952381, 483.333333, 485.714286, 488.095238, 490.47619 ,\n",
       "       492.857143, 495.238095, 497.619048, 500.      ])</pre></div></li></ul></div></li><li class='xr-section-item'><input id='section-295a3639-c2e9-4bda-8d58-e63ecc2f5613' class='xr-section-summary-in' type='checkbox'  checked><label for='section-295a3639-c2e9-4bda-8d58-e63ecc2f5613' class='xr-section-summary' >Data variables: <span>(5)</span></label><div class='xr-section-inline-details'></div><div class='xr-section-details'><ul class='xr-var-list'><li class='xr-var-item'><div class='xr-var-name'><span>phi</span></div><div class='xr-var-dims'>(V, P, x, y)</div><div class='xr-var-dtype'>float32</div><div class='xr-var-preview xr-preview'>0.0 0.0 0.0 ... 0.6107 0.515 0.1713</div><input id='attrs-049fdf09-2585-4a53-a98e-1a2fffbaad00' class='xr-var-attrs-in' type='checkbox' disabled><label for='attrs-049fdf09-2585-4a53-a98e-1a2fffbaad00' title='Show/Hide attributes'><svg class='icon xr-icon-file-text2'><use xlink:href='#icon-file-text2'></use></svg></label><input id='data-7edd600a-e3b4-4f53-9aac-3d8b949dabc6' class='xr-var-data-in' type='checkbox'><label for='data-7edd600a-e3b4-4f53-9aac-3d8b949dabc6' title='Show/Hide data repr'><svg class='icon xr-icon-database'><use xlink:href='#icon-database'></use></svg></label><div class='xr-var-attrs'><dl class='xr-attrs'></dl></div><div class='xr-var-data'><pre>array([[[[0.        , 0.        , 0.        , ..., 0.2842446 ,\n",
       "          0.22252518, 0.11258931],\n",
       "         [0.        , 0.        , 0.        , ..., 0.2676367 ,\n",
       "          0.1960774 , 0.064338  ],\n",
       "         [0.        , 0.        , 0.        , ..., 0.2610723 ,\n",
       "          0.18414958, 0.06886153],\n",
       "         ...,\n",
       "         [0.3635556 , 0.3699144 , 0.36979586, ..., 0.2393802 ,\n",
       "          0.1690833 , 0.04770897],\n",
       "         [0.3538462 , 0.36680546, 0.36619055, ..., 0.23874478,\n",
       "          0.16518159, 0.04251468],\n",
       "         [0.3439948 , 0.3662136 , 0.37005186, ..., 0.25877753,\n",
       "          0.22845837, 0.10407814]],\n",
       "\n",
       "        [[0.        , 0.        , 0.        , ..., 0.27963257,\n",
       "          0.22913691, 0.12043591],\n",
       "         [0.        , 0.        , 0.        , ..., 0.27087313,\n",
       "          0.2137862 , 0.07011785],\n",
       "         [0.        , 0.        , 0.        , ..., 0.26308596,\n",
       "          0.19924417, 0.07470375],\n",
       "...\n",
       "         [0.7087326 , 0.7205581 , 0.7242974 , ..., 0.6867353 ,\n",
       "          0.5776667 , 0.24237101],\n",
       "         [0.71025825, 0.725378  , 0.7296255 , ..., 0.6791458 ,\n",
       "          0.56956315, 0.23626773],\n",
       "         [0.67513174, 0.7108808 , 0.720105  , ..., 0.6392395 ,\n",
       "          0.5427501 , 0.18256696]],\n",
       "\n",
       "        [[0.        , 0.        , 0.        , ..., 0.6348274 ,\n",
       "          0.5624684 , 0.2295756 ],\n",
       "         [0.        , 0.        , 0.        , ..., 0.69214875,\n",
       "          0.641537  , 0.2965168 ],\n",
       "         [0.        , 0.        , 0.        , ..., 0.6814854 ,\n",
       "          0.6104359 , 0.3072657 ],\n",
       "         ...,\n",
       "         [0.69626784, 0.7065103 , 0.7096776 , ..., 0.66211885,\n",
       "          0.5484196 , 0.22789754],\n",
       "         [0.6991961 , 0.7128524 , 0.71643627, ..., 0.65242404,\n",
       "          0.53927946, 0.22299078],\n",
       "         [0.66629785, 0.6995486 , 0.7069113 , ..., 0.61070603,\n",
       "          0.5150155 , 0.17131321]]]], dtype=float32)</pre></div></li><li class='xr-var-item'><div class='xr-var-name'><span>ne</span></div><div class='xr-var-dims'>(V, P, x, y)</div><div class='xr-var-dtype'>float32</div><div class='xr-var-preview xr-preview'>0.0 0.0 0.0 ... 0.008433 0.0 0.0</div><input id='attrs-cfd5550f-5586-4182-8fac-55960bf91255' class='xr-var-attrs-in' type='checkbox' disabled><label for='attrs-cfd5550f-5586-4182-8fac-55960bf91255' title='Show/Hide attributes'><svg class='icon xr-icon-file-text2'><use xlink:href='#icon-file-text2'></use></svg></label><input id='data-76c274fd-96ef-4c34-aeeb-3af17bdbfb52' class='xr-var-data-in' type='checkbox'><label for='data-76c274fd-96ef-4c34-aeeb-3af17bdbfb52' title='Show/Hide data repr'><svg class='icon xr-icon-database'><use xlink:href='#icon-database'></use></svg></label><div class='xr-var-attrs'><dl class='xr-attrs'></dl></div><div class='xr-var-data'><pre>array([[[[0.00000000e+00, 0.00000000e+00, 0.00000000e+00, ...,\n",
       "          0.00000000e+00, 0.00000000e+00, 0.00000000e+00],\n",
       "         [0.00000000e+00, 0.00000000e+00, 0.00000000e+00, ...,\n",
       "          0.00000000e+00, 0.00000000e+00, 0.00000000e+00],\n",
       "         [0.00000000e+00, 0.00000000e+00, 0.00000000e+00, ...,\n",
       "          0.00000000e+00, 0.00000000e+00, 0.00000000e+00],\n",
       "         ...,\n",
       "         [0.00000000e+00, 0.00000000e+00, 0.00000000e+00, ...,\n",
       "          0.00000000e+00, 0.00000000e+00, 0.00000000e+00],\n",
       "         [0.00000000e+00, 0.00000000e+00, 0.00000000e+00, ...,\n",
       "          0.00000000e+00, 0.00000000e+00, 0.00000000e+00],\n",
       "         [1.82492137e-02, 1.02683157e-02, 1.49248838e-02, ...,\n",
       "          0.00000000e+00, 0.00000000e+00, 0.00000000e+00]],\n",
       "\n",
       "        [[0.00000000e+00, 0.00000000e+00, 0.00000000e+00, ...,\n",
       "          0.00000000e+00, 0.00000000e+00, 0.00000000e+00],\n",
       "         [0.00000000e+00, 0.00000000e+00, 0.00000000e+00, ...,\n",
       "          0.00000000e+00, 0.00000000e+00, 0.00000000e+00],\n",
       "         [0.00000000e+00, 0.00000000e+00, 0.00000000e+00, ...,\n",
       "          0.00000000e+00, 0.00000000e+00, 0.00000000e+00],\n",
       "...\n",
       "          2.92294919e-02, 0.00000000e+00, 0.00000000e+00],\n",
       "         [0.00000000e+00, 6.88359141e-03, 2.13374197e-02, ...,\n",
       "          2.62475759e-02, 0.00000000e+00, 0.00000000e+00],\n",
       "         [4.13427800e-02, 1.51969194e-02, 2.58358121e-02, ...,\n",
       "          2.05487460e-02, 0.00000000e+00, 0.00000000e+00]],\n",
       "\n",
       "        [[0.00000000e+00, 0.00000000e+00, 0.00000000e+00, ...,\n",
       "          3.17997634e-02, 1.74271315e-02, 0.00000000e+00],\n",
       "         [0.00000000e+00, 0.00000000e+00, 0.00000000e+00, ...,\n",
       "          7.04345554e-02, 5.68814576e-02, 0.00000000e+00],\n",
       "         [0.00000000e+00, 0.00000000e+00, 0.00000000e+00, ...,\n",
       "          8.59620273e-02, 6.92028627e-02, 0.00000000e+00],\n",
       "         ...,\n",
       "         [0.00000000e+00, 9.33001935e-03, 1.65210962e-02, ...,\n",
       "          2.73250788e-02, 0.00000000e+00, 0.00000000e+00],\n",
       "         [0.00000000e+00, 8.31145048e-03, 2.32201964e-02, ...,\n",
       "          1.92688555e-02, 0.00000000e+00, 0.00000000e+00],\n",
       "         [4.26272601e-02, 1.78615004e-02, 2.88317651e-02, ...,\n",
       "          8.43347609e-03, 0.00000000e+00, 0.00000000e+00]]]],\n",
       "      dtype=float32)</pre></div></li><li class='xr-var-item'><div class='xr-var-name'><span>ni</span></div><div class='xr-var-dims'>(V, P, x, y)</div><div class='xr-var-dtype'>float32</div><div class='xr-var-preview xr-preview'>0.0 0.0 0.0 ... 0.001723 0.01858</div><input id='attrs-6fd92855-08a3-4d7f-9e0c-e4cfbc04e812' class='xr-var-attrs-in' type='checkbox' disabled><label for='attrs-6fd92855-08a3-4d7f-9e0c-e4cfbc04e812' title='Show/Hide attributes'><svg class='icon xr-icon-file-text2'><use xlink:href='#icon-file-text2'></use></svg></label><input id='data-b32ff9cf-5933-4bad-b506-dbf2309ab7ea' class='xr-var-data-in' type='checkbox'><label for='data-b32ff9cf-5933-4bad-b506-dbf2309ab7ea' title='Show/Hide data repr'><svg class='icon xr-icon-database'><use xlink:href='#icon-database'></use></svg></label><div class='xr-var-attrs'><dl class='xr-attrs'></dl></div><div class='xr-var-data'><pre>array([[[[0.00000000e+00, 0.00000000e+00, 0.00000000e+00, ...,\n",
       "          0.00000000e+00, 0.00000000e+00, 0.00000000e+00],\n",
       "         [0.00000000e+00, 0.00000000e+00, 0.00000000e+00, ...,\n",
       "          0.00000000e+00, 0.00000000e+00, 0.00000000e+00],\n",
       "         [0.00000000e+00, 0.00000000e+00, 0.00000000e+00, ...,\n",
       "          0.00000000e+00, 0.00000000e+00, 0.00000000e+00],\n",
       "         ...,\n",
       "         [0.00000000e+00, 0.00000000e+00, 0.00000000e+00, ...,\n",
       "          0.00000000e+00, 0.00000000e+00, 0.00000000e+00],\n",
       "         [0.00000000e+00, 0.00000000e+00, 0.00000000e+00, ...,\n",
       "          0.00000000e+00, 0.00000000e+00, 0.00000000e+00],\n",
       "         [9.90162045e-03, 1.40111148e-03, 3.51982564e-03, ...,\n",
       "          0.00000000e+00, 0.00000000e+00, 0.00000000e+00]],\n",
       "\n",
       "        [[0.00000000e+00, 0.00000000e+00, 0.00000000e+00, ...,\n",
       "          0.00000000e+00, 0.00000000e+00, 0.00000000e+00],\n",
       "         [0.00000000e+00, 0.00000000e+00, 0.00000000e+00, ...,\n",
       "          0.00000000e+00, 0.00000000e+00, 0.00000000e+00],\n",
       "         [0.00000000e+00, 0.00000000e+00, 0.00000000e+00, ...,\n",
       "          0.00000000e+00, 0.00000000e+00, 0.00000000e+00],\n",
       "...\n",
       "          3.53238434e-02, 3.18772122e-02, 7.39973783e-03],\n",
       "         [0.00000000e+00, 8.30152631e-03, 1.70232430e-02, ...,\n",
       "          3.26187238e-02, 2.35140249e-02, 0.00000000e+00],\n",
       "         [5.97598925e-02, 3.35968807e-02, 4.47578393e-02, ...,\n",
       "          2.13465616e-02, 9.06910002e-03, 2.08513886e-02]],\n",
       "\n",
       "        [[0.00000000e+00, 0.00000000e+00, 0.00000000e+00, ...,\n",
       "          5.03957123e-02, 2.37888843e-02, 0.00000000e+00],\n",
       "         [0.00000000e+00, 0.00000000e+00, 0.00000000e+00, ...,\n",
       "          7.83571303e-02, 6.77997470e-02, 0.00000000e+00],\n",
       "         [0.00000000e+00, 0.00000000e+00, 0.00000000e+00, ...,\n",
       "          8.78970325e-02, 8.06393623e-02, 0.00000000e+00],\n",
       "         ...,\n",
       "         [0.00000000e+00, 6.26270473e-03, 9.60090011e-03, ...,\n",
       "          3.36361229e-02, 2.53337398e-02, 6.75813854e-03],\n",
       "         [0.00000000e+00, 9.16995853e-03, 1.80615410e-02, ...,\n",
       "          2.56451368e-02, 1.64706632e-02, 0.00000000e+00],\n",
       "         [6.07814752e-02, 3.71339954e-02, 4.85620275e-02, ...,\n",
       "          1.22777522e-02, 1.72277540e-03, 1.85806677e-02]]]],\n",
       "      dtype=float32)</pre></div></li><li class='xr-var-item'><div class='xr-var-name'><span>nm</span></div><div class='xr-var-dims'>(V, P, x, y)</div><div class='xr-var-dtype'>float32</div><div class='xr-var-preview xr-preview'>0.0 0.0 0.0 0.0 ... 0.0 0.0 0.0 0.0</div><input id='attrs-7bd58d53-9a7f-4146-8b87-f1a376632f06' class='xr-var-attrs-in' type='checkbox' disabled><label for='attrs-7bd58d53-9a7f-4146-8b87-f1a376632f06' title='Show/Hide attributes'><svg class='icon xr-icon-file-text2'><use xlink:href='#icon-file-text2'></use></svg></label><input id='data-b3b4e9cf-b69b-4b0b-871d-b2da69965ab0' class='xr-var-data-in' type='checkbox'><label for='data-b3b4e9cf-b69b-4b0b-871d-b2da69965ab0' title='Show/Hide data repr'><svg class='icon xr-icon-database'><use xlink:href='#icon-database'></use></svg></label><div class='xr-var-attrs'><dl class='xr-attrs'></dl></div><div class='xr-var-data'><pre>array([[[[0.        , 0.        , 0.        , ..., 0.        ,\n",
       "          0.        , 0.        ],\n",
       "         [0.        , 0.        , 0.        , ..., 0.        ,\n",
       "          0.        , 0.        ],\n",
       "         [0.        , 0.        , 0.        , ..., 0.        ,\n",
       "          0.        , 0.        ],\n",
       "         ...,\n",
       "         [0.        , 0.        , 0.        , ..., 0.        ,\n",
       "          0.        , 0.        ],\n",
       "         [0.        , 0.        , 0.        , ..., 0.        ,\n",
       "          0.        , 0.        ],\n",
       "         [0.        , 0.        , 0.        , ..., 0.        ,\n",
       "          0.        , 0.        ]],\n",
       "\n",
       "        [[0.        , 0.        , 0.        , ..., 0.        ,\n",
       "          0.        , 0.        ],\n",
       "         [0.        , 0.        , 0.        , ..., 0.        ,\n",
       "          0.        , 0.        ],\n",
       "         [0.        , 0.        , 0.        , ..., 0.        ,\n",
       "          0.        , 0.        ],\n",
       "...\n",
       "         [0.        , 0.        , 0.        , ..., 0.        ,\n",
       "          0.        , 0.        ],\n",
       "         [0.        , 0.        , 0.        , ..., 0.        ,\n",
       "          0.        , 0.        ],\n",
       "         [0.        , 0.        , 0.        , ..., 0.        ,\n",
       "          0.        , 0.        ]],\n",
       "\n",
       "        [[0.        , 0.        , 0.        , ..., 0.00402442,\n",
       "          0.00816833, 0.03716214],\n",
       "         [0.        , 0.        , 0.        , ..., 0.        ,\n",
       "          0.        , 0.0153256 ],\n",
       "         [0.        , 0.        , 0.        , ..., 0.        ,\n",
       "          0.        , 0.02570658],\n",
       "         ...,\n",
       "         [0.        , 0.        , 0.        , ..., 0.        ,\n",
       "          0.        , 0.        ],\n",
       "         [0.        , 0.        , 0.        , ..., 0.        ,\n",
       "          0.        , 0.        ],\n",
       "         [0.        , 0.        , 0.        , ..., 0.        ,\n",
       "          0.        , 0.        ]]]], dtype=float32)</pre></div></li><li class='xr-var-item'><div class='xr-var-name'><span>te</span></div><div class='xr-var-dims'>(V, P, x, y)</div><div class='xr-var-dtype'>float32</div><div class='xr-var-preview xr-preview'>0.0 0.0 0.0 ... 0.25 0.2064 0.114</div><input id='attrs-cc04aa64-881e-4600-a4cf-3f220ed47c56' class='xr-var-attrs-in' type='checkbox' disabled><label for='attrs-cc04aa64-881e-4600-a4cf-3f220ed47c56' title='Show/Hide attributes'><svg class='icon xr-icon-file-text2'><use xlink:href='#icon-file-text2'></use></svg></label><input id='data-7aee0b0f-e9c7-414e-bad8-f08fd35fa912' class='xr-var-data-in' type='checkbox'><label for='data-7aee0b0f-e9c7-414e-bad8-f08fd35fa912' title='Show/Hide data repr'><svg class='icon xr-icon-database'><use xlink:href='#icon-database'></use></svg></label><div class='xr-var-attrs'><dl class='xr-attrs'></dl></div><div class='xr-var-data'><pre>array([[[[0.        , 0.        , 0.        , ..., 0.3106973 ,\n",
       "          0.3117906 , 0.2910899 ],\n",
       "         [0.        , 0.        , 0.        , ..., 0.32867554,\n",
       "          0.31061333, 0.30506152],\n",
       "         [0.        , 0.        , 0.        , ..., 0.33507735,\n",
       "          0.3292749 , 0.30746537],\n",
       "         ...,\n",
       "         [0.2672119 , 0.28408676, 0.28919077, ..., 0.3181072 ,\n",
       "          0.2823667 , 0.23046038],\n",
       "         [0.25091475, 0.27614254, 0.28109312, ..., 0.3106292 ,\n",
       "          0.26998866, 0.21602806],\n",
       "         [0.22782487, 0.25429732, 0.2609392 , ..., 0.28193885,\n",
       "          0.2536636 , 0.2228226 ]],\n",
       "\n",
       "        [[0.        , 0.        , 0.        , ..., 0.29693198,\n",
       "          0.2972567 , 0.27920833],\n",
       "         [0.        , 0.        , 0.        , ..., 0.31787968,\n",
       "          0.29953122, 0.2923969 ],\n",
       "         [0.        , 0.        , 0.        , ..., 0.32328653,\n",
       "          0.31758678, 0.29589194],\n",
       "...\n",
       "         [0.16718948, 0.1660457 , 0.16277039, ..., 0.25604004,\n",
       "          0.21174525, 0.14760253],\n",
       "         [0.17193565, 0.1640034 , 0.15711069, ..., 0.25601137,\n",
       "          0.21222456, 0.13446625],\n",
       "         [0.1546031 , 0.14360209, 0.13509016, ..., 0.2572679 ,\n",
       "          0.21586183, 0.12103143]],\n",
       "\n",
       "        [[0.        , 0.        , 0.        , ..., 0.26119378,\n",
       "          0.24514063, 0.24069442],\n",
       "         [0.        , 0.        , 0.        , ..., 0.27031094,\n",
       "          0.24713188, 0.25294775],\n",
       "         [0.        , 0.        , 0.        , ..., 0.26209903,\n",
       "          0.23923501, 0.25810683],\n",
       "         ...,\n",
       "         [0.16388485, 0.15940712, 0.15415263, ..., 0.25083447,\n",
       "          0.19949447, 0.14206836],\n",
       "         [0.16861394, 0.15757689, 0.14901222, ..., 0.25095552,\n",
       "          0.19481428, 0.1270653 ],\n",
       "         [0.15257217, 0.1379948 , 0.12846881, ..., 0.24999918,\n",
       "          0.2063886 , 0.11396648]]]], dtype=float32)</pre></div></li></ul></div></li><li class='xr-section-item'><input id='section-a9877c68-1f64-41b7-a260-5e2eeef1ae79' class='xr-section-summary-in' type='checkbox'  ><label for='section-a9877c68-1f64-41b7-a260-5e2eeef1ae79' class='xr-section-summary' >Indexes: <span>(4)</span></label><div class='xr-section-inline-details'></div><div class='xr-section-details'><ul class='xr-var-list'><li class='xr-var-item'><div class='xr-index-name'><div>V</div></div><div class='xr-index-preview'>PandasIndex</div><div></div><input id='index-32013379-b3f4-4787-8a87-e523dac230fe' class='xr-index-data-in' type='checkbox'/><label for='index-32013379-b3f4-4787-8a87-e523dac230fe' title='Show/Hide index repr'><svg class='icon xr-icon-database'><use xlink:href='#icon-database'></use></svg></label><div class='xr-index-data'><pre>PandasIndex(Int64Index([200, 250, 300, 350, 400, 450, 500], dtype=&#x27;int64&#x27;, name=&#x27;V&#x27;))</pre></div></li><li class='xr-var-item'><div class='xr-index-name'><div>P</div></div><div class='xr-index-preview'>PandasIndex</div><div></div><input id='index-a2b09771-ef64-4519-9a0b-57834d012515' class='xr-index-data-in' type='checkbox'/><label for='index-a2b09771-ef64-4519-9a0b-57834d012515' title='Show/Hide index repr'><svg class='icon xr-icon-database'><use xlink:href='#icon-database'></use></svg></label><div class='xr-index-data'><pre>PandasIndex(Int64Index([5, 15, 25, 35, 45, 55, 65, 75, 85, 95, 105, 115], dtype=&#x27;int64&#x27;, name=&#x27;P&#x27;))</pre></div></li><li class='xr-var-item'><div class='xr-index-name'><div>x</div></div><div class='xr-index-preview'>PandasIndex</div><div></div><input id='index-0a74d029-9507-4974-8968-e080ddf76251' class='xr-index-data-in' type='checkbox'/><label for='index-0a74d029-9507-4974-8968-e080ddf76251' title='Show/Hide index repr'><svg class='icon xr-icon-database'><use xlink:href='#icon-database'></use></svg></label><div class='xr-index-data'><pre>PandasIndex(Float64Index([               0.0, 3.1746031746031744,  6.349206349206349,\n",
       "               9.523809523809524, 12.698412698412698, 15.873015873015872,\n",
       "              19.047619047619047,  22.22222222222222, 25.396825396825395,\n",
       "               28.57142857142857, 31.746031746031743,  34.92063492063492,\n",
       "              38.095238095238095, 41.269841269841265,  44.44444444444444,\n",
       "               47.61904761904761,  50.79365079365079,  53.96825396825397,\n",
       "               57.14285714285714, 60.317460317460316,  63.49206349206349,\n",
       "               66.66666666666666,  69.84126984126983,  73.01587301587301,\n",
       "               76.19047619047619,  79.36507936507937,  82.53968253968253,\n",
       "               85.71428571428571,  88.88888888888889,  92.06349206349206,\n",
       "               95.23809523809523,   98.4126984126984, 101.58730158730158,\n",
       "              104.76190476190476, 107.93650793650794,  111.1111111111111,\n",
       "              114.28571428571428, 117.46031746031746, 120.63492063492063,\n",
       "               123.8095238095238, 126.98412698412697, 130.15873015873015,\n",
       "              133.33333333333331,  136.5079365079365, 139.68253968253967,\n",
       "              142.85714285714286, 146.03174603174602,  149.2063492063492,\n",
       "              152.38095238095238, 155.55555555555554, 158.73015873015873,\n",
       "               161.9047619047619, 165.07936507936506, 168.25396825396825,\n",
       "              171.42857142857142, 174.60317460317458, 177.77777777777777,\n",
       "              180.95238095238093, 184.12698412698413,  187.3015873015873,\n",
       "              190.47619047619045, 193.65079365079364,  196.8253968253968,\n",
       "                           200.0],\n",
       "             dtype=&#x27;float64&#x27;, name=&#x27;x&#x27;))</pre></div></li><li class='xr-var-item'><div class='xr-index-name'><div>y</div></div><div class='xr-index-preview'>PandasIndex</div><div></div><input id='index-e353d9c0-2b86-461d-89ee-574cdf8d35a6' class='xr-index-data-in' type='checkbox'/><label for='index-e353d9c0-2b86-461d-89ee-574cdf8d35a6' title='Show/Hide index repr'><svg class='icon xr-icon-database'><use xlink:href='#icon-database'></use></svg></label><div class='xr-index-data'><pre>PandasIndex(Float64Index([             350.0,  352.3809523809524, 354.76190476190476,\n",
       "              357.14285714285717,  359.5238095238095,  361.9047619047619,\n",
       "               364.2857142857143,  366.6666666666667, 369.04761904761904,\n",
       "              371.42857142857144,  373.8095238095238,  376.1904761904762,\n",
       "              378.57142857142856, 380.95238095238096,  383.3333333333333,\n",
       "               385.7142857142857,  388.0952380952381,  390.4761904761905,\n",
       "              392.85714285714283, 395.23809523809524,  397.6190476190476,\n",
       "                           400.0,  402.3809523809524, 404.76190476190476,\n",
       "               407.1428571428571,  409.5238095238095,  411.9047619047619,\n",
       "               414.2857142857143,  416.6666666666667, 419.04761904761904,\n",
       "              421.42857142857144,  423.8095238095238,  426.1904761904762,\n",
       "              428.57142857142856, 430.95238095238096,  433.3333333333333,\n",
       "               435.7142857142857,  438.0952380952381,  440.4761904761905,\n",
       "               442.8571428571429, 445.23809523809524,  447.6190476190476,\n",
       "                           450.0,  452.3809523809524, 454.76190476190476,\n",
       "               457.1428571428571,  459.5238095238095,  461.9047619047619,\n",
       "               464.2857142857143,  466.6666666666667, 469.04761904761904,\n",
       "              471.42857142857144,  473.8095238095238,  476.1904761904762,\n",
       "              478.57142857142856, 480.95238095238096, 483.33333333333337,\n",
       "               485.7142857142857,  488.0952380952381,  490.4761904761905,\n",
       "               492.8571428571429, 495.23809523809524,  497.6190476190476,\n",
       "                           500.0],\n",
       "             dtype=&#x27;float64&#x27;, name=&#x27;y&#x27;))</pre></div></li></ul></div></li><li class='xr-section-item'><input id='section-03c79264-6a2e-44b2-803d-aae7a139bf15' class='xr-section-summary-in' type='checkbox'  checked><label for='section-03c79264-6a2e-44b2-803d-aae7a139bf15' class='xr-section-summary' >Attributes: <span>(1)</span></label><div class='xr-section-inline-details'></div><div class='xr-section-details'><dl class='xr-attrs'><dt><span>description :</span></dt><dd>Plasma image predictions by ImageMLP version A64j</dd></dl></div></li></ul></div></div>"
      ],
      "text/plain": [
       "<xarray.Dataset>\n",
       "Dimensions:  (V: 7, P: 12, x: 64, y: 64)\n",
       "Coordinates:\n",
       "  * V        (V) int64 200 250 300 350 400 450 500\n",
       "  * P        (P) int64 5 15 25 35 45 55 65 75 85 95 105 115\n",
       "  * x        (x) float64 0.0 3.175 6.349 9.524 12.7 ... 190.5 193.7 196.8 200.0\n",
       "  * y        (y) float64 350.0 352.4 354.8 357.1 ... 492.9 495.2 497.6 500.0\n",
       "Data variables:\n",
       "    phi      (V, P, x, y) float32 0.0 0.0 0.0 0.0 ... 0.6661 0.6107 0.515 0.1713\n",
       "    ne       (V, P, x, y) float32 0.0 0.0 0.0 0.0 ... 0.01713 0.008433 0.0 0.0\n",
       "    ni       (V, P, x, y) float32 0.0 0.0 0.0 0.0 ... 0.01228 0.001723 0.01858\n",
       "    nm       (V, P, x, y) float32 0.0 0.0 0.0 0.0 0.0 ... 0.0 0.0 0.0 0.0 0.0\n",
       "    te       (V, P, x, y) float32 0.0 0.0 0.0 0.0 ... 0.2825 0.25 0.2064 0.114\n",
       "Attributes:\n",
       "    description:  Plasma image predictions by ImageMLP version A64j"
      ]
     },
     "execution_count": 24,
     "metadata": {},
     "output_type": "execute_result"
    }
   ],
   "source": [
    "v_range=range(200, 550, 50)\n",
    "p_range=range(5, 125, 10)\n",
    "prediction = ImagePrediction(v_range, p_range)\n",
    "ds = prediction.ds\n",
    "ds"
   ]
  },
  {
   "cell_type": "code",
   "execution_count": 25,
   "metadata": {},
   "outputs": [],
   "source": [
    "# save a plot for all variables\n",
    "# [prediction.plot_variable(variable, out_dir=Path('/Users/jarl/2d-discharge-nn/pca')) for variable in list(ds.data_vars)]"
   ]
  },
  {
   "cell_type": "markdown",
   "metadata": {},
   "source": [
    "To perform PCA, we need to get a set of model predictions along one input (e.g. P) and convert an image into an input (feature) vector.\n",
    "\n",
    "Choosing a fixed voltage $V=300$,"
   ]
  },
  {
   "cell_type": "code",
   "execution_count": 26,
   "metadata": {
    "scrolled": true
   },
   "outputs": [
    {
     "data": {
      "text/html": [
       "<div><svg style=\"position: absolute; width: 0; height: 0; overflow: hidden\">\n",
       "<defs>\n",
       "<symbol id=\"icon-database\" viewBox=\"0 0 32 32\">\n",
       "<path d=\"M16 0c-8.837 0-16 2.239-16 5v4c0 2.761 7.163 5 16 5s16-2.239 16-5v-4c0-2.761-7.163-5-16-5z\"></path>\n",
       "<path d=\"M16 17c-8.837 0-16-2.239-16-5v6c0 2.761 7.163 5 16 5s16-2.239 16-5v-6c0 2.761-7.163 5-16 5z\"></path>\n",
       "<path d=\"M16 26c-8.837 0-16-2.239-16-5v6c0 2.761 7.163 5 16 5s16-2.239 16-5v-6c0 2.761-7.163 5-16 5z\"></path>\n",
       "</symbol>\n",
       "<symbol id=\"icon-file-text2\" viewBox=\"0 0 32 32\">\n",
       "<path d=\"M28.681 7.159c-0.694-0.947-1.662-2.053-2.724-3.116s-2.169-2.030-3.116-2.724c-1.612-1.182-2.393-1.319-2.841-1.319h-15.5c-1.378 0-2.5 1.121-2.5 2.5v27c0 1.378 1.122 2.5 2.5 2.5h23c1.378 0 2.5-1.122 2.5-2.5v-19.5c0-0.448-0.137-1.23-1.319-2.841zM24.543 5.457c0.959 0.959 1.712 1.825 2.268 2.543h-4.811v-4.811c0.718 0.556 1.584 1.309 2.543 2.268zM28 29.5c0 0.271-0.229 0.5-0.5 0.5h-23c-0.271 0-0.5-0.229-0.5-0.5v-27c0-0.271 0.229-0.5 0.5-0.5 0 0 15.499-0 15.5 0v7c0 0.552 0.448 1 1 1h7v19.5z\"></path>\n",
       "<path d=\"M23 26h-14c-0.552 0-1-0.448-1-1s0.448-1 1-1h14c0.552 0 1 0.448 1 1s-0.448 1-1 1z\"></path>\n",
       "<path d=\"M23 22h-14c-0.552 0-1-0.448-1-1s0.448-1 1-1h14c0.552 0 1 0.448 1 1s-0.448 1-1 1z\"></path>\n",
       "<path d=\"M23 18h-14c-0.552 0-1-0.448-1-1s0.448-1 1-1h14c0.552 0 1 0.448 1 1s-0.448 1-1 1z\"></path>\n",
       "</symbol>\n",
       "</defs>\n",
       "</svg>\n",
       "<style>/* CSS stylesheet for displaying xarray objects in jupyterlab.\n",
       " *\n",
       " */\n",
       "\n",
       ":root {\n",
       "  --xr-font-color0: var(--jp-content-font-color0, rgba(0, 0, 0, 1));\n",
       "  --xr-font-color2: var(--jp-content-font-color2, rgba(0, 0, 0, 0.54));\n",
       "  --xr-font-color3: var(--jp-content-font-color3, rgba(0, 0, 0, 0.38));\n",
       "  --xr-border-color: var(--jp-border-color2, #e0e0e0);\n",
       "  --xr-disabled-color: var(--jp-layout-color3, #bdbdbd);\n",
       "  --xr-background-color: var(--jp-layout-color0, white);\n",
       "  --xr-background-color-row-even: var(--jp-layout-color1, white);\n",
       "  --xr-background-color-row-odd: var(--jp-layout-color2, #eeeeee);\n",
       "}\n",
       "\n",
       "html[theme=dark],\n",
       "body[data-theme=dark],\n",
       "body.vscode-dark {\n",
       "  --xr-font-color0: rgba(255, 255, 255, 1);\n",
       "  --xr-font-color2: rgba(255, 255, 255, 0.54);\n",
       "  --xr-font-color3: rgba(255, 255, 255, 0.38);\n",
       "  --xr-border-color: #1F1F1F;\n",
       "  --xr-disabled-color: #515151;\n",
       "  --xr-background-color: #111111;\n",
       "  --xr-background-color-row-even: #111111;\n",
       "  --xr-background-color-row-odd: #313131;\n",
       "}\n",
       "\n",
       ".xr-wrap {\n",
       "  display: block !important;\n",
       "  min-width: 300px;\n",
       "  max-width: 700px;\n",
       "}\n",
       "\n",
       ".xr-text-repr-fallback {\n",
       "  /* fallback to plain text repr when CSS is not injected (untrusted notebook) */\n",
       "  display: none;\n",
       "}\n",
       "\n",
       ".xr-header {\n",
       "  padding-top: 6px;\n",
       "  padding-bottom: 6px;\n",
       "  margin-bottom: 4px;\n",
       "  border-bottom: solid 1px var(--xr-border-color);\n",
       "}\n",
       "\n",
       ".xr-header > div,\n",
       ".xr-header > ul {\n",
       "  display: inline;\n",
       "  margin-top: 0;\n",
       "  margin-bottom: 0;\n",
       "}\n",
       "\n",
       ".xr-obj-type,\n",
       ".xr-array-name {\n",
       "  margin-left: 2px;\n",
       "  margin-right: 10px;\n",
       "}\n",
       "\n",
       ".xr-obj-type {\n",
       "  color: var(--xr-font-color2);\n",
       "}\n",
       "\n",
       ".xr-sections {\n",
       "  padding-left: 0 !important;\n",
       "  display: grid;\n",
       "  grid-template-columns: 150px auto auto 1fr 20px 20px;\n",
       "}\n",
       "\n",
       ".xr-section-item {\n",
       "  display: contents;\n",
       "}\n",
       "\n",
       ".xr-section-item input {\n",
       "  display: none;\n",
       "}\n",
       "\n",
       ".xr-section-item input + label {\n",
       "  color: var(--xr-disabled-color);\n",
       "}\n",
       "\n",
       ".xr-section-item input:enabled + label {\n",
       "  cursor: pointer;\n",
       "  color: var(--xr-font-color2);\n",
       "}\n",
       "\n",
       ".xr-section-item input:enabled + label:hover {\n",
       "  color: var(--xr-font-color0);\n",
       "}\n",
       "\n",
       ".xr-section-summary {\n",
       "  grid-column: 1;\n",
       "  color: var(--xr-font-color2);\n",
       "  font-weight: 500;\n",
       "}\n",
       "\n",
       ".xr-section-summary > span {\n",
       "  display: inline-block;\n",
       "  padding-left: 0.5em;\n",
       "}\n",
       "\n",
       ".xr-section-summary-in:disabled + label {\n",
       "  color: var(--xr-font-color2);\n",
       "}\n",
       "\n",
       ".xr-section-summary-in + label:before {\n",
       "  display: inline-block;\n",
       "  content: '►';\n",
       "  font-size: 11px;\n",
       "  width: 15px;\n",
       "  text-align: center;\n",
       "}\n",
       "\n",
       ".xr-section-summary-in:disabled + label:before {\n",
       "  color: var(--xr-disabled-color);\n",
       "}\n",
       "\n",
       ".xr-section-summary-in:checked + label:before {\n",
       "  content: '▼';\n",
       "}\n",
       "\n",
       ".xr-section-summary-in:checked + label > span {\n",
       "  display: none;\n",
       "}\n",
       "\n",
       ".xr-section-summary,\n",
       ".xr-section-inline-details {\n",
       "  padding-top: 4px;\n",
       "  padding-bottom: 4px;\n",
       "}\n",
       "\n",
       ".xr-section-inline-details {\n",
       "  grid-column: 2 / -1;\n",
       "}\n",
       "\n",
       ".xr-section-details {\n",
       "  display: none;\n",
       "  grid-column: 1 / -1;\n",
       "  margin-bottom: 5px;\n",
       "}\n",
       "\n",
       ".xr-section-summary-in:checked ~ .xr-section-details {\n",
       "  display: contents;\n",
       "}\n",
       "\n",
       ".xr-array-wrap {\n",
       "  grid-column: 1 / -1;\n",
       "  display: grid;\n",
       "  grid-template-columns: 20px auto;\n",
       "}\n",
       "\n",
       ".xr-array-wrap > label {\n",
       "  grid-column: 1;\n",
       "  vertical-align: top;\n",
       "}\n",
       "\n",
       ".xr-preview {\n",
       "  color: var(--xr-font-color3);\n",
       "}\n",
       "\n",
       ".xr-array-preview,\n",
       ".xr-array-data {\n",
       "  padding: 0 5px !important;\n",
       "  grid-column: 2;\n",
       "}\n",
       "\n",
       ".xr-array-data,\n",
       ".xr-array-in:checked ~ .xr-array-preview {\n",
       "  display: none;\n",
       "}\n",
       "\n",
       ".xr-array-in:checked ~ .xr-array-data,\n",
       ".xr-array-preview {\n",
       "  display: inline-block;\n",
       "}\n",
       "\n",
       ".xr-dim-list {\n",
       "  display: inline-block !important;\n",
       "  list-style: none;\n",
       "  padding: 0 !important;\n",
       "  margin: 0;\n",
       "}\n",
       "\n",
       ".xr-dim-list li {\n",
       "  display: inline-block;\n",
       "  padding: 0;\n",
       "  margin: 0;\n",
       "}\n",
       "\n",
       ".xr-dim-list:before {\n",
       "  content: '(';\n",
       "}\n",
       "\n",
       ".xr-dim-list:after {\n",
       "  content: ')';\n",
       "}\n",
       "\n",
       ".xr-dim-list li:not(:last-child):after {\n",
       "  content: ',';\n",
       "  padding-right: 5px;\n",
       "}\n",
       "\n",
       ".xr-has-index {\n",
       "  font-weight: bold;\n",
       "}\n",
       "\n",
       ".xr-var-list,\n",
       ".xr-var-item {\n",
       "  display: contents;\n",
       "}\n",
       "\n",
       ".xr-var-item > div,\n",
       ".xr-var-item label,\n",
       ".xr-var-item > .xr-var-name span {\n",
       "  background-color: var(--xr-background-color-row-even);\n",
       "  margin-bottom: 0;\n",
       "}\n",
       "\n",
       ".xr-var-item > .xr-var-name:hover span {\n",
       "  padding-right: 5px;\n",
       "}\n",
       "\n",
       ".xr-var-list > li:nth-child(odd) > div,\n",
       ".xr-var-list > li:nth-child(odd) > label,\n",
       ".xr-var-list > li:nth-child(odd) > .xr-var-name span {\n",
       "  background-color: var(--xr-background-color-row-odd);\n",
       "}\n",
       "\n",
       ".xr-var-name {\n",
       "  grid-column: 1;\n",
       "}\n",
       "\n",
       ".xr-var-dims {\n",
       "  grid-column: 2;\n",
       "}\n",
       "\n",
       ".xr-var-dtype {\n",
       "  grid-column: 3;\n",
       "  text-align: right;\n",
       "  color: var(--xr-font-color2);\n",
       "}\n",
       "\n",
       ".xr-var-preview {\n",
       "  grid-column: 4;\n",
       "}\n",
       "\n",
       ".xr-index-preview {\n",
       "  grid-column: 2 / 5;\n",
       "  color: var(--xr-font-color2);\n",
       "}\n",
       "\n",
       ".xr-var-name,\n",
       ".xr-var-dims,\n",
       ".xr-var-dtype,\n",
       ".xr-preview,\n",
       ".xr-attrs dt {\n",
       "  white-space: nowrap;\n",
       "  overflow: hidden;\n",
       "  text-overflow: ellipsis;\n",
       "  padding-right: 10px;\n",
       "}\n",
       "\n",
       ".xr-var-name:hover,\n",
       ".xr-var-dims:hover,\n",
       ".xr-var-dtype:hover,\n",
       ".xr-attrs dt:hover {\n",
       "  overflow: visible;\n",
       "  width: auto;\n",
       "  z-index: 1;\n",
       "}\n",
       "\n",
       ".xr-var-attrs,\n",
       ".xr-var-data,\n",
       ".xr-index-data {\n",
       "  display: none;\n",
       "  background-color: var(--xr-background-color) !important;\n",
       "  padding-bottom: 5px !important;\n",
       "}\n",
       "\n",
       ".xr-var-attrs-in:checked ~ .xr-var-attrs,\n",
       ".xr-var-data-in:checked ~ .xr-var-data,\n",
       ".xr-index-data-in:checked ~ .xr-index-data {\n",
       "  display: block;\n",
       "}\n",
       "\n",
       ".xr-var-data > table {\n",
       "  float: right;\n",
       "}\n",
       "\n",
       ".xr-var-name span,\n",
       ".xr-var-data,\n",
       ".xr-index-name div,\n",
       ".xr-index-data,\n",
       ".xr-attrs {\n",
       "  padding-left: 25px !important;\n",
       "}\n",
       "\n",
       ".xr-attrs,\n",
       ".xr-var-attrs,\n",
       ".xr-var-data,\n",
       ".xr-index-data {\n",
       "  grid-column: 1 / -1;\n",
       "}\n",
       "\n",
       "dl.xr-attrs {\n",
       "  padding: 0;\n",
       "  margin: 0;\n",
       "  display: grid;\n",
       "  grid-template-columns: 125px auto;\n",
       "}\n",
       "\n",
       ".xr-attrs dt,\n",
       ".xr-attrs dd {\n",
       "  padding: 0;\n",
       "  margin: 0;\n",
       "  float: left;\n",
       "  padding-right: 10px;\n",
       "  width: auto;\n",
       "}\n",
       "\n",
       ".xr-attrs dt {\n",
       "  font-weight: normal;\n",
       "  grid-column: 1;\n",
       "}\n",
       "\n",
       ".xr-attrs dt:hover span {\n",
       "  display: inline-block;\n",
       "  background: var(--xr-background-color);\n",
       "  padding-right: 10px;\n",
       "}\n",
       "\n",
       ".xr-attrs dd {\n",
       "  grid-column: 2;\n",
       "  white-space: pre-wrap;\n",
       "  word-break: break-all;\n",
       "}\n",
       "\n",
       ".xr-icon-database,\n",
       ".xr-icon-file-text2,\n",
       ".xr-no-icon {\n",
       "  display: inline-block;\n",
       "  vertical-align: middle;\n",
       "  width: 1em;\n",
       "  height: 1.5em !important;\n",
       "  stroke-width: 0;\n",
       "  stroke: currentColor;\n",
       "  fill: currentColor;\n",
       "}\n",
       "</style><pre class='xr-text-repr-fallback'>&lt;xarray.DataArray &#x27;phi&#x27; (P: 12, x: 64, y: 64)&gt;\n",
       "array([[[0.        , 0.        , 0.        , ..., 0.41662443,\n",
       "         0.31386983, 0.12642205],\n",
       "        [0.        , 0.        , 0.        , ..., 0.40883672,\n",
       "         0.2950025 , 0.10611336],\n",
       "        [0.        , 0.        , 0.        , ..., 0.39821935,\n",
       "         0.281913  , 0.13282311],\n",
       "        ...,\n",
       "        [0.5566878 , 0.560298  , 0.55506945, ..., 0.37423533,\n",
       "         0.2617723 , 0.10646617],\n",
       "        [0.53914195, 0.55991864, 0.55655146, ..., 0.36867487,\n",
       "         0.26123634, 0.10758206],\n",
       "        [0.520297  , 0.5574389 , 0.5657735 , ..., 0.37510252,\n",
       "         0.29036856, 0.14280409]],\n",
       "\n",
       "       [[0.        , 0.        , 0.        , ..., 0.42041147,\n",
       "         0.33195522, 0.13942996],\n",
       "        [0.        , 0.        , 0.        , ..., 0.4245817 ,\n",
       "         0.32758743, 0.11448434],\n",
       "        [0.        , 0.        , 0.        , ..., 0.4094042 ,\n",
       "         0.3058986 , 0.13958137],\n",
       "...\n",
       "        [0.35315815, 0.3589873 , 0.3634362 , ..., 0.24704915,\n",
       "         0.18513682, 0.06541626],\n",
       "        [0.3522276 , 0.3575963 , 0.3610842 , ..., 0.21156754,\n",
       "         0.14995205, 0.04768094],\n",
       "        [0.3527523 , 0.3588364 , 0.3601687 , ..., 0.22949071,\n",
       "         0.14658341, 0.0524113 ]],\n",
       "\n",
       "       [[0.        , 0.        , 0.        , ..., 0.31485605,\n",
       "         0.26663965, 0.10375165],\n",
       "        [0.        , 0.        , 0.        , ..., 0.33193704,\n",
       "         0.2841404 , 0.13695586],\n",
       "        [0.        , 0.        , 0.        , ..., 0.31853947,\n",
       "         0.25963342, 0.13967812],\n",
       "        ...,\n",
       "        [0.327774  , 0.33320212, 0.33673453, ..., 0.22421242,\n",
       "         0.16458975, 0.05687872],\n",
       "        [0.32831097, 0.33374998, 0.3354351 , ..., 0.19045837,\n",
       "         0.13191217, 0.040604  ],\n",
       "        [0.33614653, 0.34005898, 0.3398471 , ..., 0.21045125,\n",
       "         0.13230193, 0.05068101]]], dtype=float32)\n",
       "Coordinates:\n",
       "    V        int64 300\n",
       "  * P        (P) int64 5 15 25 35 45 55 65 75 85 95 105 115\n",
       "  * x        (x) float64 0.0 3.175 6.349 9.524 12.7 ... 190.5 193.7 196.8 200.0\n",
       "  * y        (y) float64 350.0 352.4 354.8 357.1 ... 492.9 495.2 497.6 500.0</pre><div class='xr-wrap' style='display:none'><div class='xr-header'><div class='xr-obj-type'>xarray.DataArray</div><div class='xr-array-name'>'phi'</div><ul class='xr-dim-list'><li><span class='xr-has-index'>P</span>: 12</li><li><span class='xr-has-index'>x</span>: 64</li><li><span class='xr-has-index'>y</span>: 64</li></ul></div><ul class='xr-sections'><li class='xr-section-item'><div class='xr-array-wrap'><input id='section-583fa876-8499-4c62-801e-a77ac38559ed' class='xr-array-in' type='checkbox' checked><label for='section-583fa876-8499-4c62-801e-a77ac38559ed' title='Show/hide data repr'><svg class='icon xr-icon-database'><use xlink:href='#icon-database'></use></svg></label><div class='xr-array-preview xr-preview'><span>0.0 0.0 0.0 0.0 0.0 0.0 ... 0.3209 0.2853 0.2476 0.2105 0.1323 0.05068</span></div><div class='xr-array-data'><pre>array([[[0.        , 0.        , 0.        , ..., 0.41662443,\n",
       "         0.31386983, 0.12642205],\n",
       "        [0.        , 0.        , 0.        , ..., 0.40883672,\n",
       "         0.2950025 , 0.10611336],\n",
       "        [0.        , 0.        , 0.        , ..., 0.39821935,\n",
       "         0.281913  , 0.13282311],\n",
       "        ...,\n",
       "        [0.5566878 , 0.560298  , 0.55506945, ..., 0.37423533,\n",
       "         0.2617723 , 0.10646617],\n",
       "        [0.53914195, 0.55991864, 0.55655146, ..., 0.36867487,\n",
       "         0.26123634, 0.10758206],\n",
       "        [0.520297  , 0.5574389 , 0.5657735 , ..., 0.37510252,\n",
       "         0.29036856, 0.14280409]],\n",
       "\n",
       "       [[0.        , 0.        , 0.        , ..., 0.42041147,\n",
       "         0.33195522, 0.13942996],\n",
       "        [0.        , 0.        , 0.        , ..., 0.4245817 ,\n",
       "         0.32758743, 0.11448434],\n",
       "        [0.        , 0.        , 0.        , ..., 0.4094042 ,\n",
       "         0.3058986 , 0.13958137],\n",
       "...\n",
       "        [0.35315815, 0.3589873 , 0.3634362 , ..., 0.24704915,\n",
       "         0.18513682, 0.06541626],\n",
       "        [0.3522276 , 0.3575963 , 0.3610842 , ..., 0.21156754,\n",
       "         0.14995205, 0.04768094],\n",
       "        [0.3527523 , 0.3588364 , 0.3601687 , ..., 0.22949071,\n",
       "         0.14658341, 0.0524113 ]],\n",
       "\n",
       "       [[0.        , 0.        , 0.        , ..., 0.31485605,\n",
       "         0.26663965, 0.10375165],\n",
       "        [0.        , 0.        , 0.        , ..., 0.33193704,\n",
       "         0.2841404 , 0.13695586],\n",
       "        [0.        , 0.        , 0.        , ..., 0.31853947,\n",
       "         0.25963342, 0.13967812],\n",
       "        ...,\n",
       "        [0.327774  , 0.33320212, 0.33673453, ..., 0.22421242,\n",
       "         0.16458975, 0.05687872],\n",
       "        [0.32831097, 0.33374998, 0.3354351 , ..., 0.19045837,\n",
       "         0.13191217, 0.040604  ],\n",
       "        [0.33614653, 0.34005898, 0.3398471 , ..., 0.21045125,\n",
       "         0.13230193, 0.05068101]]], dtype=float32)</pre></div></div></li><li class='xr-section-item'><input id='section-68912a9d-eba6-470e-a926-115983874693' class='xr-section-summary-in' type='checkbox'  checked><label for='section-68912a9d-eba6-470e-a926-115983874693' class='xr-section-summary' >Coordinates: <span>(4)</span></label><div class='xr-section-inline-details'></div><div class='xr-section-details'><ul class='xr-var-list'><li class='xr-var-item'><div class='xr-var-name'><span>V</span></div><div class='xr-var-dims'>()</div><div class='xr-var-dtype'>int64</div><div class='xr-var-preview xr-preview'>300</div><input id='attrs-3b53d156-08e7-407a-9fe2-71fa19373f99' class='xr-var-attrs-in' type='checkbox' disabled><label for='attrs-3b53d156-08e7-407a-9fe2-71fa19373f99' title='Show/Hide attributes'><svg class='icon xr-icon-file-text2'><use xlink:href='#icon-file-text2'></use></svg></label><input id='data-44d3dce0-d68a-41a0-acfc-f26c533df3f3' class='xr-var-data-in' type='checkbox'><label for='data-44d3dce0-d68a-41a0-acfc-f26c533df3f3' title='Show/Hide data repr'><svg class='icon xr-icon-database'><use xlink:href='#icon-database'></use></svg></label><div class='xr-var-attrs'><dl class='xr-attrs'></dl></div><div class='xr-var-data'><pre>array(300)</pre></div></li><li class='xr-var-item'><div class='xr-var-name'><span class='xr-has-index'>P</span></div><div class='xr-var-dims'>(P)</div><div class='xr-var-dtype'>int64</div><div class='xr-var-preview xr-preview'>5 15 25 35 45 ... 75 85 95 105 115</div><input id='attrs-fc027035-8d65-4d41-a128-953ecce93cc8' class='xr-var-attrs-in' type='checkbox' disabled><label for='attrs-fc027035-8d65-4d41-a128-953ecce93cc8' title='Show/Hide attributes'><svg class='icon xr-icon-file-text2'><use xlink:href='#icon-file-text2'></use></svg></label><input id='data-a86d463d-c533-47d3-9627-e2926dfba89a' class='xr-var-data-in' type='checkbox'><label for='data-a86d463d-c533-47d3-9627-e2926dfba89a' title='Show/Hide data repr'><svg class='icon xr-icon-database'><use xlink:href='#icon-database'></use></svg></label><div class='xr-var-attrs'><dl class='xr-attrs'></dl></div><div class='xr-var-data'><pre>array([  5,  15,  25,  35,  45,  55,  65,  75,  85,  95, 105, 115])</pre></div></li><li class='xr-var-item'><div class='xr-var-name'><span class='xr-has-index'>x</span></div><div class='xr-var-dims'>(x)</div><div class='xr-var-dtype'>float64</div><div class='xr-var-preview xr-preview'>0.0 3.175 6.349 ... 196.8 200.0</div><input id='attrs-f179cb91-1eb2-421d-aa7a-38474f9a936e' class='xr-var-attrs-in' type='checkbox' disabled><label for='attrs-f179cb91-1eb2-421d-aa7a-38474f9a936e' title='Show/Hide attributes'><svg class='icon xr-icon-file-text2'><use xlink:href='#icon-file-text2'></use></svg></label><input id='data-fd5ed157-cf50-456a-b44e-9e5b573dc702' class='xr-var-data-in' type='checkbox'><label for='data-fd5ed157-cf50-456a-b44e-9e5b573dc702' title='Show/Hide data repr'><svg class='icon xr-icon-database'><use xlink:href='#icon-database'></use></svg></label><div class='xr-var-attrs'><dl class='xr-attrs'></dl></div><div class='xr-var-data'><pre>array([  0.      ,   3.174603,   6.349206,   9.52381 ,  12.698413,  15.873016,\n",
       "        19.047619,  22.222222,  25.396825,  28.571429,  31.746032,  34.920635,\n",
       "        38.095238,  41.269841,  44.444444,  47.619048,  50.793651,  53.968254,\n",
       "        57.142857,  60.31746 ,  63.492063,  66.666667,  69.84127 ,  73.015873,\n",
       "        76.190476,  79.365079,  82.539683,  85.714286,  88.888889,  92.063492,\n",
       "        95.238095,  98.412698, 101.587302, 104.761905, 107.936508, 111.111111,\n",
       "       114.285714, 117.460317, 120.634921, 123.809524, 126.984127, 130.15873 ,\n",
       "       133.333333, 136.507937, 139.68254 , 142.857143, 146.031746, 149.206349,\n",
       "       152.380952, 155.555556, 158.730159, 161.904762, 165.079365, 168.253968,\n",
       "       171.428571, 174.603175, 177.777778, 180.952381, 184.126984, 187.301587,\n",
       "       190.47619 , 193.650794, 196.825397, 200.      ])</pre></div></li><li class='xr-var-item'><div class='xr-var-name'><span class='xr-has-index'>y</span></div><div class='xr-var-dims'>(y)</div><div class='xr-var-dtype'>float64</div><div class='xr-var-preview xr-preview'>350.0 352.4 354.8 ... 497.6 500.0</div><input id='attrs-a1f6efa5-7615-4d11-ad8c-b9ec381c8622' class='xr-var-attrs-in' type='checkbox' disabled><label for='attrs-a1f6efa5-7615-4d11-ad8c-b9ec381c8622' title='Show/Hide attributes'><svg class='icon xr-icon-file-text2'><use xlink:href='#icon-file-text2'></use></svg></label><input id='data-83186e6d-f907-4e6c-a9b4-3f0c18821602' class='xr-var-data-in' type='checkbox'><label for='data-83186e6d-f907-4e6c-a9b4-3f0c18821602' title='Show/Hide data repr'><svg class='icon xr-icon-database'><use xlink:href='#icon-database'></use></svg></label><div class='xr-var-attrs'><dl class='xr-attrs'></dl></div><div class='xr-var-data'><pre>array([350.      , 352.380952, 354.761905, 357.142857, 359.52381 , 361.904762,\n",
       "       364.285714, 366.666667, 369.047619, 371.428571, 373.809524, 376.190476,\n",
       "       378.571429, 380.952381, 383.333333, 385.714286, 388.095238, 390.47619 ,\n",
       "       392.857143, 395.238095, 397.619048, 400.      , 402.380952, 404.761905,\n",
       "       407.142857, 409.52381 , 411.904762, 414.285714, 416.666667, 419.047619,\n",
       "       421.428571, 423.809524, 426.190476, 428.571429, 430.952381, 433.333333,\n",
       "       435.714286, 438.095238, 440.47619 , 442.857143, 445.238095, 447.619048,\n",
       "       450.      , 452.380952, 454.761905, 457.142857, 459.52381 , 461.904762,\n",
       "       464.285714, 466.666667, 469.047619, 471.428571, 473.809524, 476.190476,\n",
       "       478.571429, 480.952381, 483.333333, 485.714286, 488.095238, 490.47619 ,\n",
       "       492.857143, 495.238095, 497.619048, 500.      ])</pre></div></li></ul></div></li><li class='xr-section-item'><input id='section-8d5b736b-2b26-437d-82a0-b711c9af7f22' class='xr-section-summary-in' type='checkbox'  ><label for='section-8d5b736b-2b26-437d-82a0-b711c9af7f22' class='xr-section-summary' >Indexes: <span>(3)</span></label><div class='xr-section-inline-details'></div><div class='xr-section-details'><ul class='xr-var-list'><li class='xr-var-item'><div class='xr-index-name'><div>P</div></div><div class='xr-index-preview'>PandasIndex</div><div></div><input id='index-0747b9cd-3e65-4cbe-8be3-695c65dabe0e' class='xr-index-data-in' type='checkbox'/><label for='index-0747b9cd-3e65-4cbe-8be3-695c65dabe0e' title='Show/Hide index repr'><svg class='icon xr-icon-database'><use xlink:href='#icon-database'></use></svg></label><div class='xr-index-data'><pre>PandasIndex(Int64Index([5, 15, 25, 35, 45, 55, 65, 75, 85, 95, 105, 115], dtype=&#x27;int64&#x27;, name=&#x27;P&#x27;))</pre></div></li><li class='xr-var-item'><div class='xr-index-name'><div>x</div></div><div class='xr-index-preview'>PandasIndex</div><div></div><input id='index-9385905f-e5f4-4983-b9ad-055082a5b6a3' class='xr-index-data-in' type='checkbox'/><label for='index-9385905f-e5f4-4983-b9ad-055082a5b6a3' title='Show/Hide index repr'><svg class='icon xr-icon-database'><use xlink:href='#icon-database'></use></svg></label><div class='xr-index-data'><pre>PandasIndex(Float64Index([               0.0, 3.1746031746031744,  6.349206349206349,\n",
       "               9.523809523809524, 12.698412698412698, 15.873015873015872,\n",
       "              19.047619047619047,  22.22222222222222, 25.396825396825395,\n",
       "               28.57142857142857, 31.746031746031743,  34.92063492063492,\n",
       "              38.095238095238095, 41.269841269841265,  44.44444444444444,\n",
       "               47.61904761904761,  50.79365079365079,  53.96825396825397,\n",
       "               57.14285714285714, 60.317460317460316,  63.49206349206349,\n",
       "               66.66666666666666,  69.84126984126983,  73.01587301587301,\n",
       "               76.19047619047619,  79.36507936507937,  82.53968253968253,\n",
       "               85.71428571428571,  88.88888888888889,  92.06349206349206,\n",
       "               95.23809523809523,   98.4126984126984, 101.58730158730158,\n",
       "              104.76190476190476, 107.93650793650794,  111.1111111111111,\n",
       "              114.28571428571428, 117.46031746031746, 120.63492063492063,\n",
       "               123.8095238095238, 126.98412698412697, 130.15873015873015,\n",
       "              133.33333333333331,  136.5079365079365, 139.68253968253967,\n",
       "              142.85714285714286, 146.03174603174602,  149.2063492063492,\n",
       "              152.38095238095238, 155.55555555555554, 158.73015873015873,\n",
       "               161.9047619047619, 165.07936507936506, 168.25396825396825,\n",
       "              171.42857142857142, 174.60317460317458, 177.77777777777777,\n",
       "              180.95238095238093, 184.12698412698413,  187.3015873015873,\n",
       "              190.47619047619045, 193.65079365079364,  196.8253968253968,\n",
       "                           200.0],\n",
       "             dtype=&#x27;float64&#x27;, name=&#x27;x&#x27;))</pre></div></li><li class='xr-var-item'><div class='xr-index-name'><div>y</div></div><div class='xr-index-preview'>PandasIndex</div><div></div><input id='index-71651e3b-9a2c-429b-b24d-3a56a8a4d768' class='xr-index-data-in' type='checkbox'/><label for='index-71651e3b-9a2c-429b-b24d-3a56a8a4d768' title='Show/Hide index repr'><svg class='icon xr-icon-database'><use xlink:href='#icon-database'></use></svg></label><div class='xr-index-data'><pre>PandasIndex(Float64Index([             350.0,  352.3809523809524, 354.76190476190476,\n",
       "              357.14285714285717,  359.5238095238095,  361.9047619047619,\n",
       "               364.2857142857143,  366.6666666666667, 369.04761904761904,\n",
       "              371.42857142857144,  373.8095238095238,  376.1904761904762,\n",
       "              378.57142857142856, 380.95238095238096,  383.3333333333333,\n",
       "               385.7142857142857,  388.0952380952381,  390.4761904761905,\n",
       "              392.85714285714283, 395.23809523809524,  397.6190476190476,\n",
       "                           400.0,  402.3809523809524, 404.76190476190476,\n",
       "               407.1428571428571,  409.5238095238095,  411.9047619047619,\n",
       "               414.2857142857143,  416.6666666666667, 419.04761904761904,\n",
       "              421.42857142857144,  423.8095238095238,  426.1904761904762,\n",
       "              428.57142857142856, 430.95238095238096,  433.3333333333333,\n",
       "               435.7142857142857,  438.0952380952381,  440.4761904761905,\n",
       "               442.8571428571429, 445.23809523809524,  447.6190476190476,\n",
       "                           450.0,  452.3809523809524, 454.76190476190476,\n",
       "               457.1428571428571,  459.5238095238095,  461.9047619047619,\n",
       "               464.2857142857143,  466.6666666666667, 469.04761904761904,\n",
       "              471.42857142857144,  473.8095238095238,  476.1904761904762,\n",
       "              478.57142857142856, 480.95238095238096, 483.33333333333337,\n",
       "               485.7142857142857,  488.0952380952381,  490.4761904761905,\n",
       "               492.8571428571429, 495.23809523809524,  497.6190476190476,\n",
       "                           500.0],\n",
       "             dtype=&#x27;float64&#x27;, name=&#x27;y&#x27;))</pre></div></li></ul></div></li><li class='xr-section-item'><input id='section-9219d1be-6492-4803-ab10-708e3a77f79c' class='xr-section-summary-in' type='checkbox' disabled ><label for='section-9219d1be-6492-4803-ab10-708e3a77f79c' class='xr-section-summary'  title='Expand/collapse section'>Attributes: <span>(0)</span></label><div class='xr-section-inline-details'></div><div class='xr-section-details'><dl class='xr-attrs'></dl></div></li></ul></div></div>"
      ],
      "text/plain": [
       "<xarray.DataArray 'phi' (P: 12, x: 64, y: 64)>\n",
       "array([[[0.        , 0.        , 0.        , ..., 0.41662443,\n",
       "         0.31386983, 0.12642205],\n",
       "        [0.        , 0.        , 0.        , ..., 0.40883672,\n",
       "         0.2950025 , 0.10611336],\n",
       "        [0.        , 0.        , 0.        , ..., 0.39821935,\n",
       "         0.281913  , 0.13282311],\n",
       "        ...,\n",
       "        [0.5566878 , 0.560298  , 0.55506945, ..., 0.37423533,\n",
       "         0.2617723 , 0.10646617],\n",
       "        [0.53914195, 0.55991864, 0.55655146, ..., 0.36867487,\n",
       "         0.26123634, 0.10758206],\n",
       "        [0.520297  , 0.5574389 , 0.5657735 , ..., 0.37510252,\n",
       "         0.29036856, 0.14280409]],\n",
       "\n",
       "       [[0.        , 0.        , 0.        , ..., 0.42041147,\n",
       "         0.33195522, 0.13942996],\n",
       "        [0.        , 0.        , 0.        , ..., 0.4245817 ,\n",
       "         0.32758743, 0.11448434],\n",
       "        [0.        , 0.        , 0.        , ..., 0.4094042 ,\n",
       "         0.3058986 , 0.13958137],\n",
       "...\n",
       "        [0.35315815, 0.3589873 , 0.3634362 , ..., 0.24704915,\n",
       "         0.18513682, 0.06541626],\n",
       "        [0.3522276 , 0.3575963 , 0.3610842 , ..., 0.21156754,\n",
       "         0.14995205, 0.04768094],\n",
       "        [0.3527523 , 0.3588364 , 0.3601687 , ..., 0.22949071,\n",
       "         0.14658341, 0.0524113 ]],\n",
       "\n",
       "       [[0.        , 0.        , 0.        , ..., 0.31485605,\n",
       "         0.26663965, 0.10375165],\n",
       "        [0.        , 0.        , 0.        , ..., 0.33193704,\n",
       "         0.2841404 , 0.13695586],\n",
       "        [0.        , 0.        , 0.        , ..., 0.31853947,\n",
       "         0.25963342, 0.13967812],\n",
       "        ...,\n",
       "        [0.327774  , 0.33320212, 0.33673453, ..., 0.22421242,\n",
       "         0.16458975, 0.05687872],\n",
       "        [0.32831097, 0.33374998, 0.3354351 , ..., 0.19045837,\n",
       "         0.13191217, 0.040604  ],\n",
       "        [0.33614653, 0.34005898, 0.3398471 , ..., 0.21045125,\n",
       "         0.13230193, 0.05068101]]], dtype=float32)\n",
       "Coordinates:\n",
       "    V        int64 300\n",
       "  * P        (P) int64 5 15 25 35 45 55 65 75 85 95 105 115\n",
       "  * x        (x) float64 0.0 3.175 6.349 9.524 12.7 ... 190.5 193.7 196.8 200.0\n",
       "  * y        (y) float64 350.0 352.4 354.8 357.1 ... 492.9 495.2 497.6 500.0"
      ]
     },
     "execution_count": 26,
     "metadata": {},
     "output_type": "execute_result"
    }
   ],
   "source": [
    "pca_test = ds['phi'].sel(V=300)\n",
    "pca_test"
   ]
  },
  {
   "cell_type": "code",
   "execution_count": 27,
   "metadata": {
    "scrolled": true
   },
   "outputs": [
    {
     "data": {
      "text/plain": [
       "(12, 64, 64)"
      ]
     },
     "execution_count": 27,
     "metadata": {},
     "output_type": "execute_result"
    }
   ],
   "source": [
    "pca_test.values.shape"
   ]
  },
  {
   "cell_type": "markdown",
   "metadata": {},
   "source": [
    "Now these images need to be converted into a single dimensional vector, and then standardized to a mean $\\mu = 0$ and variance $\\sigma= 1$"
   ]
  },
  {
   "cell_type": "code",
   "execution_count": 28,
   "metadata": {},
   "outputs": [
    {
     "data": {
      "text/plain": [
       "(12, 4096)"
      ]
     },
     "execution_count": 28,
     "metadata": {},
     "output_type": "execute_result"
    }
   ],
   "source": [
    "pca_test.values.reshape(pca_test.values.shape[0], 4096).shape"
   ]
  },
  {
   "cell_type": "code",
   "execution_count": 29,
   "metadata": {},
   "outputs": [],
   "source": [
    "X = pca_test.values.reshape(pca_test.values.shape[0], 4096)\n",
    "X = (X-X.mean())/X.std()"
   ]
  },
  {
   "cell_type": "markdown",
   "metadata": {},
   "source": [
    "When performing the actual PCA, we choose 2 components to get a 2D scatter plot of the input images."
   ]
  },
  {
   "cell_type": "code",
   "execution_count": 30,
   "metadata": {},
   "outputs": [
    {
     "data": {
      "text/html": [
       "<style>#sk-container-id-1 {color: black;background-color: white;}#sk-container-id-1 pre{padding: 0;}#sk-container-id-1 div.sk-toggleable {background-color: white;}#sk-container-id-1 label.sk-toggleable__label {cursor: pointer;display: block;width: 100%;margin-bottom: 0;padding: 0.3em;box-sizing: border-box;text-align: center;}#sk-container-id-1 label.sk-toggleable__label-arrow:before {content: \"▸\";float: left;margin-right: 0.25em;color: #696969;}#sk-container-id-1 label.sk-toggleable__label-arrow:hover:before {color: black;}#sk-container-id-1 div.sk-estimator:hover label.sk-toggleable__label-arrow:before {color: black;}#sk-container-id-1 div.sk-toggleable__content {max-height: 0;max-width: 0;overflow: hidden;text-align: left;background-color: #f0f8ff;}#sk-container-id-1 div.sk-toggleable__content pre {margin: 0.2em;color: black;border-radius: 0.25em;background-color: #f0f8ff;}#sk-container-id-1 input.sk-toggleable__control:checked~div.sk-toggleable__content {max-height: 200px;max-width: 100%;overflow: auto;}#sk-container-id-1 input.sk-toggleable__control:checked~label.sk-toggleable__label-arrow:before {content: \"▾\";}#sk-container-id-1 div.sk-estimator input.sk-toggleable__control:checked~label.sk-toggleable__label {background-color: #d4ebff;}#sk-container-id-1 div.sk-label input.sk-toggleable__control:checked~label.sk-toggleable__label {background-color: #d4ebff;}#sk-container-id-1 input.sk-hidden--visually {border: 0;clip: rect(1px 1px 1px 1px);clip: rect(1px, 1px, 1px, 1px);height: 1px;margin: -1px;overflow: hidden;padding: 0;position: absolute;width: 1px;}#sk-container-id-1 div.sk-estimator {font-family: monospace;background-color: #f0f8ff;border: 1px dotted black;border-radius: 0.25em;box-sizing: border-box;margin-bottom: 0.5em;}#sk-container-id-1 div.sk-estimator:hover {background-color: #d4ebff;}#sk-container-id-1 div.sk-parallel-item::after {content: \"\";width: 100%;border-bottom: 1px solid gray;flex-grow: 1;}#sk-container-id-1 div.sk-label:hover label.sk-toggleable__label {background-color: #d4ebff;}#sk-container-id-1 div.sk-serial::before {content: \"\";position: absolute;border-left: 1px solid gray;box-sizing: border-box;top: 0;bottom: 0;left: 50%;z-index: 0;}#sk-container-id-1 div.sk-serial {display: flex;flex-direction: column;align-items: center;background-color: white;padding-right: 0.2em;padding-left: 0.2em;position: relative;}#sk-container-id-1 div.sk-item {position: relative;z-index: 1;}#sk-container-id-1 div.sk-parallel {display: flex;align-items: stretch;justify-content: center;background-color: white;position: relative;}#sk-container-id-1 div.sk-item::before, #sk-container-id-1 div.sk-parallel-item::before {content: \"\";position: absolute;border-left: 1px solid gray;box-sizing: border-box;top: 0;bottom: 0;left: 50%;z-index: -1;}#sk-container-id-1 div.sk-parallel-item {display: flex;flex-direction: column;z-index: 1;position: relative;background-color: white;}#sk-container-id-1 div.sk-parallel-item:first-child::after {align-self: flex-end;width: 50%;}#sk-container-id-1 div.sk-parallel-item:last-child::after {align-self: flex-start;width: 50%;}#sk-container-id-1 div.sk-parallel-item:only-child::after {width: 0;}#sk-container-id-1 div.sk-dashed-wrapped {border: 1px dashed gray;margin: 0 0.4em 0.5em 0.4em;box-sizing: border-box;padding-bottom: 0.4em;background-color: white;}#sk-container-id-1 div.sk-label label {font-family: monospace;font-weight: bold;display: inline-block;line-height: 1.2em;}#sk-container-id-1 div.sk-label-container {text-align: center;}#sk-container-id-1 div.sk-container {/* jupyter's `normalize.less` sets `[hidden] { display: none; }` but bootstrap.min.css set `[hidden] { display: none !important; }` so we also need the `!important` here to be able to override the default hidden behavior on the sphinx rendered scikit-learn.org. See: https://github.com/scikit-learn/scikit-learn/issues/21755 */display: inline-block !important;position: relative;}#sk-container-id-1 div.sk-text-repr-fallback {display: none;}</style><div id=\"sk-container-id-1\" class=\"sk-top-container\"><div class=\"sk-text-repr-fallback\"><pre>PCA(n_components=2)</pre><b>In a Jupyter environment, please rerun this cell to show the HTML representation or trust the notebook. <br />On GitHub, the HTML representation is unable to render, please try loading this page with nbviewer.org.</b></div><div class=\"sk-container\" hidden><div class=\"sk-item\"><div class=\"sk-estimator sk-toggleable\"><input class=\"sk-toggleable__control sk-hidden--visually\" id=\"sk-estimator-id-1\" type=\"checkbox\" checked><label for=\"sk-estimator-id-1\" class=\"sk-toggleable__label sk-toggleable__label-arrow\">PCA</label><div class=\"sk-toggleable__content\"><pre>PCA(n_components=2)</pre></div></div></div></div></div>"
      ],
      "text/plain": [
       "PCA(n_components=2)"
      ]
     },
     "execution_count": 30,
     "metadata": {},
     "output_type": "execute_result"
    }
   ],
   "source": [
    "from sklearn.decomposition import PCA\n",
    "pca = PCA(n_components=2)\n",
    "pca.fit(X)"
   ]
  },
  {
   "cell_type": "code",
   "execution_count": 31,
   "metadata": {},
   "outputs": [
    {
     "name": "stdout",
     "output_type": "stream",
     "text": [
      "[0.9706975  0.02657739]\n"
     ]
    }
   ],
   "source": [
    "print(pca.explained_variance_ratio_)"
   ]
  },
  {
   "cell_type": "markdown",
   "metadata": {},
   "source": [
    "This means that the first and second components explain 97% and 2.6% of the variance, respectively."
   ]
  },
  {
   "cell_type": "code",
   "execution_count": 32,
   "metadata": {
    "scrolled": false
   },
   "outputs": [
    {
     "name": "stdout",
     "output_type": "stream",
     "text": [
      "[57.911922  9.582574]\n"
     ]
    }
   ],
   "source": [
    "print(pca.singular_values_)"
   ]
  },
  {
   "cell_type": "markdown",
   "metadata": {},
   "source": [
    "I'm not sure what this means...\n",
    "\n",
    "Now we get the coordinates of each image when projected along the first two principal components:"
   ]
  },
  {
   "cell_type": "code",
   "execution_count": 33,
   "metadata": {},
   "outputs": [],
   "source": [
    "transformed = pca.transform(X)"
   ]
  },
  {
   "cell_type": "code",
   "execution_count": 34,
   "metadata": {},
   "outputs": [
    {
     "data": {
      "text/plain": [
       "array([[ 29.812744  ,   5.954329  ],\n",
       "       [ 21.502941  ,   2.1301377 ],\n",
       "       [ 16.210602  ,  -2.648286  ],\n",
       "       [ 11.650815  ,  -3.0811312 ],\n",
       "       [  6.436179  ,  -3.2830708 ],\n",
       "       [  1.6620548 ,  -3.018926  ],\n",
       "       [ -4.817379  ,  -1.5413998 ],\n",
       "       [ -8.772519  ,  -0.48951513],\n",
       "       [-11.910208  ,   0.2309106 ],\n",
       "       [-16.20343   ,   1.0568631 ],\n",
       "       [-19.87549   ,   1.7746568 ],\n",
       "       [-25.696312  ,   2.9154327 ]], dtype=float32)"
      ]
     },
     "execution_count": 34,
     "metadata": {},
     "output_type": "execute_result"
    }
   ],
   "source": [
    "transformed"
   ]
  },
  {
   "cell_type": "code",
   "execution_count": 35,
   "metadata": {},
   "outputs": [
    {
     "data": {
      "text/plain": [
       "Text(0.5, 1.0, 'Voltage = 300 V')"
      ]
     },
     "execution_count": 35,
     "metadata": {},
     "output_type": "execute_result"
    },
    {
     "data": {
      "image/png": "[encoded data removed]",
      "text/plain": [
       "<Figure size 640x480 with 2 Axes>"
      ]
     },
     "metadata": {},
     "output_type": "display_data"
    }
   ],
   "source": [
    "%matplotlib inline\n",
    "from matplotlib import cm\n",
    "\n",
    "cmap = cm.get_cmap('magma', len(p_range))\n",
    "norm = cm.colors.Normalize(vmax=max(p_range), vmin=min(p_range))\n",
    "\n",
    "fig, ax = plt.subplots()\n",
    "sc = ax.scatter(transformed[:, 0], transformed[:, 1], c=p_range, cmap=cmap, norm=norm)\n",
    "cb = plt.colorbar(sc, spacing='proportional')\n",
    "cb.set_label('Pressure [Pa]')\n",
    "cb.set_ticks(p_range)\n",
    "\n",
    "ax.set_xlabel('First principal component')\n",
    "ax.set_ylabel('Second principal component')\n",
    "ax.set_title('Voltage = 300 V')"
   ]
  },
  {
   "cell_type": "code",
   "execution_count": 36,
   "metadata": {},
   "outputs": [],
   "source": [
    "fig.savefig('300V_pca.png', dpi=300, bbox_inches='tight')"
   ]
  },
  {
   "cell_type": "markdown",
   "metadata": {},
   "source": [
    "We can plot the contribution of each of the input features (pixels) to the first principal component:"
   ]
  },
  {
   "cell_type": "code",
   "execution_count": 37,
   "metadata": {
    "scrolled": false
   },
   "outputs": [
    {
     "data": {
      "text/plain": [
       "(2, 4096)"
      ]
     },
     "execution_count": 37,
     "metadata": {},
     "output_type": "execute_result"
    }
   ],
   "source": [
    "pca.components_.shape"
   ]
  },
  {
   "cell_type": "code",
   "execution_count": 38,
   "metadata": {},
   "outputs": [],
   "source": [
    "comps = pca.components_"
   ]
  },
  {
   "cell_type": "code",
   "execution_count": 39,
   "metadata": {},
   "outputs": [
    {
     "data": {
      "image/png": "[encoded data removed]",
      "text/plain": [
       "<Figure size 640x480 with 2 Axes>"
      ]
     },
     "metadata": {},
     "output_type": "display_data"
    }
   ],
   "source": [
    "fig, ax = plt.subplots()\n",
    "heatmap = ax.imshow(comps[0].reshape(64, 64), origin='lower', cmap='RdBu_r',\n",
    "                   vmin=-comps[0].max(), vmax=comps[0].max())\n",
    "cb = plt.colorbar(heatmap)\n",
    "fig.savefig('pca_1.png')"
   ]
  },
  {
   "cell_type": "code",
   "execution_count": 40,
   "metadata": {},
   "outputs": [],
   "source": [
    "Xorg = pca_test.values.reshape(pca_test.values.shape[0], 4096)"
   ]
  },
  {
   "cell_type": "code",
   "execution_count": 42,
   "metadata": {},
   "outputs": [
    {
     "data": {
      "text/plain": [
       "0.35638642"
      ]
     },
     "execution_count": 42,
     "metadata": {},
     "output_type": "execute_result"
    }
   ],
   "source": [
    "Xorg.mean()"
   ]
  },
  {
   "cell_type": "code",
   "execution_count": 43,
   "metadata": {},
   "outputs": [
    {
     "data": {
      "text/plain": [
       "(4096, 4096)"
      ]
     },
     "execution_count": 43,
     "metadata": {},
     "output_type": "execute_result"
    }
   ],
   "source": [
    "pca.get_covariance().shape"
   ]
  },
  {
   "cell_type": "markdown",
   "metadata": {},
   "source": [
    "Now, let's try to do the PCA analysis across the entire ranges of V and P"
   ]
  },
  {
   "cell_type": "code",
   "execution_count": 59,
   "metadata": {},
   "outputs": [],
   "source": [
    "def pca(prediction:ImagePrediction, which='p'):\n",
    "    \"\"\"\n",
    "    prediction: ImagePrediction\n",
    "    which: 'p' along pressure or 'v' along voltage\n",
    "    \"\"\"\n",
    "    v_range = prediction.v_range\n",
    "    p_range = prediction.p_range\n",
    "    ds = prediction.ds\n",
    "        \n",
    "    def pca_transform(pv):\n",
    "        # slice to get the data\n",
    "        if which == 'p':\n",
    "            xdata = ds['phi'].sel(V=pv)\n",
    "        elif which == 'v':\n",
    "            xdata = ds['phi'].sel(P=pv)\n",
    "        \n",
    "        X = xdata.values.reshape(xdata.values.shape[0], 4096)\n",
    "        X = (X-X.mean())/X.std()\n",
    "        \n",
    "        pca = PCA(n_components=2)\n",
    "        pca.fit(X)\n",
    "        \n",
    "        # variance_ratio = pca.explained_variance_ratio_\n",
    "        \n",
    "        return pca.transform(X)\n",
    "    \n",
    "    if which == 'p':\n",
    "        return np.stack([pca_transform(v) for v in v_range])\n",
    "    elif which == 'v':\n",
    "        return np.stack([pca_transform(p) for p in p_range]) "
   ]
  },
  {
   "cell_type": "code",
   "execution_count": 60,
   "metadata": {},
   "outputs": [],
   "source": [
    "pcadata = pca(prediction)"
   ]
  },
  {
   "cell_type": "code",
   "execution_count": 61,
   "metadata": {},
   "outputs": [
    {
     "data": {
      "text/plain": [
       "(7, 12, 2)"
      ]
     },
     "execution_count": 61,
     "metadata": {},
     "output_type": "execute_result"
    }
   ],
   "source": [
    "pcadata.shape"
   ]
  },
  {
   "cell_type": "code",
   "execution_count": 72,
   "metadata": {},
   "outputs": [],
   "source": [
    "def pca_plot(data, which='p'):\n",
    "    \n",
    "    if which == 'p':\n",
    "        varrange = p_range\n",
    "        label = 'Pressure [Pa]'\n",
    "        \n",
    "    elif which == 'v':\n",
    "        varrange = v_range\n",
    "        label = 'Voltage [V]'\n",
    "        \n",
    "    \n",
    "    cmap = cm.get_cmap('magma', len(varrange))\n",
    "    norm = cm.colors.Normalize(vmax=max(varrange), vmin=min(varrange))\n",
    "\n",
    "    fig, ax = plt.subplots()\n",
    "\n",
    "    for var in range(data.shape[0]):\n",
    "        sc = ax.scatter(data[var, :, 0], data[var, :, 1], c=varrange, cmap=cmap, norm=norm)\n",
    "    \n",
    "    cb = plt.colorbar(sc, spacing='proportional')\n",
    "    cb.set_label(label)\n",
    "    cb.set_ticks(varrange)\n",
    "    \n",
    "    ax.set_xlabel('First principal component')\n",
    "    ax.set_ylabel('Second principal component')"
   ]
  },
  {
   "cell_type": "code",
   "execution_count": 63,
   "metadata": {},
   "outputs": [
    {
     "data": {
      "image/png": "[encoded data removed]",
      "text/plain": [
       "<Figure size 640x480 with 2 Axes>"
      ]
     },
     "metadata": {},
     "output_type": "display_data"
    }
   ],
   "source": [
    "%matplotlib inline\n",
    "pca_plot(pcadata)"
   ]
  },
  {
   "cell_type": "code",
   "execution_count": 64,
   "metadata": {},
   "outputs": [
    {
     "data": {
      "image/png": "[encoded data removed]",
      "text/plain": [
       "<Figure size 640x480 with 2 Axes>"
      ]
     },
     "metadata": {},
     "output_type": "display_data"
    }
   ],
   "source": [
    "pca_plot(pcadata, which='v')"
   ]
  },
  {
   "cell_type": "code",
   "execution_count": 71,
   "metadata": {},
   "outputs": [
    {
     "data": {
      "text/plain": [
       "(12, 7, 2)"
      ]
     },
     "execution_count": 71,
     "metadata": {},
     "output_type": "execute_result"
    }
   ],
   "source": [
    "pcadata_v = pca(prediction, 'v')\n",
    "pcadata_v.shape"
   ]
  },
  {
   "cell_type": "code",
   "execution_count": 73,
   "metadata": {},
   "outputs": [
    {
     "data": {
      "image/png": "[encoded data removed]",
      "text/plain": [
       "<Figure size 640x480 with 2 Axes>"
      ]
     },
     "metadata": {},
     "output_type": "display_data"
    }
   ],
   "source": [
    "pca_plot(pcadata_v, 'v')"
   ]
  },
  {
   "cell_type": "code",
   "execution_count": null,
   "metadata": {},
   "outputs": [],
   "source": []
  }
 ],
 "metadata": {
  "kernelspec": {
   "display_name": "Python 3 (ipykernel)",
   "language": "python",
   "name": "python3"
  },
  "language_info": {
   "codemirror_mode": {
    "name": "ipython",
    "version": 3
   },
   "file_extension": ".py",
   "mimetype": "text/x-python",
   "name": "python",
   "nbconvert_exporter": "python",
   "pygments_lexer": "ipython3",
   "version": "3.10.9"
  }
 },
 "nbformat": 4,
 "nbformat_minor": 2
}
